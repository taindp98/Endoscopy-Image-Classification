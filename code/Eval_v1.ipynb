{
 "cells": [
  {
   "cell_type": "code",
   "execution_count": 1,
   "metadata": {
    "tags": []
   },
   "outputs": [],
   "source": [
    "%load_ext autoreload\n",
    "%autoreload 2"
   ]
  },
  {
   "cell_type": "code",
   "execution_count": 2,
   "metadata": {
    "tags": []
   },
   "outputs": [],
   "source": [
    "# !pip install fastai==1.0.61"
   ]
  },
  {
   "cell_type": "code",
   "execution_count": 3,
   "metadata": {
    "tags": []
   },
   "outputs": [],
   "source": [
    "# !pip install timm"
   ]
  },
  {
   "cell_type": "code",
   "execution_count": 4,
   "metadata": {
    "tags": []
   },
   "outputs": [],
   "source": [
    "from fastai.vision import *\n",
    "from fastai.callbacks.hooks import *\n",
    "from PIL import Image\n",
    "import os\n",
    "from glob import glob\n",
    "import cv2\n",
    "from tqdm import tqdm\n",
    "import multiprocessing as mp\n",
    "import pandas as pd\n",
    "from matplotlib import pyplot as plt\n",
    "from torchvision import transforms\n",
    "import timm\n",
    "\n",
    "import torch.nn.functional as F\n"
   ]
  },
  {
   "cell_type": "code",
   "execution_count": 5,
   "metadata": {
    "tags": []
   },
   "outputs": [],
   "source": [
    "# %cd /kaggle/working/\n",
    "# !rm -rf Endoscopy-Image-Classification\n",
    "# !git clone https://github.com/taindp98/Endoscopy-Image-Classification.git\n",
    "# %cd './Endoscopy-Image-Classification/code'"
   ]
  },
  {
   "cell_type": "code",
   "execution_count": 6,
   "metadata": {
    "tags": []
   },
   "outputs": [],
   "source": [
    "from utils import show_batch, AverageMeter, show_grid, get_config, show_imgs\n",
    "from fixmatch import FixMatch\n",
    "from comatch import CoMatch\n",
    "from supervised import SupLearning\n",
    "from semiformer import SemiFormer\n",
    "from dataset import get_data\n",
    "from build import build_model"
   ]
  },
  {
   "cell_type": "markdown",
   "metadata": {},
   "source": [
    "### Supervised Learning Re-produce"
   ]
  },
  {
   "cell_type": "code",
   "execution_count": 7,
   "metadata": {
    "tags": []
   },
   "outputs": [],
   "source": [
    "# config = get_config('./configs/kaggle_reproduce.yaml')\n",
    "# df_anno = pd.read_csv(config['DATA']['ANNO'])\n",
    "# df_unanno = None\n",
    "# train_dl, valid_dl = get_data(config, df_anno, df_unanno, is_visual=True, is_reprod =True)\n",
    "# model = build_model(config, is_pathology = True)"
   ]
  },
  {
   "cell_type": "markdown",
   "metadata": {},
   "source": [
    "### Supervised Learning Abnormalities"
   ]
  },
  {
   "cell_type": "code",
   "execution_count": 8,
   "metadata": {
    "tags": []
   },
   "outputs": [],
   "source": [
    "# config = get_config('./configs/kaggle_supervised_abnorm.yaml')\n",
    "# df_anno = pd.read_csv(config['DATA']['ANNO'])\n",
    "# df_unanno = pd.read_csv(config['DATA']['UNANNO'])\n",
    "# train_dl, valid_dl = get_data(config, \n",
    "#                               df_anno, \n",
    "#                               df_unanno, \n",
    "# #                               is_full_sup = False, \n",
    "#                               is_visual=True)\n",
    "\n",
    "# ## generate prediction abnormalities\n",
    "# unlabeled_dl = get_data(config, df_anno, df_unanno, is_visual=True, predict = True)\n",
    "# model = build_model(config, is_pathology = False)"
   ]
  },
  {
   "cell_type": "markdown",
   "metadata": {},
   "source": [
    "### Supervised Learning Pathologies"
   ]
  },
  {
   "cell_type": "code",
   "execution_count": null,
   "metadata": {
    "tags": []
   },
   "outputs": [],
   "source": [
    "config = get_config('./configs/local_supervised.yaml')\n",
    "df_anno = pd.read_csv(config['DATA']['ANNO'])\n",
    "df_unanno = None\n",
    "train_dl, valid_dl, mixup_fn = get_data(config, df_anno, df_unanno, is_visual=True)\n",
    "model = build_model(config, is_pathology = True)"
   ]
  },
  {
   "cell_type": "markdown",
   "metadata": {},
   "source": [
    "### Semi-supervised Learning"
   ]
  },
  {
   "cell_type": "code",
   "execution_count": null,
   "metadata": {},
   "outputs": [],
   "source": [
    "# config = get_config('./configs/kaggle_semisupervised_real_1.yaml')\n",
    "# df_anno = pd.read_csv(config['DATA']['ANNO'])\n",
    "# df_unanno = pd.read_csv(config['DATA']['UNANNO'])\n",
    "# train_dl, valid_dl = get_data(config, \n",
    "#                               df_anno, \n",
    "#                               df_unanno, \n",
    "#                               is_full_sup = False, \n",
    "#                               is_visual=True, \n",
    "#                               type_semi = config.MODEL.TYPE_SEMI)\n",
    "\n",
    "# model = build_model(config, is_pathology = True)"
   ]
  },
  {
   "cell_type": "code",
   "execution_count": null,
   "metadata": {
    "tags": []
   },
   "outputs": [],
   "source": [
    "if torch.cuda.is_available():\n",
    "    device = torch.device('cuda')\n",
    "else:\n",
    "    device = torch.device('cpu')"
   ]
  },
  {
   "cell_type": "code",
   "execution_count": null,
   "metadata": {
    "tags": []
   },
   "outputs": [],
   "source": [
    "if config.TRAIN.IS_SSL:\n",
    "    if config.MODEL.TYPE_SEMI == 'FixMatch':\n",
    "        classifier = FixMatch(model = model,\n",
    "                          opt_func=config['TRAIN']['OPT_NAME'], \n",
    "                          device = device)\n",
    "    elif config.MODEL.TYPE_SEMI == 'CoMatch':\n",
    "        classifier = CoMatch(model = model,\n",
    "                          opt_func=config['TRAIN']['OPT_NAME'], \n",
    "                          device = device)\n",
    "    elif config.MODEL.TYPE_SEMI == 'SemiFormer':\n",
    "        classifier = SemiFormer(model = model,\n",
    "                          opt_func=config['TRAIN']['OPT_NAME'], \n",
    "                          device = device)\n",
    "else:\n",
    "    classifier = SupLearning(model = model,\n",
    "                          opt_func=config['TRAIN']['OPT_NAME'], \n",
    "                          device = device)\n",
    "    \n",
    "classifier.get_dataloader(train_dl, valid_dl, mixup_fn)\n",
    "classifier.get_config(config)"
   ]
  },
  {
   "cell_type": "code",
   "execution_count": null,
   "metadata": {},
   "outputs": [],
   "source": [
    "# classifier.fit()"
   ]
  },
  {
   "cell_type": "code",
   "execution_count": null,
   "metadata": {},
   "outputs": [],
   "source": [
    "# classifier.save_checkpoint('/kaggle/working/')"
   ]
  },
  {
   "cell_type": "code",
   "execution_count": null,
   "metadata": {},
   "outputs": [],
   "source": [
    "classifier.load_checkpoint('D:\\\\model\\\\endoscopy\\\\hyper_kvasir\\\\sup_resnet50\\\\07_11_2022_15_26_23_epoch_35_ite_1_poly.pth')"
   ]
  },
  {
   "cell_type": "code",
   "execution_count": null,
   "metadata": {},
   "outputs": [],
   "source": [
    "loss = classifier.evaluate_one(True, True, True)"
   ]
  },
  {
   "cell_type": "code",
   "execution_count": null,
   "metadata": {},
   "outputs": [],
   "source": [
    "# valid_dl.dataset.df['Miscls'] = idxs_mask.numpy().tolist()\n",
    "# valid_dl.dataset.df['Miscls'].value_counts()"
   ]
  },
  {
   "cell_type": "code",
   "execution_count": null,
   "metadata": {},
   "outputs": [],
   "source": [
    "# df_valid = valid_dl.dataset.df\n",
    "# df_valid.head()"
   ]
  },
  {
   "cell_type": "code",
   "execution_count": null,
   "metadata": {},
   "outputs": [],
   "source": [
    "# list_imgs_miscls = df_valid[df_valid['Miscls']==True]['image']\n",
    "# list_imgs_miscls = [os.path.join(config.DATA.PATH, item) for item in list_imgs_miscls]"
   ]
  },
  {
   "cell_type": "code",
   "execution_count": null,
   "metadata": {},
   "outputs": [],
   "source": [
    "# show_imgs(list_imgs_miscls[:10])"
   ]
  },
  {
   "cell_type": "code",
   "execution_count": null,
   "metadata": {},
   "outputs": [],
   "source": [
    "# show_imgs(list_imgs_miscls[10:20])"
   ]
  },
  {
   "cell_type": "code",
   "execution_count": null,
   "metadata": {},
   "outputs": [],
   "source": [
    "# df_unanno['pred'] = list(out_pred)\n",
    "# df_unanno['pred'].value_counts()"
   ]
  },
  {
   "cell_type": "code",
   "execution_count": null,
   "metadata": {},
   "outputs": [],
   "source": [
    "# df_unanno.to_csv(\"/kaggle/working/full_unlabeled_predict.csv\", header =True, index = False)"
   ]
  },
  {
   "cell_type": "code",
   "execution_count": null,
   "metadata": {},
   "outputs": [],
   "source": [
    "# classifier.fit()"
   ]
  },
  {
   "cell_type": "code",
   "execution_count": null,
   "metadata": {},
   "outputs": [],
   "source": [
    "# classifier.save_checkpoint('/kaggle/working/')"
   ]
  },
  {
   "cell_type": "code",
   "execution_count": null,
   "metadata": {},
   "outputs": [],
   "source": [
    "# classifier.load_checkpoint('/kaggle/working/06_29_2022_10_33_55_epoch_20.pth')"
   ]
  },
  {
   "cell_type": "code",
   "execution_count": null,
   "metadata": {
    "tags": []
   },
   "outputs": [],
   "source": [
    "# classifier.evaluate_one(True, True, True)"
   ]
  }
 ],
 "metadata": {
  "kernelspec": {
   "display_name": "cls",
   "language": "python",
   "name": "cls"
  },
  "language_info": {
   "codemirror_mode": {
    "name": "ipython",
    "version": 3
   },
   "file_extension": ".py",
   "mimetype": "text/x-python",
   "name": "python",
   "nbconvert_exporter": "python",
   "pygments_lexer": "ipython3",
   "version": "3.6.13"
  }
 },
 "nbformat": 4,
 "nbformat_minor": 4
}
