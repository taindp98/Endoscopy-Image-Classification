{
 "cells": [
  {
   "cell_type": "code",
   "execution_count": 1,
   "id": "28bddc8e",
   "metadata": {},
   "outputs": [],
   "source": [
    "import pandas as pd\n",
    "import os\n",
    "import numpy as np\n",
    "import cv2\n",
    "from tqdm import tqdm\n",
    "from glob import glob\n",
    "from sklearn.model_selection import train_test_split\n",
    "from matplotlib import pyplot as plt\n",
    "from imblearn.over_sampling import SMOTE\n",
    "from timm import create_model"
   ]
  },
  {
   "cell_type": "code",
   "execution_count": 2,
   "id": "8d8da74c",
   "metadata": {},
   "outputs": [],
   "source": [
    "# import warnings filter\n",
    "from warnings import simplefilter\n",
    "# ignore all future warnings\n",
    "simplefilter(action='ignore', category=FutureWarning)"
   ]
  },
  {
   "cell_type": "code",
   "execution_count": 3,
   "id": "305b46f1",
   "metadata": {},
   "outputs": [],
   "source": [
    "_KVASIR_CAPSULE = 'D:\\\\data\\\\endoscopic\\\\kvasir_capsule'\n",
    "# _KVASIR_CAPSULE_DEFORM = 'D:\\\\data\\\\endoscopic\\\\kvasir_capsule_deform'\n",
    "\n",
    "# _HYPER_KVASIR = 'D:\\\\data\\\\endoscopic\\\\hyper_kvasir'\n",
    "# _HYPER_KVASIR_LABELED_DEFORM = 'D:\\\\data\\\\endoscopic\\\\hyper_kvasir\\\\labeled_images_deform'"
   ]
  },
  {
   "cell_type": "code",
   "execution_count": 5,
   "id": "9c6110c3",
   "metadata": {},
   "outputs": [],
   "source": [
    "categories_path = glob(os.path.join(_KVASIR_CAPSULE,'*'))\n",
    "# categories_path"
   ]
  },
  {
   "cell_type": "code",
   "execution_count": 18,
   "id": "dcb8c3df-3e87-4250-b053-bf2c1d5b0fe1",
   "metadata": {},
   "outputs": [],
   "source": [
    "df_meta = pd.read_csv('../resource/kvasir_capsule/metadata.csv', sep=';')\n",
    "df_anno = pd.read_csv('../resource/kvasir_capsule/df_train_valid.csv')\n",
    "\n",
    "# df_meta.head()"
   ]
  },
  {
   "cell_type": "code",
   "execution_count": 7,
   "id": "749c358d-e6e2-4627-b246-93acb5a2a8fb",
   "metadata": {},
   "outputs": [
    {
     "data": {
      "text/plain": [
       "Luminal    41511\n",
       "Anatomy     5737\n",
       "Name: finding_category, dtype: int64"
      ]
     },
     "execution_count": 7,
     "metadata": {},
     "output_type": "execute_result"
    }
   ],
   "source": [
    "df_meta['finding_category'].value_counts()"
   ]
  },
  {
   "cell_type": "code",
   "execution_count": 15,
   "id": "ae21f936-9589-4f11-a856-a537e627c28e",
   "metadata": {},
   "outputs": [
    {
     "data": {
      "text/plain": [
       "Normal clean mucosa     34338\n",
       "Reduced Mucosal View     2906\n",
       "Angiectasia               866\n",
       "Ulcer                     854\n",
       "Foreign Body              776\n",
       "Lymphangiectasia          592\n",
       "Erosion                   507\n",
       "Blood - fresh             446\n",
       "Erythema                  159\n",
       "Polyp                      55\n",
       "Blood - hematin            12\n",
       "Name: finding_class, dtype: int64"
      ]
     },
     "execution_count": 15,
     "metadata": {},
     "output_type": "execute_result"
    }
   ],
   "source": [
    "df_luminal = df_meta[df_meta['finding_category'] == 'Luminal']\n",
    "df_luminal['finding_class'].value_counts()"
   ]
  },
  {
   "cell_type": "code",
   "execution_count": 12,
   "id": "5381a31f-5b83-4e17-a116-aad60095237c",
   "metadata": {},
   "outputs": [],
   "source": [
    "list_luminal = list(pd.unique(df_luminal['finding_class']))"
   ]
  },
  {
   "cell_type": "code",
   "execution_count": 16,
   "id": "e7fbd610-b72c-43b5-b116-1549fa324621",
   "metadata": {},
   "outputs": [
    {
     "data": {
      "text/plain": [
       "Ileocecal valve     4189\n",
       "Pylorus             1538\n",
       "Ampulla of Vater      10\n",
       "Name: finding_class, dtype: int64"
      ]
     },
     "execution_count": 16,
     "metadata": {},
     "output_type": "execute_result"
    }
   ],
   "source": [
    "df_anotomy = df_meta[df_meta['finding_category'] == 'Anatomy']\n",
    "df_anotomy['finding_class'].value_counts()"
   ]
  },
  {
   "cell_type": "code",
   "execution_count": 17,
   "id": "a8ab9b86-3fc0-47de-ac3a-26154d8f95f9",
   "metadata": {},
   "outputs": [],
   "source": [
    "list_anatomy = list(pd.unique(df_anotomy['finding_class']))"
   ]
  },
  {
   "cell_type": "code",
   "execution_count": 23,
   "id": "f301e0f7-67db-4f16-b151-a50044177f8d",
   "metadata": {},
   "outputs": [],
   "source": [
    "list_cat = []\n",
    "list_cls = []\n",
    "for p in df_anno.path:\n",
    "    class_ = p.split('/')[0]\n",
    "    list_cls.append(class_)\n",
    "    if class_ in list_luminal:\n",
    "        list_cat.append('Luminal')\n",
    "    else:\n",
    "        list_cat.append('Anatomy')\n",
    "df_anno['category'] = list_cat\n",
    "df_anno['class'] = list_cls"
   ]
  },
  {
   "cell_type": "code",
   "execution_count": 24,
   "id": "7d49d437-754c-4bf5-8984-2e4025ee63d6",
   "metadata": {},
   "outputs": [
    {
     "data": {
      "text/html": [
       "<div>\n",
       "<style scoped>\n",
       "    .dataframe tbody tr th:only-of-type {\n",
       "        vertical-align: middle;\n",
       "    }\n",
       "\n",
       "    .dataframe tbody tr th {\n",
       "        vertical-align: top;\n",
       "    }\n",
       "\n",
       "    .dataframe thead th {\n",
       "        text-align: right;\n",
       "    }\n",
       "</style>\n",
       "<table border=\"1\" class=\"dataframe\">\n",
       "  <thead>\n",
       "    <tr style=\"text-align: right;\">\n",
       "      <th></th>\n",
       "      <th>path</th>\n",
       "      <th>target</th>\n",
       "      <th>is_valid</th>\n",
       "      <th>category</th>\n",
       "      <th>class</th>\n",
       "    </tr>\n",
       "  </thead>\n",
       "  <tbody>\n",
       "    <tr>\n",
       "      <th>0</th>\n",
       "      <td>Normal clean mucosa/5e59c7fdb16c4228_8238.jpg</td>\n",
       "      <td>9</td>\n",
       "      <td>False</td>\n",
       "      <td>Luminal</td>\n",
       "      <td>Normal clean mucosa</td>\n",
       "    </tr>\n",
       "    <tr>\n",
       "      <th>1</th>\n",
       "      <td>Pylorus/0531325b64674948_3516.jpg</td>\n",
       "      <td>11</td>\n",
       "      <td>False</td>\n",
       "      <td>Anatomy</td>\n",
       "      <td>Pylorus</td>\n",
       "    </tr>\n",
       "    <tr>\n",
       "      <th>2</th>\n",
       "      <td>Ileocecal valve/af9bd7d0e43741e3_30205.jpg</td>\n",
       "      <td>7</td>\n",
       "      <td>False</td>\n",
       "      <td>Anatomy</td>\n",
       "      <td>Ileocecal valve</td>\n",
       "    </tr>\n",
       "    <tr>\n",
       "      <th>3</th>\n",
       "      <td>Normal clean mucosa/eb0203196e284797_3286.jpg</td>\n",
       "      <td>9</td>\n",
       "      <td>False</td>\n",
       "      <td>Luminal</td>\n",
       "      <td>Normal clean mucosa</td>\n",
       "    </tr>\n",
       "    <tr>\n",
       "      <th>4</th>\n",
       "      <td>Normal clean mucosa/131368cc17e44240_4399.jpg</td>\n",
       "      <td>9</td>\n",
       "      <td>False</td>\n",
       "      <td>Luminal</td>\n",
       "      <td>Normal clean mucosa</td>\n",
       "    </tr>\n",
       "  </tbody>\n",
       "</table>\n",
       "</div>"
      ],
      "text/plain": [
       "                                            path  target  is_valid category  \\\n",
       "0  Normal clean mucosa/5e59c7fdb16c4228_8238.jpg       9     False  Luminal   \n",
       "1              Pylorus/0531325b64674948_3516.jpg      11     False  Anatomy   \n",
       "2     Ileocecal valve/af9bd7d0e43741e3_30205.jpg       7     False  Anatomy   \n",
       "3  Normal clean mucosa/eb0203196e284797_3286.jpg       9     False  Luminal   \n",
       "4  Normal clean mucosa/131368cc17e44240_4399.jpg       9     False  Luminal   \n",
       "\n",
       "                 class  \n",
       "0  Normal clean mucosa  \n",
       "1              Pylorus  \n",
       "2      Ileocecal valve  \n",
       "3  Normal clean mucosa  \n",
       "4  Normal clean mucosa  "
      ]
     },
     "execution_count": 24,
     "metadata": {},
     "output_type": "execute_result"
    }
   ],
   "source": [
    "df_anno.head()"
   ]
  },
  {
   "cell_type": "code",
   "execution_count": 37,
   "id": "8f1dd14c-3ac6-492a-bd9e-53731177dcb8",
   "metadata": {},
   "outputs": [
    {
     "data": {
      "text/plain": [
       "{'Normal clean mucosa': 34338,\n",
       " 'Ileocecal valve': 4189,\n",
       " 'Reduced mucosal view': 2906,\n",
       " 'Pylorus': 1529,\n",
       " 'Angiectasia': 866,\n",
       " 'Ulcer': 854,\n",
       " 'Foreign body': 776,\n",
       " 'Lymphangiectasia': 592,\n",
       " 'Erosion': 506,\n",
       " 'Blood - fresh': 446,\n",
       " 'Erythema': 159,\n",
       " 'Polyp': 55,\n",
       " 'Blood - hematin': 12,\n",
       " 'Ampulla of vater': 10}"
      ]
     },
     "execution_count": 37,
     "metadata": {},
     "output_type": "execute_result"
    }
   ],
   "source": [
    "dict_class = dict(df_anno['class'].value_counts())\n",
    "dict_class = {k: v for k, v in sorted(dict_class.items(), key=lambda item: item[1], reverse = True)}\n",
    "dict_class"
   ]
  },
  {
   "cell_type": "code",
   "execution_count": 38,
   "id": "6491da3c-6512-47e2-94d1-349d17ef7da0",
   "metadata": {},
   "outputs": [
    {
     "data": {
      "text/plain": [
       "['Normal clean mucosa',\n",
       " 'Ileocecal valve',\n",
       " 'Reduced mucosal view',\n",
       " 'Pylorus',\n",
       " 'Angiectasia',\n",
       " 'Ulcer',\n",
       " 'Foreign body',\n",
       " 'Lymphangiectasia',\n",
       " 'Erosion',\n",
       " 'Blood - fresh',\n",
       " 'Erythema',\n",
       " 'Polyp',\n",
       " 'Blood - hematin',\n",
       " 'Ampulla of vater']"
      ]
     },
     "execution_count": 38,
     "metadata": {},
     "output_type": "execute_result"
    }
   ],
   "source": [
    "dict_class = list(dict_class.keys())\n",
    "dict_class"
   ]
  },
  {
   "cell_type": "code",
   "execution_count": 42,
   "id": "920c9a46-9ecb-4e8b-9a77-508fac3f7554",
   "metadata": {},
   "outputs": [],
   "source": [
    "\"\"\"\n",
    "Erythema\n",
    "Angiectasia\n",
    "Ulcer\n",
    "Erosion\n",
    "Lymphangiectasia\n",
    "Polyp\n",
    "\"\"\"\n",
    "list_pathologies = ['Erythema', 'Angiectasia', 'Ulcer', 'Erosion', 'Lymphangiectasia', 'Polyp']"
   ]
  },
  {
   "cell_type": "code",
   "execution_count": 47,
   "id": "99a5abdc-f92c-4343-ab6a-6c5bf425f62d",
   "metadata": {},
   "outputs": [],
   "source": [
    "list_target = []\n",
    "list_patho = []\n",
    "for c in df_anno['class']:\n",
    "    list_target.append(dict_class.index(c))\n",
    "    if c in list_pathologies:\n",
    "        list_patho.append(True)\n",
    "    else:\n",
    "        list_patho.append(False)\n",
    "df_anno['original_target'] = list_target\n",
    "df_anno['is_patho'] = list_patho"
   ]
  },
  {
   "cell_type": "code",
   "execution_count": 48,
   "id": "a66df088-f1e4-4c59-854b-672ae6cca11b",
   "metadata": {},
   "outputs": [
    {
     "data": {
      "text/html": [
       "<div>\n",
       "<style scoped>\n",
       "    .dataframe tbody tr th:only-of-type {\n",
       "        vertical-align: middle;\n",
       "    }\n",
       "\n",
       "    .dataframe tbody tr th {\n",
       "        vertical-align: top;\n",
       "    }\n",
       "\n",
       "    .dataframe thead th {\n",
       "        text-align: right;\n",
       "    }\n",
       "</style>\n",
       "<table border=\"1\" class=\"dataframe\">\n",
       "  <thead>\n",
       "    <tr style=\"text-align: right;\">\n",
       "      <th></th>\n",
       "      <th>path</th>\n",
       "      <th>target</th>\n",
       "      <th>is_valid</th>\n",
       "      <th>category</th>\n",
       "      <th>class</th>\n",
       "      <th>is_patho</th>\n",
       "      <th>original_target</th>\n",
       "    </tr>\n",
       "  </thead>\n",
       "  <tbody>\n",
       "    <tr>\n",
       "      <th>0</th>\n",
       "      <td>Normal clean mucosa/5e59c7fdb16c4228_8238.jpg</td>\n",
       "      <td>0</td>\n",
       "      <td>False</td>\n",
       "      <td>Luminal</td>\n",
       "      <td>Normal clean mucosa</td>\n",
       "      <td>False</td>\n",
       "      <td>0</td>\n",
       "    </tr>\n",
       "    <tr>\n",
       "      <th>1</th>\n",
       "      <td>Pylorus/0531325b64674948_3516.jpg</td>\n",
       "      <td>3</td>\n",
       "      <td>False</td>\n",
       "      <td>Anatomy</td>\n",
       "      <td>Pylorus</td>\n",
       "      <td>False</td>\n",
       "      <td>3</td>\n",
       "    </tr>\n",
       "    <tr>\n",
       "      <th>2</th>\n",
       "      <td>Ileocecal valve/af9bd7d0e43741e3_30205.jpg</td>\n",
       "      <td>1</td>\n",
       "      <td>False</td>\n",
       "      <td>Anatomy</td>\n",
       "      <td>Ileocecal valve</td>\n",
       "      <td>False</td>\n",
       "      <td>1</td>\n",
       "    </tr>\n",
       "    <tr>\n",
       "      <th>3</th>\n",
       "      <td>Normal clean mucosa/eb0203196e284797_3286.jpg</td>\n",
       "      <td>0</td>\n",
       "      <td>False</td>\n",
       "      <td>Luminal</td>\n",
       "      <td>Normal clean mucosa</td>\n",
       "      <td>False</td>\n",
       "      <td>0</td>\n",
       "    </tr>\n",
       "    <tr>\n",
       "      <th>4</th>\n",
       "      <td>Normal clean mucosa/131368cc17e44240_4399.jpg</td>\n",
       "      <td>0</td>\n",
       "      <td>False</td>\n",
       "      <td>Luminal</td>\n",
       "      <td>Normal clean mucosa</td>\n",
       "      <td>False</td>\n",
       "      <td>0</td>\n",
       "    </tr>\n",
       "  </tbody>\n",
       "</table>\n",
       "</div>"
      ],
      "text/plain": [
       "                                            path  target  is_valid category  \\\n",
       "0  Normal clean mucosa/5e59c7fdb16c4228_8238.jpg       0     False  Luminal   \n",
       "1              Pylorus/0531325b64674948_3516.jpg       3     False  Anatomy   \n",
       "2     Ileocecal valve/af9bd7d0e43741e3_30205.jpg       1     False  Anatomy   \n",
       "3  Normal clean mucosa/eb0203196e284797_3286.jpg       0     False  Luminal   \n",
       "4  Normal clean mucosa/131368cc17e44240_4399.jpg       0     False  Luminal   \n",
       "\n",
       "                 class  is_patho  original_target  \n",
       "0  Normal clean mucosa     False                0  \n",
       "1              Pylorus     False                3  \n",
       "2      Ileocecal valve     False                1  \n",
       "3  Normal clean mucosa     False                0  \n",
       "4  Normal clean mucosa     False                0  "
      ]
     },
     "execution_count": 48,
     "metadata": {},
     "output_type": "execute_result"
    }
   ],
   "source": [
    "df_anno.head()"
   ]
  },
  {
   "cell_type": "code",
   "execution_count": 51,
   "id": "d543a809-016f-481b-bff8-aa5456077ed3",
   "metadata": {},
   "outputs": [
    {
     "data": {
      "text/plain": [
       "['Angiectasia', 'Ulcer', 'Lymphangiectasia', 'Erosion', 'Erythema', 'Polyp']"
      ]
     },
     "execution_count": 51,
     "metadata": {},
     "output_type": "execute_result"
    }
   ],
   "source": [
    "dict_class_patho = dict(df_anno[df_anno['is_patho'] == True]['class'].value_counts())\n",
    "dict_class_patho = {k: v for k, v in sorted(dict_class_patho.items(), key=lambda item: item[1], reverse = True)}\n",
    "dict_class_patho = list(dict_class_patho.keys())\n",
    "dict_class_patho"
   ]
  },
  {
   "cell_type": "code",
   "execution_count": 74,
   "id": "1fbaf636-0e68-4029-a2c7-79cba6b9acb5",
   "metadata": {},
   "outputs": [
    {
     "data": {
      "text/plain": [
       "16       Lymphangiectasia\n",
       "25            Angiectasia\n",
       "29            Angiectasia\n",
       "49                Erosion\n",
       "60            Angiectasia\n",
       "               ...       \n",
       "47131         Angiectasia\n",
       "47145             Erosion\n",
       "47160         Angiectasia\n",
       "47180         Angiectasia\n",
       "47188         Angiectasia\n",
       "Name: class, Length: 3032, dtype: object"
      ]
     },
     "execution_count": 74,
     "metadata": {},
     "output_type": "execute_result"
    }
   ],
   "source": [
    "df_anno[df_anno['is_patho']==True]['class']"
   ]
  },
  {
   "cell_type": "code",
   "execution_count": 78,
   "id": "375e3ab8-5290-4a99-bf42-913e9a1fcdba",
   "metadata": {},
   "outputs": [
    {
     "name": "stderr",
     "output_type": "stream",
     "text": [
      "C:\\Users\\Admin\\anaconda3\\envs\\cls\\lib\\site-packages\\ipykernel_launcher.py:8: SettingWithCopyWarning: \n",
      "A value is trying to be set on a copy of a slice from a DataFrame.\n",
      "Try using .loc[row_indexer,col_indexer] = value instead\n",
      "\n",
      "See the caveats in the documentation: https://pandas.pydata.org/pandas-docs/stable/user_guide/indexing.html#returning-a-view-versus-a-copy\n",
      "  \n"
     ]
    }
   ],
   "source": [
    "list_target_patho = []\n",
    "df_patho = df_anno[df_anno['is_patho']==True]\n",
    "for c in df_patho['class']:\n",
    "    # if c in list_pathologies:\n",
    "    list_target_patho.append(dict_class_patho.index(c))    \n",
    "    # else:\n",
    "    #     list_target_patho.append(0)\n",
    "df_patho['patho_target'] = list_target_patho"
   ]
  },
  {
   "cell_type": "code",
   "execution_count": 79,
   "id": "18cba46b-69e4-4e24-b0ce-7d8e84716646",
   "metadata": {},
   "outputs": [
    {
     "data": {
      "text/html": [
       "<div>\n",
       "<style scoped>\n",
       "    .dataframe tbody tr th:only-of-type {\n",
       "        vertical-align: middle;\n",
       "    }\n",
       "\n",
       "    .dataframe tbody tr th {\n",
       "        vertical-align: top;\n",
       "    }\n",
       "\n",
       "    .dataframe thead th {\n",
       "        text-align: right;\n",
       "    }\n",
       "</style>\n",
       "<table border=\"1\" class=\"dataframe\">\n",
       "  <thead>\n",
       "    <tr style=\"text-align: right;\">\n",
       "      <th></th>\n",
       "      <th>path</th>\n",
       "      <th>target</th>\n",
       "      <th>is_valid</th>\n",
       "      <th>category</th>\n",
       "      <th>class</th>\n",
       "      <th>is_patho</th>\n",
       "      <th>original_target</th>\n",
       "      <th>patho_target</th>\n",
       "    </tr>\n",
       "  </thead>\n",
       "  <tbody>\n",
       "    <tr>\n",
       "      <th>16</th>\n",
       "      <td>Lymphangiectasia/64440803f87b4843_21811.jpg</td>\n",
       "      <td>7</td>\n",
       "      <td>False</td>\n",
       "      <td>Luminal</td>\n",
       "      <td>Lymphangiectasia</td>\n",
       "      <td>True</td>\n",
       "      <td>7</td>\n",
       "      <td>2</td>\n",
       "    </tr>\n",
       "    <tr>\n",
       "      <th>25</th>\n",
       "      <td>Angiectasia/64440803f87b4843_18847.jpg</td>\n",
       "      <td>4</td>\n",
       "      <td>False</td>\n",
       "      <td>Luminal</td>\n",
       "      <td>Angiectasia</td>\n",
       "      <td>True</td>\n",
       "      <td>4</td>\n",
       "      <td>0</td>\n",
       "    </tr>\n",
       "    <tr>\n",
       "      <th>29</th>\n",
       "      <td>Angiectasia/04a78ef00c5245e0_892.jpg</td>\n",
       "      <td>4</td>\n",
       "      <td>False</td>\n",
       "      <td>Luminal</td>\n",
       "      <td>Angiectasia</td>\n",
       "      <td>True</td>\n",
       "      <td>4</td>\n",
       "      <td>0</td>\n",
       "    </tr>\n",
       "    <tr>\n",
       "      <th>49</th>\n",
       "      <td>Erosion/8ebf0e483cac48d6_13434.jpg</td>\n",
       "      <td>8</td>\n",
       "      <td>False</td>\n",
       "      <td>Luminal</td>\n",
       "      <td>Erosion</td>\n",
       "      <td>True</td>\n",
       "      <td>8</td>\n",
       "      <td>3</td>\n",
       "    </tr>\n",
       "    <tr>\n",
       "      <th>60</th>\n",
       "      <td>Angiectasia/64440803f87b4843_18712.jpg</td>\n",
       "      <td>4</td>\n",
       "      <td>False</td>\n",
       "      <td>Luminal</td>\n",
       "      <td>Angiectasia</td>\n",
       "      <td>True</td>\n",
       "      <td>4</td>\n",
       "      <td>0</td>\n",
       "    </tr>\n",
       "    <tr>\n",
       "      <th>...</th>\n",
       "      <td>...</td>\n",
       "      <td>...</td>\n",
       "      <td>...</td>\n",
       "      <td>...</td>\n",
       "      <td>...</td>\n",
       "      <td>...</td>\n",
       "      <td>...</td>\n",
       "      <td>...</td>\n",
       "    </tr>\n",
       "    <tr>\n",
       "      <th>47131</th>\n",
       "      <td>Angiectasia/64440803f87b4843_18574.jpg</td>\n",
       "      <td>4</td>\n",
       "      <td>True</td>\n",
       "      <td>Luminal</td>\n",
       "      <td>Angiectasia</td>\n",
       "      <td>True</td>\n",
       "      <td>4</td>\n",
       "      <td>0</td>\n",
       "    </tr>\n",
       "    <tr>\n",
       "      <th>47145</th>\n",
       "      <td>Erosion/fb86bc87d3874cd7_453.jpg</td>\n",
       "      <td>8</td>\n",
       "      <td>True</td>\n",
       "      <td>Luminal</td>\n",
       "      <td>Erosion</td>\n",
       "      <td>True</td>\n",
       "      <td>8</td>\n",
       "      <td>3</td>\n",
       "    </tr>\n",
       "    <tr>\n",
       "      <th>47160</th>\n",
       "      <td>Angiectasia/64440803f87b4843_18832.jpg</td>\n",
       "      <td>4</td>\n",
       "      <td>True</td>\n",
       "      <td>Luminal</td>\n",
       "      <td>Angiectasia</td>\n",
       "      <td>True</td>\n",
       "      <td>4</td>\n",
       "      <td>0</td>\n",
       "    </tr>\n",
       "    <tr>\n",
       "      <th>47180</th>\n",
       "      <td>Angiectasia/b2134f4a6f864613_21069.jpg</td>\n",
       "      <td>4</td>\n",
       "      <td>True</td>\n",
       "      <td>Luminal</td>\n",
       "      <td>Angiectasia</td>\n",
       "      <td>True</td>\n",
       "      <td>4</td>\n",
       "      <td>0</td>\n",
       "    </tr>\n",
       "    <tr>\n",
       "      <th>47188</th>\n",
       "      <td>Angiectasia/64440803f87b4843_18855.jpg</td>\n",
       "      <td>4</td>\n",
       "      <td>True</td>\n",
       "      <td>Luminal</td>\n",
       "      <td>Angiectasia</td>\n",
       "      <td>True</td>\n",
       "      <td>4</td>\n",
       "      <td>0</td>\n",
       "    </tr>\n",
       "  </tbody>\n",
       "</table>\n",
       "<p>3032 rows × 8 columns</p>\n",
       "</div>"
      ],
      "text/plain": [
       "                                              path  target  is_valid category  \\\n",
       "16     Lymphangiectasia/64440803f87b4843_21811.jpg       7     False  Luminal   \n",
       "25          Angiectasia/64440803f87b4843_18847.jpg       4     False  Luminal   \n",
       "29            Angiectasia/04a78ef00c5245e0_892.jpg       4     False  Luminal   \n",
       "49              Erosion/8ebf0e483cac48d6_13434.jpg       8     False  Luminal   \n",
       "60          Angiectasia/64440803f87b4843_18712.jpg       4     False  Luminal   \n",
       "...                                            ...     ...       ...      ...   \n",
       "47131       Angiectasia/64440803f87b4843_18574.jpg       4      True  Luminal   \n",
       "47145             Erosion/fb86bc87d3874cd7_453.jpg       8      True  Luminal   \n",
       "47160       Angiectasia/64440803f87b4843_18832.jpg       4      True  Luminal   \n",
       "47180       Angiectasia/b2134f4a6f864613_21069.jpg       4      True  Luminal   \n",
       "47188       Angiectasia/64440803f87b4843_18855.jpg       4      True  Luminal   \n",
       "\n",
       "                  class  is_patho  original_target  patho_target  \n",
       "16     Lymphangiectasia      True                7             2  \n",
       "25          Angiectasia      True                4             0  \n",
       "29          Angiectasia      True                4             0  \n",
       "49              Erosion      True                8             3  \n",
       "60          Angiectasia      True                4             0  \n",
       "...                 ...       ...              ...           ...  \n",
       "47131       Angiectasia      True                4             0  \n",
       "47145           Erosion      True                8             3  \n",
       "47160       Angiectasia      True                4             0  \n",
       "47180       Angiectasia      True                4             0  \n",
       "47188       Angiectasia      True                4             0  \n",
       "\n",
       "[3032 rows x 8 columns]"
      ]
     },
     "execution_count": 79,
     "metadata": {},
     "output_type": "execute_result"
    }
   ],
   "source": [
    "df_patho"
   ]
  },
  {
   "cell_type": "code",
   "execution_count": 86,
   "id": "0f96dac9-efdc-451a-9212-24418deeb690",
   "metadata": {},
   "outputs": [],
   "source": [
    "x = df_patho['path']\n",
    "y = df_patho['patho_target']\n",
    "\n",
    "x_train, x_test, y_train, y_test = train_test_split(x, y, test_size=0.2, random_state=0)\n",
    "x_train_lab, x_train_unlab, y_train_lab, y_train_unlab = train_test_split(x_train, \n",
    "                                                                          y_train, \n",
    "                                                                          test_size=0.32, \n",
    "                                                                          random_state=0)\n",
    "\n",
    "\n",
    "df_train_lab = pd.DataFrame([])\n",
    "df_train_lab = pd.DataFrame([])\n",
    "df_train_lab['image'] = x_train_lab\n",
    "df_train_lab['target'] = y_train_lab\n",
    "df_train_lab['is_valid'] = False\n",
    "df_train_lab['is_labeled'] = True\n",
    "\n",
    "df_train_unlab = pd.DataFrame([])\n",
    "df_train_unlab = pd.DataFrame([])\n",
    "df_train_unlab['image'] = x_train_unlab\n",
    "df_train_unlab['target'] = y_train_unlab\n",
    "df_train_unlab['is_valid'] = False\n",
    "df_train_unlab['is_labeled'] = False\n",
    "\n",
    "\n",
    "df_valid['image'] = x_test\n",
    "df_valid['target'] = y_test\n",
    "df_valid['is_valid'] = True\n",
    "df_valid['is_labeled'] = True"
   ]
  },
  {
   "cell_type": "code",
   "execution_count": 91,
   "id": "9146e804-561f-4f12-b5ab-ad3594846414",
   "metadata": {},
   "outputs": [
    {
     "data": {
      "text/html": [
       "<div>\n",
       "<style scoped>\n",
       "    .dataframe tbody tr th:only-of-type {\n",
       "        vertical-align: middle;\n",
       "    }\n",
       "\n",
       "    .dataframe tbody tr th {\n",
       "        vertical-align: top;\n",
       "    }\n",
       "\n",
       "    .dataframe thead th {\n",
       "        text-align: right;\n",
       "    }\n",
       "</style>\n",
       "<table border=\"1\" class=\"dataframe\">\n",
       "  <thead>\n",
       "    <tr style=\"text-align: right;\">\n",
       "      <th></th>\n",
       "      <th>image</th>\n",
       "      <th>target</th>\n",
       "      <th>is_valid</th>\n",
       "      <th>is_labeled</th>\n",
       "    </tr>\n",
       "  </thead>\n",
       "  <tbody>\n",
       "    <tr>\n",
       "      <th>0</th>\n",
       "      <td>Angiectasia/d369e4f163df4aba_26375.jpg</td>\n",
       "      <td>0</td>\n",
       "      <td>False</td>\n",
       "      <td>True</td>\n",
       "    </tr>\n",
       "    <tr>\n",
       "      <th>1</th>\n",
       "      <td>Lymphangiectasia/64440803f87b4843_17845.jpg</td>\n",
       "      <td>2</td>\n",
       "      <td>False</td>\n",
       "      <td>True</td>\n",
       "    </tr>\n",
       "    <tr>\n",
       "      <th>2</th>\n",
       "      <td>Lymphangiectasia/7ad22d50ebaf4596_27614.jpg</td>\n",
       "      <td>2</td>\n",
       "      <td>False</td>\n",
       "      <td>True</td>\n",
       "    </tr>\n",
       "    <tr>\n",
       "      <th>3</th>\n",
       "      <td>Erosion/d626f4f4a5ac4785_50090.jpg</td>\n",
       "      <td>3</td>\n",
       "      <td>False</td>\n",
       "      <td>True</td>\n",
       "    </tr>\n",
       "    <tr>\n",
       "      <th>4</th>\n",
       "      <td>Ulcer/d626f4f4a5ac4785_48501.jpg</td>\n",
       "      <td>1</td>\n",
       "      <td>False</td>\n",
       "      <td>True</td>\n",
       "    </tr>\n",
       "    <tr>\n",
       "      <th>...</th>\n",
       "      <td>...</td>\n",
       "      <td>...</td>\n",
       "      <td>...</td>\n",
       "      <td>...</td>\n",
       "    </tr>\n",
       "    <tr>\n",
       "      <th>3027</th>\n",
       "      <td>Ulcer/7a47e8eacea04e64_51630.jpg</td>\n",
       "      <td>1</td>\n",
       "      <td>True</td>\n",
       "      <td>True</td>\n",
       "    </tr>\n",
       "    <tr>\n",
       "      <th>3028</th>\n",
       "      <td>Angiectasia/64440803f87b4843_18875.jpg</td>\n",
       "      <td>0</td>\n",
       "      <td>True</td>\n",
       "      <td>True</td>\n",
       "    </tr>\n",
       "    <tr>\n",
       "      <th>3029</th>\n",
       "      <td>Ulcer/d626f4f4a5ac4785_48431.jpg</td>\n",
       "      <td>1</td>\n",
       "      <td>True</td>\n",
       "      <td>True</td>\n",
       "    </tr>\n",
       "    <tr>\n",
       "      <th>3030</th>\n",
       "      <td>Angiectasia/64440803f87b4843_18613.jpg</td>\n",
       "      <td>0</td>\n",
       "      <td>True</td>\n",
       "      <td>True</td>\n",
       "    </tr>\n",
       "    <tr>\n",
       "      <th>3031</th>\n",
       "      <td>Erosion/eb0203196e284797_6259.jpg</td>\n",
       "      <td>3</td>\n",
       "      <td>True</td>\n",
       "      <td>True</td>\n",
       "    </tr>\n",
       "  </tbody>\n",
       "</table>\n",
       "<p>3032 rows × 4 columns</p>\n",
       "</div>"
      ],
      "text/plain": [
       "                                            image  target  is_valid  \\\n",
       "0          Angiectasia/d369e4f163df4aba_26375.jpg       0     False   \n",
       "1     Lymphangiectasia/64440803f87b4843_17845.jpg       2     False   \n",
       "2     Lymphangiectasia/7ad22d50ebaf4596_27614.jpg       2     False   \n",
       "3              Erosion/d626f4f4a5ac4785_50090.jpg       3     False   \n",
       "4                Ulcer/d626f4f4a5ac4785_48501.jpg       1     False   \n",
       "...                                           ...     ...       ...   \n",
       "3027             Ulcer/7a47e8eacea04e64_51630.jpg       1      True   \n",
       "3028       Angiectasia/64440803f87b4843_18875.jpg       0      True   \n",
       "3029             Ulcer/d626f4f4a5ac4785_48431.jpg       1      True   \n",
       "3030       Angiectasia/64440803f87b4843_18613.jpg       0      True   \n",
       "3031            Erosion/eb0203196e284797_6259.jpg       3      True   \n",
       "\n",
       "      is_labeled  \n",
       "0           True  \n",
       "1           True  \n",
       "2           True  \n",
       "3           True  \n",
       "4           True  \n",
       "...          ...  \n",
       "3027        True  \n",
       "3028        True  \n",
       "3029        True  \n",
       "3030        True  \n",
       "3031        True  \n",
       "\n",
       "[3032 rows x 4 columns]"
      ]
     },
     "execution_count": 91,
     "metadata": {},
     "output_type": "execute_result"
    }
   ],
   "source": [
    "df_full = pd.concat([df_train_lab, df_train_unlab, df_valid], axis=0).reset_index()\n",
    "del df_full['index']\n",
    "df_full"
   ]
  },
  {
   "cell_type": "code",
   "execution_count": 92,
   "id": "36d05cdc-5128-45ee-a01e-aac17f6f8ffb",
   "metadata": {},
   "outputs": [
    {
     "data": {
      "image/png": "[encoded data removed]",
      "text/plain": [
       "<Figure size 720x576 with 1 Axes>"
      ]
     },
     "metadata": {
      "needs_background": "light"
     },
     "output_type": "display_data"
    }
   ],
   "source": [
    "fig = df_full['target'].value_counts().plot(kind='bar', figsize=(10, 8), fontsize=10, rot=0).get_figure()"
   ]
  },
  {
   "cell_type": "code",
   "execution_count": 93,
   "id": "e78c7f43-d945-462a-8c08-96edcadf13b6",
   "metadata": {},
   "outputs": [],
   "source": [
    "df_full.to_csv('../resource/kvasir_capsule/df_pathologies.csv', index=False, header=True)"
   ]
  },
  {
   "cell_type": "code",
   "execution_count": 84,
   "id": "3196529e-f100-4028-b9c6-91b7deeca3f7",
   "metadata": {},
   "outputs": [
    {
     "data": {
      "image/png": "[encoded data removed]",
      "text/plain": [
       "<Figure size 720x576 with 1 Axes>"
      ]
     },
     "metadata": {
      "needs_background": "light"
     },
     "output_type": "display_data"
    }
   ],
   "source": [
    "cnt_train = df_train['target'].value_counts()\n",
    "cnt_valid = df_valid['target'].value_counts()\n",
    "\n",
    "df_cnt = pd.DataFrame({'train': cnt_train,'valid': cnt_valid})\n",
    "chart = df_cnt.plot.bar(rot=0, figsize=(10, 8), fontsize=15, stacked=True).get_figure()\n",
    "# chart.savefig('../resource/visualize/visual_sup.png')"
   ]
  },
  {
   "cell_type": "code",
   "execution_count": 69,
   "id": "8353fec3-dade-42c7-9581-7f48b4da96a3",
   "metadata": {},
   "outputs": [],
   "source": [
    "# cnt_train = df_train['Groupby_Categories']\n",
    "# cnt_train_labeled, cnt_train_unlabeled = train_test_split(cnt_train, test_size = 0.9, random_state = 0)\n",
    "# cnt_train_labeled, cnt_train_unlabeled = cnt_train_labeled.value_counts(), cnt_train_unlabeled.value_counts()\n",
    "# cnt_valid = df_valid['Groupby_Categories'].value_counts()\n",
    "\n",
    "# df_cnt = pd.DataFrame({'train_labeled': cnt_train_labeled, \n",
    "                       \n",
    "#                        'train_unlabeled': cnt_train_unlabeled,\n",
    "#                        'valid': cnt_valid,\n",
    "#                        })\n",
    "# chart_semi = df_cnt.plot.bar(rot=0, \n",
    "#                         figsize=(10, 8), \n",
    "#                         fontsize=15,\n",
    "#                         color={\"train_labeled\": \"#1f76b5\", \"train_unlabeled\": \"green\", \"valid\":\"#fe7e0e\"},\n",
    "#                         stacked=True).get_figure()\n",
    "# chart_semi.savefig('../resource/visualize/visual_semi_1_9.png')"
   ]
  },
  {
   "cell_type": "code",
   "execution_count": 70,
   "id": "55e0e1de-1a8c-410e-b679-b41dbd847bea",
   "metadata": {},
   "outputs": [],
   "source": [
    "# cnt_train_labeled, cnt_train_unlabeled"
   ]
  },
  {
   "cell_type": "code",
   "execution_count": 71,
   "id": "10c2e7ab-ce2e-46c1-a8c6-f87617571627",
   "metadata": {},
   "outputs": [],
   "source": [
    "# df_train['Groupby_Categories'].value_counts()\n",
    "# fig_train.savefig('../resource/visualize/groupcat_train.png')"
   ]
  },
  {
   "cell_type": "code",
   "execution_count": 72,
   "id": "e012084f-1fe0-484d-8010-37f17021b29c",
   "metadata": {},
   "outputs": [],
   "source": [
    "# df_valid['Groupby_Categories'].value_counts()\n",
    "# fig_valid.savefig('../resource/visualize/groupcat_valid.png')"
   ]
  },
  {
   "cell_type": "code",
   "execution_count": 14,
   "id": "8d15e4d5-0a0b-4fda-9fa0-6d0549104a2f",
   "metadata": {},
   "outputs": [],
   "source": [
    "# fig.savefig('../resource/visualize/groupcat.png')"
   ]
  },
  {
   "cell_type": "code",
   "execution_count": 15,
   "id": "67e0de28-0f66-4916-9bbe-124213af60c7",
   "metadata": {},
   "outputs": [],
   "source": [
    "# df_full.to_csv('../resource/hyper_kvasir/full_labeled_group.csv', index=False, header=True)"
   ]
  }
 ],
 "metadata": {
  "kernelspec": {
   "display_name": "cls",
   "language": "python",
   "name": "cls"
  },
  "language_info": {
   "codemirror_mode": {
    "name": "ipython",
    "version": 3
   },
   "file_extension": ".py",
   "mimetype": "text/x-python",
   "name": "python",
   "nbconvert_exporter": "python",
   "pygments_lexer": "ipython3",
   "version": "3.6.13"
  }
 },
 "nbformat": 4,
 "nbformat_minor": 5
}
