{
 "cells": [
  {
   "cell_type": "code",
   "execution_count": 1,
   "id": "28bddc8e",
   "metadata": {},
   "outputs": [],
   "source": [
    "import pandas as pd\n",
    "import os\n",
    "import numpy as np\n",
    "import cv2\n",
    "from tqdm import tqdm\n",
    "from glob import glob\n",
    "from sklearn.model_selection import train_test_split\n",
    "from matplotlib import pyplot as plt\n",
    "from imblearn.over_sampling import SMOTE\n",
    "from timm import create_model"
   ]
  },
  {
   "cell_type": "code",
   "execution_count": 2,
   "id": "8d8da74c",
   "metadata": {},
   "outputs": [],
   "source": [
    "# import warnings filter\n",
    "from warnings import simplefilter\n",
    "# ignore all future warnings\n",
    "simplefilter(action='ignore', category=FutureWarning)"
   ]
  },
  {
   "cell_type": "code",
   "execution_count": 3,
   "id": "305b46f1",
   "metadata": {},
   "outputs": [],
   "source": [
    "_HYPER_KVASIR = 'D:\\\\data\\\\endoscopic\\\\hyper_kvasir\\\\labeled_images'\n",
    "# _HYPER_KVASIR_LABELED_DEFORM = 'D:\\\\data\\\\endoscopic\\\\hyper_kvasir\\\\labeled_images_deform'"
   ]
  },
  {
   "cell_type": "code",
   "execution_count": 6,
   "id": "b548b558-9edf-4123-9899-66a0c9a2499b",
   "metadata": {},
   "outputs": [
    {
     "data": {
      "text/html": [
       "<div>\n",
       "<style scoped>\n",
       "    .dataframe tbody tr th:only-of-type {\n",
       "        vertical-align: middle;\n",
       "    }\n",
       "\n",
       "    .dataframe tbody tr th {\n",
       "        vertical-align: top;\n",
       "    }\n",
       "\n",
       "    .dataframe thead th {\n",
       "        text-align: right;\n",
       "    }\n",
       "</style>\n",
       "<table border=\"1\" class=\"dataframe\">\n",
       "  <thead>\n",
       "    <tr style=\"text-align: right;\">\n",
       "      <th></th>\n",
       "      <th>Organ</th>\n",
       "      <th>Classification</th>\n",
       "      <th>Finding</th>\n",
       "      <th>Image</th>\n",
       "      <th>Categories</th>\n",
       "      <th>is_valid</th>\n",
       "    </tr>\n",
       "  </thead>\n",
       "  <tbody>\n",
       "    <tr>\n",
       "      <th>0</th>\n",
       "      <td>upper-gi-tract</td>\n",
       "      <td>anatomical-landmarks</td>\n",
       "      <td>z-line</td>\n",
       "      <td>upper-gi-tract/anatomical-landmarks/z-line/c7e...</td>\n",
       "      <td>0</td>\n",
       "      <td>False</td>\n",
       "    </tr>\n",
       "    <tr>\n",
       "      <th>1</th>\n",
       "      <td>lower-gi-tract</td>\n",
       "      <td>therapeutic-interventions</td>\n",
       "      <td>dyed-lifted-polyps</td>\n",
       "      <td>lower-gi-tract/therapeutic-interventions/dyed-...</td>\n",
       "      <td>0</td>\n",
       "      <td>False</td>\n",
       "    </tr>\n",
       "    <tr>\n",
       "      <th>2</th>\n",
       "      <td>lower-gi-tract</td>\n",
       "      <td>quality-of-mucosal-views</td>\n",
       "      <td>bbps-2-3</td>\n",
       "      <td>lower-gi-tract/quality-of-mucosal-views/bbps-2...</td>\n",
       "      <td>0</td>\n",
       "      <td>False</td>\n",
       "    </tr>\n",
       "    <tr>\n",
       "      <th>3</th>\n",
       "      <td>lower-gi-tract</td>\n",
       "      <td>quality-of-mucosal-views</td>\n",
       "      <td>bbps-2-3</td>\n",
       "      <td>lower-gi-tract/quality-of-mucosal-views/bbps-2...</td>\n",
       "      <td>0</td>\n",
       "      <td>False</td>\n",
       "    </tr>\n",
       "    <tr>\n",
       "      <th>4</th>\n",
       "      <td>upper-gi-tract</td>\n",
       "      <td>anatomical-landmarks</td>\n",
       "      <td>z-line</td>\n",
       "      <td>upper-gi-tract/anatomical-landmarks/z-line/b98...</td>\n",
       "      <td>0</td>\n",
       "      <td>False</td>\n",
       "    </tr>\n",
       "  </tbody>\n",
       "</table>\n",
       "</div>"
      ],
      "text/plain": [
       "            Organ             Classification             Finding  \\\n",
       "0  upper-gi-tract       anatomical-landmarks              z-line   \n",
       "1  lower-gi-tract  therapeutic-interventions  dyed-lifted-polyps   \n",
       "2  lower-gi-tract   quality-of-mucosal-views            bbps-2-3   \n",
       "3  lower-gi-tract   quality-of-mucosal-views            bbps-2-3   \n",
       "4  upper-gi-tract       anatomical-landmarks              z-line   \n",
       "\n",
       "                                               Image  Categories  is_valid  \n",
       "0  upper-gi-tract/anatomical-landmarks/z-line/c7e...           0     False  \n",
       "1  lower-gi-tract/therapeutic-interventions/dyed-...           0     False  \n",
       "2  lower-gi-tract/quality-of-mucosal-views/bbps-2...           0     False  \n",
       "3  lower-gi-tract/quality-of-mucosal-views/bbps-2...           0     False  \n",
       "4  upper-gi-tract/anatomical-landmarks/z-line/b98...           0     False  "
      ]
     },
     "execution_count": 6,
     "metadata": {},
     "output_type": "execute_result"
    }
   ],
   "source": [
    "df_anno = pd.read_csv('../resource/hyper_kvasir/full_labeled_anno.csv')\n",
    "df_anno.head()"
   ]
  },
  {
   "cell_type": "code",
   "execution_count": 7,
   "id": "189427cb-a614-4549-8710-544ac6242e03",
   "metadata": {},
   "outputs": [
    {
     "data": {
      "text/plain": [
       "bbps-2-3                        1148\n",
       "polyps                          1028\n",
       "cecum                           1009\n",
       "dyed-lifted-polyps              1002\n",
       "pylorus                          999\n",
       "dyed-resection-margins           989\n",
       "z-line                           932\n",
       "retroflex-stomach                764\n",
       "bbps-0-1                         646\n",
       "ulcerative-colitis-grade-2       443\n",
       "esophagitis-a                    403\n",
       "retroflex-rectum                 391\n",
       "esophagitis-b-d                  260\n",
       "ulcerative-colitis-grade-1       201\n",
       "ulcerative-colitis-grade-3       133\n",
       "impacted-stool                   131\n",
       "barretts-short-segment            53\n",
       "barretts                          41\n",
       "ulcerative-colitis-grade-0-1      35\n",
       "ulcerative-colitis-grade-2-3      28\n",
       "ulcerative-colitis-grade-1-2      11\n",
       "ileum                              9\n",
       "hemorrhoids                        6\n",
       "Name: Finding, dtype: int64"
      ]
     },
     "execution_count": 7,
     "metadata": {},
     "output_type": "execute_result"
    }
   ],
   "source": [
    "df_anno['Finding'].value_counts()"
   ]
  },
  {
   "cell_type": "code",
   "execution_count": 12,
   "id": "196244b0-2973-4500-ac6c-360bcb5d82ca",
   "metadata": {},
   "outputs": [
    {
     "data": {
      "text/html": [
       "<div>\n",
       "<style scoped>\n",
       "    .dataframe tbody tr th:only-of-type {\n",
       "        vertical-align: middle;\n",
       "    }\n",
       "\n",
       "    .dataframe tbody tr th {\n",
       "        vertical-align: top;\n",
       "    }\n",
       "\n",
       "    .dataframe thead th {\n",
       "        text-align: right;\n",
       "    }\n",
       "</style>\n",
       "<table border=\"1\" class=\"dataframe\">\n",
       "  <thead>\n",
       "    <tr style=\"text-align: right;\">\n",
       "      <th></th>\n",
       "      <th>target</th>\n",
       "      <th>pathologies</th>\n",
       "      <th>samples</th>\n",
       "      <th>old_target</th>\n",
       "    </tr>\n",
       "  </thead>\n",
       "  <tbody>\n",
       "    <tr>\n",
       "      <th>0</th>\n",
       "      <td>0</td>\n",
       "      <td>polyps</td>\n",
       "      <td>1028</td>\n",
       "      <td>4</td>\n",
       "    </tr>\n",
       "    <tr>\n",
       "      <th>1</th>\n",
       "      <td>1</td>\n",
       "      <td>ulcerative-colitis-grade-2</td>\n",
       "      <td>443</td>\n",
       "      <td>6</td>\n",
       "    </tr>\n",
       "    <tr>\n",
       "      <th>2</th>\n",
       "      <td>2</td>\n",
       "      <td>esophagitis-a</td>\n",
       "      <td>403</td>\n",
       "      <td>9</td>\n",
       "    </tr>\n",
       "    <tr>\n",
       "      <th>3</th>\n",
       "      <td>3</td>\n",
       "      <td>esophagitis-b-d</td>\n",
       "      <td>260</td>\n",
       "      <td>11</td>\n",
       "    </tr>\n",
       "    <tr>\n",
       "      <th>4</th>\n",
       "      <td>4</td>\n",
       "      <td>ulcerative-colitis-grade-1</td>\n",
       "      <td>201</td>\n",
       "      <td>3</td>\n",
       "    </tr>\n",
       "    <tr>\n",
       "      <th>5</th>\n",
       "      <td>5</td>\n",
       "      <td>ulcerative-colitis-grade-3</td>\n",
       "      <td>133</td>\n",
       "      <td>1</td>\n",
       "    </tr>\n",
       "  </tbody>\n",
       "</table>\n",
       "</div>"
      ],
      "text/plain": [
       "   target                 pathologies  samples  old_target\n",
       "0       0                      polyps     1028           4\n",
       "1       1  ulcerative-colitis-grade-2      443           6\n",
       "2       2               esophagitis-a      403           9\n",
       "3       3             esophagitis-b-d      260          11\n",
       "4       4  ulcerative-colitis-grade-1      201           3\n",
       "5       5  ulcerative-colitis-grade-3      133           1"
      ]
     },
     "execution_count": 12,
     "metadata": {},
     "output_type": "execute_result"
    }
   ],
   "source": [
    "full_categories = pd.read_csv('../resource/hyper_kvasir/categories.csv')\n",
    "pathological_categories = pd.read_csv('../resource/hyper_kvasir/pathological_categories.csv')\n",
    "pathological_categories\n",
    "# categories"
   ]
  },
  {
   "cell_type": "code",
   "execution_count": 6,
   "id": "495620d0-402b-48f4-8671-3ec4325f1b65",
   "metadata": {},
   "outputs": [],
   "source": [
    "# list_paths = []\n",
    "# for c in categories['findings']:\n",
    "#     path = df_anno[df_anno['Finding']==c]['Image'].iloc[0]\n",
    "#     path = '/'.join(path.split('/')[:-1])\n",
    "#     list_paths.append(path)"
   ]
  },
  {
   "cell_type": "code",
   "execution_count": 7,
   "id": "43837b78-0c31-4284-835b-cb6412277648",
   "metadata": {},
   "outputs": [],
   "source": [
    "# categories['path'] = list_paths\n",
    "# categories.to_csv('../resource/hyper_kvasir/categories.csv', index=False, header=True)"
   ]
  },
  {
   "cell_type": "markdown",
   "id": "f92da124-5091-44da-a301-760c9eea0761",
   "metadata": {
    "jp-MarkdownHeadingCollapsed": true,
    "tags": []
   },
   "source": [
    "## Mock k-fold"
   ]
  },
  {
   "cell_type": "code",
   "execution_count": 11,
   "id": "783275b0-efb9-4869-b22d-e3df77427665",
   "metadata": {},
   "outputs": [],
   "source": [
    "df_kfold = pd.read_csv('../resource/hyper_kvasir/df_full_kfold.csv')"
   ]
  },
  {
   "cell_type": "code",
   "execution_count": 29,
   "id": "f6ea1af1-317d-476d-bf1b-59c29d98a8fe",
   "metadata": {},
   "outputs": [
    {
     "data": {
      "text/html": [
       "<div>\n",
       "<style scoped>\n",
       "    .dataframe tbody tr th:only-of-type {\n",
       "        vertical-align: middle;\n",
       "    }\n",
       "\n",
       "    .dataframe tbody tr th {\n",
       "        vertical-align: top;\n",
       "    }\n",
       "\n",
       "    .dataframe thead th {\n",
       "        text-align: right;\n",
       "    }\n",
       "</style>\n",
       "<table border=\"1\" class=\"dataframe\">\n",
       "  <thead>\n",
       "    <tr style=\"text-align: right;\">\n",
       "      <th></th>\n",
       "      <th>file-name</th>\n",
       "      <th>class-name</th>\n",
       "      <th>split-index</th>\n",
       "      <th>image</th>\n",
       "      <th>target</th>\n",
       "      <th>is_valid</th>\n",
       "    </tr>\n",
       "  </thead>\n",
       "  <tbody>\n",
       "    <tr>\n",
       "      <th>0</th>\n",
       "      <td>4bf58f1c-8233-41fc-9614-344e6d0fc351.jpg</td>\n",
       "      <td>impacted-stool</td>\n",
       "      <td>0</td>\n",
       "      <td>lower-gi-tract/quality-of-mucosal-views/impact...</td>\n",
       "      <td>7</td>\n",
       "      <td>False</td>\n",
       "    </tr>\n",
       "    <tr>\n",
       "      <th>1</th>\n",
       "      <td>9c3e5380-9621-4e74-b937-0c46f37e7ef3.jpg</td>\n",
       "      <td>impacted-stool</td>\n",
       "      <td>0</td>\n",
       "      <td>lower-gi-tract/quality-of-mucosal-views/impact...</td>\n",
       "      <td>7</td>\n",
       "      <td>False</td>\n",
       "    </tr>\n",
       "    <tr>\n",
       "      <th>2</th>\n",
       "      <td>cf3667be-0c86-4ce7-a0f3-721144b67230.jpg</td>\n",
       "      <td>impacted-stool</td>\n",
       "      <td>0</td>\n",
       "      <td>lower-gi-tract/quality-of-mucosal-views/impact...</td>\n",
       "      <td>7</td>\n",
       "      <td>False</td>\n",
       "    </tr>\n",
       "    <tr>\n",
       "      <th>3</th>\n",
       "      <td>8dbf6ead-8801-4a28-b811-62567dd2edb5.jpg</td>\n",
       "      <td>impacted-stool</td>\n",
       "      <td>0</td>\n",
       "      <td>lower-gi-tract/quality-of-mucosal-views/impact...</td>\n",
       "      <td>7</td>\n",
       "      <td>False</td>\n",
       "    </tr>\n",
       "    <tr>\n",
       "      <th>4</th>\n",
       "      <td>af09c241-1417-4a42-91ef-df86bab65f7c.jpg</td>\n",
       "      <td>impacted-stool</td>\n",
       "      <td>0</td>\n",
       "      <td>lower-gi-tract/quality-of-mucosal-views/impact...</td>\n",
       "      <td>7</td>\n",
       "      <td>False</td>\n",
       "    </tr>\n",
       "  </tbody>\n",
       "</table>\n",
       "</div>"
      ],
      "text/plain": [
       "                                  file-name      class-name  split-index  \\\n",
       "0  4bf58f1c-8233-41fc-9614-344e6d0fc351.jpg  impacted-stool            0   \n",
       "1  9c3e5380-9621-4e74-b937-0c46f37e7ef3.jpg  impacted-stool            0   \n",
       "2  cf3667be-0c86-4ce7-a0f3-721144b67230.jpg  impacted-stool            0   \n",
       "3  8dbf6ead-8801-4a28-b811-62567dd2edb5.jpg  impacted-stool            0   \n",
       "4  af09c241-1417-4a42-91ef-df86bab65f7c.jpg  impacted-stool            0   \n",
       "\n",
       "                                               image  target  is_valid  \n",
       "0  lower-gi-tract/quality-of-mucosal-views/impact...       7     False  \n",
       "1  lower-gi-tract/quality-of-mucosal-views/impact...       7     False  \n",
       "2  lower-gi-tract/quality-of-mucosal-views/impact...       7     False  \n",
       "3  lower-gi-tract/quality-of-mucosal-views/impact...       7     False  \n",
       "4  lower-gi-tract/quality-of-mucosal-views/impact...       7     False  "
      ]
     },
     "execution_count": 29,
     "metadata": {},
     "output_type": "execute_result"
    }
   ],
   "source": [
    "df_train = df_kfold[df_kfold['is_valid']==False]\n",
    "df_train.head()"
   ]
  },
  {
   "cell_type": "code",
   "execution_count": 72,
   "id": "f18bf3ed-412e-4b50-8670-d2c2b62e064a",
   "metadata": {},
   "outputs": [],
   "source": [
    "df_valid = pd.DataFrame([])\n",
    "df_valid['image'] = list(df_kfold[df_kfold['is_valid']==True]['image'])\n",
    "df_valid['target'] = list(df_kfold[df_kfold['is_valid']==True]['target'])\n",
    "df_valid['is_valid'] = True\n",
    "df_valid['is_labeled'] = True"
   ]
  },
  {
   "cell_type": "code",
   "execution_count": 75,
   "id": "89ec387c-4547-48ed-b4d7-5d13c486718f",
   "metadata": {},
   "outputs": [],
   "source": [
    "# df_valid"
   ]
  },
  {
   "cell_type": "code",
   "execution_count": 13,
   "id": "413af167-9d88-4cc7-96fb-2037d4c125ce",
   "metadata": {},
   "outputs": [],
   "source": [
    "x_train = list(df_train['image'])\n",
    "y_train = list(df_train['target'])"
   ]
  },
  {
   "cell_type": "code",
   "execution_count": 83,
   "id": "99347150-8145-48cc-a587-5131fb44843f",
   "metadata": {},
   "outputs": [],
   "source": [
    "check = 0\n",
    "while check != 23:\n",
    "    x_train_unlab, x_train_lab, y_train_unlab, y_train_lab  = train_test_split(x_train, \n",
    "                                                                              y_train, \n",
    "                                                                              test_size=0.2)\n",
    "                                                                              # random_state=0)\n",
    "    check = len(set(y_train_lab))\n",
    "    df_train_lab = pd.DataFrame([])\n",
    "    df_train_lab['image'] = x_train_lab\n",
    "    df_train_lab['target'] = y_train_lab\n",
    "    df_train_lab['is_valid'] = False\n",
    "    df_train_lab['is_labeled'] = True\n",
    "\n",
    "    df_train_unlab = pd.DataFrame([])\n",
    "    df_train_unlab['image'] = x_train_unlab\n",
    "    df_train_unlab['target'] = y_train_unlab\n",
    "    df_train_unlab['is_valid'] = False\n",
    "    df_train_unlab['is_labeled'] = False\n",
    "\n",
    "    df_full_mock = pd.concat([df_train_lab, df_train_unlab, df_valid], axis=0)"
   ]
  },
  {
   "cell_type": "code",
   "execution_count": 84,
   "id": "c569f089-6567-4cc9-ba02-b34f28d1b242",
   "metadata": {},
   "outputs": [],
   "source": [
    "df_full_mock.to_csv('../resource/hyper_kvasir/df_split_mock_2_8.csv', index=False, header = True)"
   ]
  },
  {
   "cell_type": "markdown",
   "id": "b9cc776d-97f9-4a0f-bd3b-f6028345e512",
   "metadata": {
    "jp-MarkdownHeadingCollapsed": true,
    "tags": []
   },
   "source": [
    "## Read k-fold split"
   ]
  },
  {
   "cell_type": "code",
   "execution_count": 8,
   "id": "6a820313-270f-4db6-a08a-a8022d5d24d9",
   "metadata": {},
   "outputs": [
    {
     "data": {
      "text/html": [
       "<div>\n",
       "<style scoped>\n",
       "    .dataframe tbody tr th:only-of-type {\n",
       "        vertical-align: middle;\n",
       "    }\n",
       "\n",
       "    .dataframe tbody tr th {\n",
       "        vertical-align: top;\n",
       "    }\n",
       "\n",
       "    .dataframe thead th {\n",
       "        text-align: right;\n",
       "    }\n",
       "</style>\n",
       "<table border=\"1\" class=\"dataframe\">\n",
       "  <thead>\n",
       "    <tr style=\"text-align: right;\">\n",
       "      <th></th>\n",
       "      <th>file-name</th>\n",
       "      <th>class-name</th>\n",
       "      <th>split-index</th>\n",
       "    </tr>\n",
       "  </thead>\n",
       "  <tbody>\n",
       "    <tr>\n",
       "      <th>0</th>\n",
       "      <td>4bf58f1c-8233-41fc-9614-344e6d0fc351.jpg</td>\n",
       "      <td>impacted-stool</td>\n",
       "      <td>0</td>\n",
       "    </tr>\n",
       "    <tr>\n",
       "      <th>1</th>\n",
       "      <td>9c3e5380-9621-4e74-b937-0c46f37e7ef3.jpg</td>\n",
       "      <td>impacted-stool</td>\n",
       "      <td>0</td>\n",
       "    </tr>\n",
       "    <tr>\n",
       "      <th>2</th>\n",
       "      <td>cf3667be-0c86-4ce7-a0f3-721144b67230.jpg</td>\n",
       "      <td>impacted-stool</td>\n",
       "      <td>0</td>\n",
       "    </tr>\n",
       "    <tr>\n",
       "      <th>3</th>\n",
       "      <td>8dbf6ead-8801-4a28-b811-62567dd2edb5.jpg</td>\n",
       "      <td>impacted-stool</td>\n",
       "      <td>0</td>\n",
       "    </tr>\n",
       "    <tr>\n",
       "      <th>4</th>\n",
       "      <td>af09c241-1417-4a42-91ef-df86bab65f7c.jpg</td>\n",
       "      <td>impacted-stool</td>\n",
       "      <td>0</td>\n",
       "    </tr>\n",
       "  </tbody>\n",
       "</table>\n",
       "</div>"
      ],
      "text/plain": [
       "                                  file-name      class-name  split-index\n",
       "0  4bf58f1c-8233-41fc-9614-344e6d0fc351.jpg  impacted-stool            0\n",
       "1  9c3e5380-9621-4e74-b937-0c46f37e7ef3.jpg  impacted-stool            0\n",
       "2  cf3667be-0c86-4ce7-a0f3-721144b67230.jpg  impacted-stool            0\n",
       "3  8dbf6ead-8801-4a28-b811-62567dd2edb5.jpg  impacted-stool            0\n",
       "4  af09c241-1417-4a42-91ef-df86bab65f7c.jpg  impacted-stool            0"
      ]
     },
     "execution_count": 8,
     "metadata": {},
     "output_type": "execute_result"
    }
   ],
   "source": [
    "df_kfold = pd.read_csv('../resource/hyper_kvasir/2_fold_split.csv', sep = ';')\n",
    "df_kfold.head()"
   ]
  },
  {
   "cell_type": "code",
   "execution_count": 52,
   "id": "1ad1d894-4013-425a-ba20-6957e6809930",
   "metadata": {},
   "outputs": [],
   "source": [
    "dict_correct_cat_name = {'oesophagitis-b-d': 'esophagitis-b-d',\n",
    "                         'short-segment-barretts': 'barretts-short-segment',\n",
    "                         'oesophagitis-a': 'esophagitis-a',\n",
    "                         'normal-pylorus': 'pylorus',\n",
    "                         'hemorroids': 'hemorrhoids',\n",
    "                         'normal-cecum': 'cecum',\n",
    "                         'polyp': 'polyps',\n",
    "                         'normal-z-line': 'z-line'}"
   ]
  },
  {
   "cell_type": "code",
   "execution_count": 58,
   "id": "d4001f59-50f1-4e81-8336-56e42d62d548",
   "metadata": {},
   "outputs": [],
   "source": [
    "list_img_path = []\n",
    "list_targets = []\n",
    "for i in range(len(df_kfold)):\n",
    "    cls_name = df_kfold['class-name'].iloc[i]\n",
    "    if cls_name in dict_correct_cat_name.keys():\n",
    "        df_kfold['class-name'].iloc[i] = dict_correct_cat_name[cls_name]\n",
    "        \n",
    "    cls_name = df_kfold['class-name'].iloc[i]\n",
    "    dir_path = categories[categories['findings']==cls_name]['path'].iloc[0]\n",
    "    img_path = os.path.join(dir_path, df_kfold['file-name'].iloc[i]).replace('\\\\','/')\n",
    "    list_img_path.append(img_path)\n",
    "    target = categories[categories['findings']==cls_name]['target'].iloc[0]\n",
    "    list_targets.append(target)"
   ]
  },
  {
   "cell_type": "code",
   "execution_count": 54,
   "id": "9c6110c3",
   "metadata": {},
   "outputs": [],
   "source": [
    "# list_cate_kfold = list(set(list(df_kfold['class-name'])))\n",
    "# for item in list_cate_kfold:\n",
    "#     if not item in list(categories['findings']):\n",
    "#         print(item)"
   ]
  },
  {
   "cell_type": "code",
   "execution_count": 59,
   "id": "f418926f-dd84-49e9-8782-60b3ce8ccf0d",
   "metadata": {},
   "outputs": [
    {
     "name": "stderr",
     "output_type": "stream",
     "text": [
      "C:\\Users\\Admin\\anaconda3\\envs\\cls\\lib\\site-packages\\ipykernel_launcher.py:4: SettingWithCopyWarning: \n",
      "A value is trying to be set on a copy of a slice from a DataFrame.\n",
      "Try using .loc[row_indexer,col_indexer] = value instead\n",
      "\n",
      "See the caveats in the documentation: https://pandas.pydata.org/pandas-docs/stable/user_guide/indexing.html#returning-a-view-versus-a-copy\n",
      "  after removing the cwd from sys.path.\n",
      "C:\\Users\\Admin\\anaconda3\\envs\\cls\\lib\\site-packages\\ipykernel_launcher.py:6: SettingWithCopyWarning: \n",
      "A value is trying to be set on a copy of a slice from a DataFrame.\n",
      "Try using .loc[row_indexer,col_indexer] = value instead\n",
      "\n",
      "See the caveats in the documentation: https://pandas.pydata.org/pandas-docs/stable/user_guide/indexing.html#returning-a-view-versus-a-copy\n",
      "  \n"
     ]
    },
    {
     "data": {
      "text/html": [
       "<div>\n",
       "<style scoped>\n",
       "    .dataframe tbody tr th:only-of-type {\n",
       "        vertical-align: middle;\n",
       "    }\n",
       "\n",
       "    .dataframe tbody tr th {\n",
       "        vertical-align: top;\n",
       "    }\n",
       "\n",
       "    .dataframe thead th {\n",
       "        text-align: right;\n",
       "    }\n",
       "</style>\n",
       "<table border=\"1\" class=\"dataframe\">\n",
       "  <thead>\n",
       "    <tr style=\"text-align: right;\">\n",
       "      <th></th>\n",
       "      <th>file-name</th>\n",
       "      <th>class-name</th>\n",
       "      <th>split-index</th>\n",
       "      <th>image</th>\n",
       "      <th>target</th>\n",
       "      <th>is_valid</th>\n",
       "    </tr>\n",
       "  </thead>\n",
       "  <tbody>\n",
       "    <tr>\n",
       "      <th>0</th>\n",
       "      <td>4bf58f1c-8233-41fc-9614-344e6d0fc351.jpg</td>\n",
       "      <td>impacted-stool</td>\n",
       "      <td>0</td>\n",
       "      <td>lower-gi-tract/quality-of-mucosal-views/impact...</td>\n",
       "      <td>7</td>\n",
       "      <td>False</td>\n",
       "    </tr>\n",
       "    <tr>\n",
       "      <th>1</th>\n",
       "      <td>9c3e5380-9621-4e74-b937-0c46f37e7ef3.jpg</td>\n",
       "      <td>impacted-stool</td>\n",
       "      <td>0</td>\n",
       "      <td>lower-gi-tract/quality-of-mucosal-views/impact...</td>\n",
       "      <td>7</td>\n",
       "      <td>False</td>\n",
       "    </tr>\n",
       "    <tr>\n",
       "      <th>2</th>\n",
       "      <td>cf3667be-0c86-4ce7-a0f3-721144b67230.jpg</td>\n",
       "      <td>impacted-stool</td>\n",
       "      <td>0</td>\n",
       "      <td>lower-gi-tract/quality-of-mucosal-views/impact...</td>\n",
       "      <td>7</td>\n",
       "      <td>False</td>\n",
       "    </tr>\n",
       "    <tr>\n",
       "      <th>3</th>\n",
       "      <td>8dbf6ead-8801-4a28-b811-62567dd2edb5.jpg</td>\n",
       "      <td>impacted-stool</td>\n",
       "      <td>0</td>\n",
       "      <td>lower-gi-tract/quality-of-mucosal-views/impact...</td>\n",
       "      <td>7</td>\n",
       "      <td>False</td>\n",
       "    </tr>\n",
       "    <tr>\n",
       "      <th>4</th>\n",
       "      <td>af09c241-1417-4a42-91ef-df86bab65f7c.jpg</td>\n",
       "      <td>impacted-stool</td>\n",
       "      <td>0</td>\n",
       "      <td>lower-gi-tract/quality-of-mucosal-views/impact...</td>\n",
       "      <td>7</td>\n",
       "      <td>False</td>\n",
       "    </tr>\n",
       "  </tbody>\n",
       "</table>\n",
       "</div>"
      ],
      "text/plain": [
       "                                  file-name      class-name  split-index  \\\n",
       "0  4bf58f1c-8233-41fc-9614-344e6d0fc351.jpg  impacted-stool            0   \n",
       "1  9c3e5380-9621-4e74-b937-0c46f37e7ef3.jpg  impacted-stool            0   \n",
       "2  cf3667be-0c86-4ce7-a0f3-721144b67230.jpg  impacted-stool            0   \n",
       "3  8dbf6ead-8801-4a28-b811-62567dd2edb5.jpg  impacted-stool            0   \n",
       "4  af09c241-1417-4a42-91ef-df86bab65f7c.jpg  impacted-stool            0   \n",
       "\n",
       "                                               image  target  is_valid  \n",
       "0  lower-gi-tract/quality-of-mucosal-views/impact...       7     False  \n",
       "1  lower-gi-tract/quality-of-mucosal-views/impact...       7     False  \n",
       "2  lower-gi-tract/quality-of-mucosal-views/impact...       7     False  \n",
       "3  lower-gi-tract/quality-of-mucosal-views/impact...       7     False  \n",
       "4  lower-gi-tract/quality-of-mucosal-views/impact...       7     False  "
      ]
     },
     "execution_count": 59,
     "metadata": {},
     "output_type": "execute_result"
    }
   ],
   "source": [
    "df_kfold['image'] = list_img_path\n",
    "df_kfold['target'] = list_targets\n",
    "df_train = df_kfold[df_kfold['split-index']==0]\n",
    "df_train['is_valid'] = False\n",
    "df_valid = df_kfold[df_kfold['split-index']==1]\n",
    "df_valid['is_valid'] = True\n",
    "\n",
    "df_full = pd.concat([df_train, df_valid], axis=0)\n",
    "df_full.head()"
   ]
  },
  {
   "cell_type": "code",
   "execution_count": 60,
   "id": "a65c8db5-b429-44f0-b7cf-679862c285dc",
   "metadata": {},
   "outputs": [
    {
     "data": {
      "text/plain": [
       "'lower-gi-tract/quality-of-mucosal-views/impacted-stool/4bf58f1c-8233-41fc-9614-344e6d0fc351.jpg'"
      ]
     },
     "execution_count": 60,
     "metadata": {},
     "output_type": "execute_result"
    }
   ],
   "source": [
    "df_full['image'].iloc[0]"
   ]
  },
  {
   "cell_type": "code",
   "execution_count": 61,
   "id": "035c1ab1-56ef-48ab-b8fa-440f0d4b6497",
   "metadata": {},
   "outputs": [],
   "source": [
    "df_full.to_csv('../resource/hyper_kvasir/df_full_kfold.csv', index=False, header=True)"
   ]
  },
  {
   "cell_type": "code",
   "execution_count": 6,
   "id": "dcb8c3df-3e87-4250-b053-bf2c1d5b0fe1",
   "metadata": {},
   "outputs": [],
   "source": [
    "list_cat_abn = []\n",
    "for c in df_anno['Categories']:\n",
    "    if c != 0:\n",
    "        list_cat_abn.append(1)\n",
    "    else:\n",
    "        list_cat_abn.append(c)\n",
    "df_anno['Abnormal'] = list_cat_abn"
   ]
  },
  {
   "cell_type": "code",
   "execution_count": 7,
   "id": "749c358d-e6e2-4627-b246-93acb5a2a8fb",
   "metadata": {},
   "outputs": [
    {
     "data": {
      "text/plain": [
       "0    8020\n",
       "1    2642\n",
       "Name: Abnormal, dtype: int64"
      ]
     },
     "execution_count": 7,
     "metadata": {},
     "output_type": "execute_result"
    }
   ],
   "source": [
    "df_anno['Abnormal'].value_counts()"
   ]
  },
  {
   "cell_type": "code",
   "execution_count": 8,
   "id": "d33a888f-7bd4-49df-be4e-7d841eba5c89",
   "metadata": {},
   "outputs": [],
   "source": [
    "# df_anno"
   ]
  },
  {
   "cell_type": "code",
   "execution_count": 9,
   "id": "9901924b-8fb6-4e6c-816b-07152c8045f8",
   "metadata": {},
   "outputs": [],
   "source": [
    "df_norm = df_anno[df_anno['Abnormal'] == 0]\n",
    "df_patho = df_anno[df_anno['Abnormal'] == 1]"
   ]
  },
  {
   "cell_type": "code",
   "execution_count": 10,
   "id": "2af1e776-a45d-4429-80bb-af979897eda4",
   "metadata": {},
   "outputs": [],
   "source": [
    "## set the new categories\n",
    "# for idx, c in enumerate(df_patho['Categories']):\n",
    "#     df_patho['Categories'].iloc[idx] = c - 1"
   ]
  },
  {
   "cell_type": "code",
   "execution_count": 11,
   "id": "59e6ad26-69fc-49de-a3e8-2229cd7cf5dc",
   "metadata": {},
   "outputs": [],
   "source": [
    "dict_cate = {}\n",
    "for i in range(13):\n",
    "    df_ = df_anno[df_anno['Categories']==i]\n",
    "    cat = set(df_['Finding'])\n",
    "    dict_cate[i] = cat"
   ]
  },
  {
   "cell_type": "code",
   "execution_count": 12,
   "id": "aaaaf480-a16f-4d62-ae15-7e923bb6ba73",
   "metadata": {},
   "outputs": [
    {
     "data": {
      "text/plain": [
       "{0: {'bbps-0-1',\n",
       "  'bbps-2-3',\n",
       "  'cecum',\n",
       "  'dyed-lifted-polyps',\n",
       "  'dyed-resection-margins',\n",
       "  'ileum',\n",
       "  'impacted-stool',\n",
       "  'pylorus',\n",
       "  'retroflex-rectum',\n",
       "  'retroflex-stomach',\n",
       "  'z-line'},\n",
       " 1: {'barretts-short-segment'},\n",
       " 2: {'ulcerative-colitis-grade-3'},\n",
       " 3: {'ulcerative-colitis-grade-0-1'},\n",
       " 4: {'ulcerative-colitis-grade-1'},\n",
       " 5: {'polyps'},\n",
       " 6: {'ulcerative-colitis-grade-1-2'},\n",
       " 7: {'ulcerative-colitis-grade-2'},\n",
       " 8: {'ulcerative-colitis-grade-2-3'},\n",
       " 9: {'barretts'},\n",
       " 10: {'esophagitis-a'},\n",
       " 11: {'hemorrhoids'},\n",
       " 12: {'esophagitis-b-d'}}"
      ]
     },
     "execution_count": 12,
     "metadata": {},
     "output_type": "execute_result"
    }
   ],
   "source": [
    "dict_cate"
   ]
  },
  {
   "cell_type": "code",
   "execution_count": 13,
   "id": "512fd25a-f637-4e7a-83e5-bb514b24ce40",
   "metadata": {},
   "outputs": [],
   "source": [
    "# df_patho['Categories'].value_counts()[:6]"
   ]
  },
  {
   "cell_type": "code",
   "execution_count": 14,
   "id": "9d5316d8-ec1d-4dc0-a636-39400cd76277",
   "metadata": {},
   "outputs": [],
   "source": [
    "# major_classes = dict(df_patho['Categories'].value_counts()[:6])\n",
    "# sum(major_classes.values())"
   ]
  },
  {
   "cell_type": "code",
   "execution_count": 15,
   "id": "f20b4ac0-0759-4b7f-a6c8-040a031e37a8",
   "metadata": {},
   "outputs": [],
   "source": [
    "# df_major_patho = pd.DataFrame([])\n",
    "# for i, c in enumerate(major_classes.keys()):\n",
    "#     df_ = df_patho[df_patho['Categories']==c]\n",
    "#     df_['Categories'] = i\n",
    "#     df_major_patho = pd.concat([df_major_patho, df_], axis=0)"
   ]
  },
  {
   "cell_type": "code",
   "execution_count": 16,
   "id": "c4f92f1f-2003-42f6-b94d-860fdedcfeba",
   "metadata": {},
   "outputs": [],
   "source": [
    "# df_major_patho"
   ]
  },
  {
   "cell_type": "markdown",
   "id": "b0b05e21-6e10-437d-bc9d-a83489c4e45b",
   "metadata": {
    "jp-MarkdownHeadingCollapsed": true,
    "tags": []
   },
   "source": [
    "## Split all data"
   ]
  },
  {
   "cell_type": "code",
   "execution_count": 17,
   "id": "77fc3522-b190-42c2-8194-d686d2328955",
   "metadata": {},
   "outputs": [],
   "source": [
    "# df_norm_train, df_norm_valid = train_test_split(df_norm, test_size=0.2, random_state=0)\n",
    "# x_abno = df_patho['Image']\n",
    "# y_abno = df_patho['Categories']\n",
    "# x_train, x_valid, y_train, y_valid = train_test_split(x_abno, y_abno, test_size=0.2, random_state=0)\n",
    "\n",
    "# df_train_abno = pd.DataFrame([])\n",
    "# df_train_abno['image'] = list(df_norm_train['Image']) + list(x_train)\n",
    "# df_train_abno['target'] = list(df_norm_train['Categories']) + [1]*len(y_train)\n",
    "# df_train_abno['is_valid'] = False\n",
    "\n",
    "# df_valid_abno = pd.DataFrame([])\n",
    "# df_valid_abno['image'] = list(df_norm_valid['Image']) + list(x_valid)\n",
    "# df_valid_abno['target'] = list(df_norm_valid['Categories']) + [1]*len(y_valid)\n",
    "# df_valid_abno['is_valid'] = True\n",
    "\n",
    "\n",
    "# df_train_patho = pd.DataFrame([])\n",
    "# df_train_patho['image'] = x_train\n",
    "# df_train_patho['target'] = [(y - 1) for y in list(y_train)]\n",
    "# df_train_patho['is_valid'] = False\n",
    "\n",
    "# df_valid_patho = pd.DataFrame([])\n",
    "# df_valid_patho['image'] = x_valid\n",
    "# df_valid_patho['target'] = [(y - 1) for y in list(y_valid)]\n",
    "# df_valid_patho['is_valid'] = True\n",
    "\n",
    "# df_full_abno = pd.concat([df_train_abno, df_valid_abno], axis=0).reset_index()\n",
    "# df_full_patho = pd.concat([df_train_patho, df_valid_patho], axis=0).reset_index()"
   ]
  },
  {
   "cell_type": "code",
   "execution_count": 18,
   "id": "9c3edbad-5f32-4a80-b3fa-a35e94680449",
   "metadata": {},
   "outputs": [],
   "source": [
    "# df_full_abno.to_csv('../resource/hyper_kvasir/df_abnomalies.csv', index=False, header=True)\n",
    "# df_full_patho.to_csv('../resource/hyper_kvasir/df_pathologies.csv', index=False, header=True)"
   ]
  },
  {
   "cell_type": "markdown",
   "id": "2d645458-8be1-43fb-ada3-40b8530b9b44",
   "metadata": {
    "tags": []
   },
   "source": [
    "## Split mock size"
   ]
  },
  {
   "cell_type": "code",
   "execution_count": 11,
   "id": "92410620-52f8-4be9-b027-2c68144d8db0",
   "metadata": {},
   "outputs": [
    {
     "data": {
      "text/plain": [
       "4     1028\n",
       "6      443\n",
       "9      403\n",
       "11     260\n",
       "3      201\n",
       "1      133\n",
       "0       53\n",
       "8       41\n",
       "2       35\n",
       "7       28\n",
       "5       11\n",
       "10       6\n",
       "Name: target, dtype: int64"
      ]
     },
     "execution_count": 11,
     "metadata": {},
     "output_type": "execute_result"
    }
   ],
   "source": [
    "df_full_patho = pd.read_csv('../resource/hyper_kvasir/df_pathologies.csv')\n",
    "df_full_patho['target'].value_counts()"
   ]
  },
  {
   "cell_type": "code",
   "execution_count": 15,
   "id": "7c53321e-3241-4778-9980-02bdfad11a8b",
   "metadata": {},
   "outputs": [
    {
     "data": {
      "text/html": [
       "<div>\n",
       "<style scoped>\n",
       "    .dataframe tbody tr th:only-of-type {\n",
       "        vertical-align: middle;\n",
       "    }\n",
       "\n",
       "    .dataframe tbody tr th {\n",
       "        vertical-align: top;\n",
       "    }\n",
       "\n",
       "    .dataframe thead th {\n",
       "        text-align: right;\n",
       "    }\n",
       "</style>\n",
       "<table border=\"1\" class=\"dataframe\">\n",
       "  <thead>\n",
       "    <tr style=\"text-align: right;\">\n",
       "      <th></th>\n",
       "      <th>index</th>\n",
       "      <th>image</th>\n",
       "      <th>target</th>\n",
       "      <th>is_valid</th>\n",
       "      <th>new_target</th>\n",
       "    </tr>\n",
       "  </thead>\n",
       "  <tbody>\n",
       "    <tr>\n",
       "      <th>0</th>\n",
       "      <td>180</td>\n",
       "      <td>lower-gi-tract/pathological-findings/ulcerativ...</td>\n",
       "      <td>6</td>\n",
       "      <td>False</td>\n",
       "      <td>1</td>\n",
       "    </tr>\n",
       "    <tr>\n",
       "      <th>1</th>\n",
       "      <td>2458</td>\n",
       "      <td>lower-gi-tract/pathological-findings/polyps/93...</td>\n",
       "      <td>4</td>\n",
       "      <td>False</td>\n",
       "      <td>0</td>\n",
       "    </tr>\n",
       "    <tr>\n",
       "      <th>2</th>\n",
       "      <td>2969</td>\n",
       "      <td>lower-gi-tract/pathological-findings/ulcerativ...</td>\n",
       "      <td>1</td>\n",
       "      <td>False</td>\n",
       "      <td>5</td>\n",
       "    </tr>\n",
       "    <tr>\n",
       "      <th>3</th>\n",
       "      <td>5388</td>\n",
       "      <td>lower-gi-tract/pathological-findings/polyps/be...</td>\n",
       "      <td>4</td>\n",
       "      <td>False</td>\n",
       "      <td>0</td>\n",
       "    </tr>\n",
       "    <tr>\n",
       "      <th>4</th>\n",
       "      <td>6219</td>\n",
       "      <td>lower-gi-tract/pathological-findings/polyps/c3...</td>\n",
       "      <td>4</td>\n",
       "      <td>False</td>\n",
       "      <td>0</td>\n",
       "    </tr>\n",
       "  </tbody>\n",
       "</table>\n",
       "</div>"
      ],
      "text/plain": [
       "   index                                              image  target  is_valid  \\\n",
       "0    180  lower-gi-tract/pathological-findings/ulcerativ...       6     False   \n",
       "1   2458  lower-gi-tract/pathological-findings/polyps/93...       4     False   \n",
       "2   2969  lower-gi-tract/pathological-findings/ulcerativ...       1     False   \n",
       "3   5388  lower-gi-tract/pathological-findings/polyps/be...       4     False   \n",
       "4   6219  lower-gi-tract/pathological-findings/polyps/c3...       4     False   \n",
       "\n",
       "   new_target  \n",
       "0           1  \n",
       "1           0  \n",
       "2           5  \n",
       "3           0  \n",
       "4           0  "
      ]
     },
     "execution_count": 15,
     "metadata": {},
     "output_type": "execute_result"
    }
   ],
   "source": [
    "list_new_target = []\n",
    "for t in df_full_patho['target']:\n",
    "    if t in list(pathological_categories['old_target']):\n",
    "        new_target = pathological_categories[pathological_categories['old_target']==t]['target'].iloc[0]\n",
    "        list_new_target.append(new_target)\n",
    "    else:\n",
    "        list_new_target.append(len(pathological_categories))\n",
    "df_full_patho['new_target'] = list_new_target\n",
    "df_full_patho.head()"
   ]
  },
  {
   "cell_type": "code",
   "execution_count": 17,
   "id": "715ead78-15b5-49a8-897e-90adb2d69ea3",
   "metadata": {},
   "outputs": [
    {
     "data": {
      "text/plain": [
       "0    204\n",
       "1     91\n",
       "2     71\n",
       "3     52\n",
       "4     45\n",
       "6     39\n",
       "5     27\n",
       "Name: new_target, dtype: int64"
      ]
     },
     "execution_count": 17,
     "metadata": {},
     "output_type": "execute_result"
    }
   ],
   "source": [
    "df_full_patho[df_full_patho['is_valid']==True]['new_target'].value_counts()"
   ]
  },
  {
   "cell_type": "code",
   "execution_count": 18,
   "id": "641fe06d-c4b0-4c66-8e7c-eadb06513cc8",
   "metadata": {},
   "outputs": [
    {
     "data": {
      "text/plain": [
       "0    824\n",
       "1    352\n",
       "2    332\n",
       "3    208\n",
       "4    156\n",
       "6    135\n",
       "5    106\n",
       "Name: new_target, dtype: int64"
      ]
     },
     "execution_count": 18,
     "metadata": {},
     "output_type": "execute_result"
    }
   ],
   "source": [
    "df_full_patho[df_full_patho['is_valid']==False]['new_target'].value_counts()"
   ]
  },
  {
   "cell_type": "code",
   "execution_count": null,
   "id": "73558b82-bb1c-4a1d-878a-ece6e20289bf",
   "metadata": {},
   "outputs": [],
   "source": []
  },
  {
   "cell_type": "code",
   "execution_count": 19,
   "id": "881c6579-107e-4ea3-b054-0e5277e76870",
   "metadata": {},
   "outputs": [],
   "source": [
    "x_train = df_full_patho[df_full_patho['is_valid']==False]['image']\n",
    "y_train = df_full_patho[df_full_patho['is_valid']==False]['new_target']\n",
    "\n",
    "df_valid_patho = df_full_patho[df_full_patho['is_valid']==True]"
   ]
  },
  {
   "cell_type": "code",
   "execution_count": 20,
   "id": "82bef152-f140-4908-959e-e22623588cf7",
   "metadata": {},
   "outputs": [
    {
     "name": "stderr",
     "output_type": "stream",
     "text": [
      "C:\\Users\\Admin\\anaconda3\\envs\\cls\\lib\\site-packages\\ipykernel_launcher.py:1: SettingWithCopyWarning: \n",
      "A value is trying to be set on a copy of a slice from a DataFrame.\n",
      "Try using .loc[row_indexer,col_indexer] = value instead\n",
      "\n",
      "See the caveats in the documentation: https://pandas.pydata.org/pandas-docs/stable/user_guide/indexing.html#returning-a-view-versus-a-copy\n",
      "  \"\"\"Entry point for launching an IPython kernel.\n"
     ]
    },
    {
     "data": {
      "text/html": [
       "<div>\n",
       "<style scoped>\n",
       "    .dataframe tbody tr th:only-of-type {\n",
       "        vertical-align: middle;\n",
       "    }\n",
       "\n",
       "    .dataframe tbody tr th {\n",
       "        vertical-align: top;\n",
       "    }\n",
       "\n",
       "    .dataframe thead th {\n",
       "        text-align: right;\n",
       "    }\n",
       "</style>\n",
       "<table border=\"1\" class=\"dataframe\">\n",
       "  <thead>\n",
       "    <tr style=\"text-align: right;\">\n",
       "      <th></th>\n",
       "      <th>index</th>\n",
       "      <th>image</th>\n",
       "      <th>target</th>\n",
       "      <th>is_valid</th>\n",
       "      <th>new_target</th>\n",
       "      <th>is_labeled</th>\n",
       "    </tr>\n",
       "  </thead>\n",
       "  <tbody>\n",
       "    <tr>\n",
       "      <th>2113</th>\n",
       "      <td>3050</td>\n",
       "      <td>lower-gi-tract/pathological-findings/polyps/dc...</td>\n",
       "      <td>4</td>\n",
       "      <td>True</td>\n",
       "      <td>0</td>\n",
       "      <td>True</td>\n",
       "    </tr>\n",
       "    <tr>\n",
       "      <th>2114</th>\n",
       "      <td>5461</td>\n",
       "      <td>lower-gi-tract/pathological-findings/polyps/f8...</td>\n",
       "      <td>4</td>\n",
       "      <td>True</td>\n",
       "      <td>0</td>\n",
       "      <td>True</td>\n",
       "    </tr>\n",
       "    <tr>\n",
       "      <th>2115</th>\n",
       "      <td>8895</td>\n",
       "      <td>lower-gi-tract/pathological-findings/ulcerativ...</td>\n",
       "      <td>6</td>\n",
       "      <td>True</td>\n",
       "      <td>1</td>\n",
       "      <td>True</td>\n",
       "    </tr>\n",
       "    <tr>\n",
       "      <th>2116</th>\n",
       "      <td>8464</td>\n",
       "      <td>lower-gi-tract/pathological-findings/ulcerativ...</td>\n",
       "      <td>6</td>\n",
       "      <td>True</td>\n",
       "      <td>1</td>\n",
       "      <td>True</td>\n",
       "    </tr>\n",
       "    <tr>\n",
       "      <th>2117</th>\n",
       "      <td>6077</td>\n",
       "      <td>lower-gi-tract/pathological-findings/polyps/ca...</td>\n",
       "      <td>4</td>\n",
       "      <td>True</td>\n",
       "      <td>0</td>\n",
       "      <td>True</td>\n",
       "    </tr>\n",
       "  </tbody>\n",
       "</table>\n",
       "</div>"
      ],
      "text/plain": [
       "      index                                              image  target  \\\n",
       "2113   3050  lower-gi-tract/pathological-findings/polyps/dc...       4   \n",
       "2114   5461  lower-gi-tract/pathological-findings/polyps/f8...       4   \n",
       "2115   8895  lower-gi-tract/pathological-findings/ulcerativ...       6   \n",
       "2116   8464  lower-gi-tract/pathological-findings/ulcerativ...       6   \n",
       "2117   6077  lower-gi-tract/pathological-findings/polyps/ca...       4   \n",
       "\n",
       "      is_valid  new_target  is_labeled  \n",
       "2113      True           0        True  \n",
       "2114      True           0        True  \n",
       "2115      True           1        True  \n",
       "2116      True           1        True  \n",
       "2117      True           0        True  "
      ]
     },
     "execution_count": 20,
     "metadata": {},
     "output_type": "execute_result"
    }
   ],
   "source": [
    "df_valid_patho['is_labeled'] = True\n",
    "df_valid_patho.head()"
   ]
  },
  {
   "cell_type": "code",
   "execution_count": 26,
   "id": "84c007c2-ed49-4269-aa7e-6b443ac7dc4d",
   "metadata": {},
   "outputs": [],
   "source": [
    "x_train_unlab, x_train_lab, y_train_unlab, y_train_lab  = train_test_split(x_train, \n",
    "                                                                          y_train, \n",
    "                                                                          test_size=0.2,\n",
    "                                                                          random_state=42)\n",
    "\n",
    "\n",
    "df_train_lab = pd.DataFrame([])\n",
    "df_train_lab['image'] = x_train_lab\n",
    "df_train_lab['target'] = y_train_lab\n",
    "df_train_lab['is_valid'] = False\n",
    "df_train_lab['is_labeled'] = True\n",
    "\n",
    "df_train_unlab = pd.DataFrame([])\n",
    "df_train_unlab['image'] = x_train_unlab\n",
    "df_train_unlab['target'] = y_train_unlab\n",
    "df_train_unlab['is_valid'] = False\n",
    "df_train_unlab['is_labeled'] = False\n",
    "\n",
    "df_full_mock = pd.concat([df_train_lab, df_train_unlab, df_valid_patho], axis=0)"
   ]
  },
  {
   "cell_type": "code",
   "execution_count": 27,
   "id": "23a685c4-3580-4c65-86c7-fbc0912f7fac",
   "metadata": {},
   "outputs": [
    {
     "data": {
      "text/plain": [
       "0    155\n",
       "1     81\n",
       "2     64\n",
       "3     45\n",
       "4     29\n",
       "5     25\n",
       "6     24\n",
       "Name: target, dtype: int64"
      ]
     },
     "execution_count": 27,
     "metadata": {},
     "output_type": "execute_result"
    }
   ],
   "source": [
    "df_  = df_full_mock[df_full_mock['is_labeled']==True]\n",
    "df_[df_['is_valid']==False]['target'].value_counts()"
   ]
  },
  {
   "cell_type": "code",
   "execution_count": 28,
   "id": "a9c37597-2b90-474d-8d45-b680b2f62758",
   "metadata": {},
   "outputs": [],
   "source": [
    "df_full_mock.to_csv('../resource/hyper_kvasir/df_6_pathologies_mock_2_8.csv', index=False, header = True)"
   ]
  },
  {
   "cell_type": "code",
   "execution_count": 62,
   "id": "b32f918b-34e6-4950-a8e4-a1eb71aabd86",
   "metadata": {},
   "outputs": [],
   "source": [
    "# df_train_lab['target'].value_counts()"
   ]
  },
  {
   "cell_type": "code",
   "execution_count": 63,
   "id": "4692559f-4e01-4de3-a75c-5df03cd62fa6",
   "metadata": {},
   "outputs": [],
   "source": [
    "# df_valid"
   ]
  },
  {
   "cell_type": "code",
   "execution_count": 22,
   "id": "9f4304e4-6c5c-4419-862d-7848e5bedbd4",
   "metadata": {},
   "outputs": [],
   "source": [
    "# df_full[df_full['is_labeled']==True]"
   ]
  },
  {
   "cell_type": "code",
   "execution_count": 23,
   "id": "cbd32e04-fc1d-41ab-a533-9036a0efe908",
   "metadata": {},
   "outputs": [],
   "source": [
    "# df_full['target'].value_counts()"
   ]
  },
  {
   "cell_type": "code",
   "execution_count": 24,
   "id": "86d5ca23-9b18-453f-9e10-dccd01bbc7cf",
   "metadata": {},
   "outputs": [],
   "source": [
    "# df_full.to_csv('../resource/hyper_kvasir/df_pathologies.csv', index=False, header=True)"
   ]
  },
  {
   "cell_type": "code",
   "execution_count": 11,
   "id": "0f96dac9-efdc-451a-9212-24418deeb690",
   "metadata": {},
   "outputs": [],
   "source": [
    "# x = df_anno['path']\n",
    "# y = df_anno['Categories']\n",
    "\n",
    "# x_train, x_test, y_train, y_test = train_test_split(x, y, test_size=0.2, random_state=0)\n",
    "# x_train_lab, x_train_unlab, y_train_lab, y_train_unlab = train_test_split(x_train, \n",
    "#                                                                           y_train, \n",
    "#                                                                           test_size=0.32, \n",
    "#                                                                           random_state=0)\n",
    "\n",
    "\n",
    "# df_train_lab = pd.DataFrame([])\n",
    "# df_train_lab = pd.DataFrame([])\n",
    "# df_train_lab['image'] = x_train_lab\n",
    "# df_train_lab['target'] = y_train_lab\n",
    "# df_train_lab['is_valid'] = False\n",
    "# df_train_lab['is_labeled'] = True\n",
    "\n",
    "# df_train_unlab = pd.DataFrame([])\n",
    "# df_train_unlab = pd.DataFrame([])\n",
    "# df_train_unlab['image'] = x_train_unlab\n",
    "# df_train_unlab['target'] = y_train_unlab\n",
    "# df_train_unlab['is_valid'] = False\n",
    "# df_train_unlab['is_labeled'] = False\n",
    "\n",
    "\n",
    "# df_valid['image'] = x_test\n",
    "# df_valid['target'] = y_test\n",
    "# df_valid['is_valid'] = True\n",
    "# df_valid['is_labeled'] = True"
   ]
  },
  {
   "cell_type": "code",
   "execution_count": 12,
   "id": "9146e804-561f-4f12-b5ab-ad3594846414",
   "metadata": {},
   "outputs": [],
   "source": [
    "# df_full = pd.concat([df_train_lab, df_train_unlab, df_valid], axis=0).reset_index()\n",
    "# del df_full['index']\n",
    "# df_full"
   ]
  },
  {
   "cell_type": "code",
   "execution_count": 13,
   "id": "36d05cdc-5128-45ee-a01e-aac17f6f8ffb",
   "metadata": {},
   "outputs": [],
   "source": [
    "# fig = df_full['target'].value_counts().plot(kind='bar', figsize=(10, 8), fontsize=10, rot=0).get_figure()"
   ]
  },
  {
   "cell_type": "code",
   "execution_count": 23,
   "id": "e78c7f43-d945-462a-8c08-96edcadf13b6",
   "metadata": {},
   "outputs": [],
   "source": [
    "# df_full.to_csv('../resource/hyper_kvasir/df_abnormal.csv', index=False, header=True)"
   ]
  },
  {
   "cell_type": "code",
   "execution_count": 15,
   "id": "3196529e-f100-4028-b9c6-91b7deeca3f7",
   "metadata": {},
   "outputs": [],
   "source": [
    "# cnt_train = df_train['target'].value_counts()\n",
    "# cnt_valid = df_valid['target'].value_counts()\n",
    "\n",
    "# df_cnt = pd.DataFrame({'train': cnt_train,'valid': cnt_valid})\n",
    "# chart = df_cnt.plot.bar(rot=0, figsize=(10, 8), fontsize=15, stacked=True).get_figure()\n",
    "# # chart.savefig('../resource/visualize/visual_sup.png')"
   ]
  },
  {
   "cell_type": "code",
   "execution_count": 69,
   "id": "8353fec3-dade-42c7-9581-7f48b4da96a3",
   "metadata": {},
   "outputs": [],
   "source": [
    "# cnt_train = df_train['Groupby_Categories']\n",
    "# cnt_train_labeled, cnt_train_unlabeled = train_test_split(cnt_train, test_size = 0.9, random_state = 0)\n",
    "# cnt_train_labeled, cnt_train_unlabeled = cnt_train_labeled.value_counts(), cnt_train_unlabeled.value_counts()\n",
    "# cnt_valid = df_valid['Groupby_Categories'].value_counts()\n",
    "\n",
    "# df_cnt = pd.DataFrame({'train_labeled': cnt_train_labeled, \n",
    "                       \n",
    "#                        'train_unlabeled': cnt_train_unlabeled,\n",
    "#                        'valid': cnt_valid,\n",
    "#                        })\n",
    "# chart_semi = df_cnt.plot.bar(rot=0, \n",
    "#                         figsize=(10, 8), \n",
    "#                         fontsize=15,\n",
    "#                         color={\"train_labeled\": \"#1f76b5\", \"train_unlabeled\": \"green\", \"valid\":\"#fe7e0e\"},\n",
    "#                         stacked=True).get_figure()\n",
    "# chart_semi.savefig('../resource/visualize/visual_semi_1_9.png')"
   ]
  },
  {
   "cell_type": "code",
   "execution_count": 70,
   "id": "55e0e1de-1a8c-410e-b679-b41dbd847bea",
   "metadata": {},
   "outputs": [],
   "source": [
    "# cnt_train_labeled, cnt_train_unlabeled"
   ]
  },
  {
   "cell_type": "code",
   "execution_count": 71,
   "id": "10c2e7ab-ce2e-46c1-a8c6-f87617571627",
   "metadata": {},
   "outputs": [],
   "source": [
    "# df_train['Groupby_Categories'].value_counts()\n",
    "# fig_train.savefig('../resource/visualize/groupcat_train.png')"
   ]
  },
  {
   "cell_type": "code",
   "execution_count": 72,
   "id": "e012084f-1fe0-484d-8010-37f17021b29c",
   "metadata": {},
   "outputs": [],
   "source": [
    "# df_valid['Groupby_Categories'].value_counts()\n",
    "# fig_valid.savefig('../resource/visualize/groupcat_valid.png')"
   ]
  },
  {
   "cell_type": "code",
   "execution_count": 14,
   "id": "8d15e4d5-0a0b-4fda-9fa0-6d0549104a2f",
   "metadata": {},
   "outputs": [],
   "source": [
    "# fig.savefig('../resource/visualize/groupcat.png')"
   ]
  },
  {
   "cell_type": "code",
   "execution_count": 15,
   "id": "67e0de28-0f66-4916-9bbe-124213af60c7",
   "metadata": {},
   "outputs": [],
   "source": [
    "# df_full.to_csv('../resource/hyper_kvasir/full_labeled_group.csv', index=False, header=True)"
   ]
  }
 ],
 "metadata": {
  "kernelspec": {
   "display_name": "cls",
   "language": "python",
   "name": "cls"
  },
  "language_info": {
   "codemirror_mode": {
    "name": "ipython",
    "version": 3
   },
   "file_extension": ".py",
   "mimetype": "text/x-python",
   "name": "python",
   "nbconvert_exporter": "python",
   "pygments_lexer": "ipython3",
   "version": "3.6.13"
  }
 },
 "nbformat": 4,
 "nbformat_minor": 5
}
