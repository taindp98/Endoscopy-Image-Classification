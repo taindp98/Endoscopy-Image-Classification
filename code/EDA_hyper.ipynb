{
 "cells": [
  {
   "cell_type": "code",
   "execution_count": 28,
   "metadata": {},
   "outputs": [],
   "source": [
    "import pandas as pd\n",
    "import os\n",
    "import numpy as np\n",
    "import cv2\n",
    "from tqdm import tqdm\n",
    "from glob import glob\n",
    "from sklearn.model_selection import train_test_split\n",
    "from matplotlib import pyplot as plt\n",
    "from sklearn.model_selection import KFold, StratifiedKFold, cross_val_score"
   ]
  },
  {
   "cell_type": "code",
   "execution_count": 29,
   "metadata": {},
   "outputs": [],
   "source": [
    "# import warnings filter\n",
    "from warnings import simplefilter\n",
    "# ignore all future warnings\n",
    "simplefilter(action='ignore', category=FutureWarning)"
   ]
  },
  {
   "cell_type": "code",
   "execution_count": 35,
   "metadata": {},
   "outputs": [],
   "source": [
    "# _HYPER_KVASIR = 'D:\\\\data\\\\endoscopic\\\\hyper_kvasir\\\\labeled_images'\n",
    "## ubuntu dir\n",
    "_HYPER_KVASIR = '/home/nguyentai/working/data/hyper_kvasir/labeled-images-resize'\n",
    "# _HYPER_KVASIR_LABELED_DEFORM = 'D:\\\\data\\\\endoscopic\\\\hyper_kvasir\\\\labeled_images_deform'"
   ]
  },
  {
   "cell_type": "code",
   "execution_count": 32,
   "metadata": {},
   "outputs": [],
   "source": [
    "df_unanno = pd.read_csv('../resource/hyper_kvasir/full_unlabeled.csv')\n",
    "# df_unanno.head()"
   ]
  },
  {
   "cell_type": "code",
   "execution_count": 33,
   "metadata": {},
   "outputs": [],
   "source": [
    "df_anno = pd.read_csv('../resource/hyper_kvasir/full_labeled_anno.csv')\n",
    "# df_anno.head()"
   ]
  },
  {
   "cell_type": "code",
   "execution_count": 34,
   "metadata": {},
   "outputs": [
    {
     "data": {
      "text/html": [
       "<div>\n",
       "<style scoped>\n",
       "    .dataframe tbody tr th:only-of-type {\n",
       "        vertical-align: middle;\n",
       "    }\n",
       "\n",
       "    .dataframe tbody tr th {\n",
       "        vertical-align: top;\n",
       "    }\n",
       "\n",
       "    .dataframe thead th {\n",
       "        text-align: right;\n",
       "    }\n",
       "</style>\n",
       "<table border=\"1\" class=\"dataframe\">\n",
       "  <thead>\n",
       "    <tr style=\"text-align: right;\">\n",
       "      <th></th>\n",
       "      <th>target</th>\n",
       "      <th>pathologies</th>\n",
       "      <th>samples</th>\n",
       "      <th>old_target</th>\n",
       "    </tr>\n",
       "  </thead>\n",
       "  <tbody>\n",
       "    <tr>\n",
       "      <th>0</th>\n",
       "      <td>0</td>\n",
       "      <td>polyps</td>\n",
       "      <td>1028</td>\n",
       "      <td>4</td>\n",
       "    </tr>\n",
       "    <tr>\n",
       "      <th>1</th>\n",
       "      <td>1</td>\n",
       "      <td>ulcerative-colitis-grade-2</td>\n",
       "      <td>443</td>\n",
       "      <td>6</td>\n",
       "    </tr>\n",
       "    <tr>\n",
       "      <th>2</th>\n",
       "      <td>2</td>\n",
       "      <td>esophagitis-a</td>\n",
       "      <td>403</td>\n",
       "      <td>9</td>\n",
       "    </tr>\n",
       "    <tr>\n",
       "      <th>3</th>\n",
       "      <td>3</td>\n",
       "      <td>esophagitis-b-d</td>\n",
       "      <td>260</td>\n",
       "      <td>11</td>\n",
       "    </tr>\n",
       "    <tr>\n",
       "      <th>4</th>\n",
       "      <td>4</td>\n",
       "      <td>ulcerative-colitis-grade-1</td>\n",
       "      <td>201</td>\n",
       "      <td>3</td>\n",
       "    </tr>\n",
       "    <tr>\n",
       "      <th>5</th>\n",
       "      <td>5</td>\n",
       "      <td>ulcerative-colitis-grade-3</td>\n",
       "      <td>133</td>\n",
       "      <td>1</td>\n",
       "    </tr>\n",
       "  </tbody>\n",
       "</table>\n",
       "</div>"
      ],
      "text/plain": [
       "   target                 pathologies  samples  old_target\n",
       "0       0                      polyps     1028           4\n",
       "1       1  ulcerative-colitis-grade-2      443           6\n",
       "2       2               esophagitis-a      403           9\n",
       "3       3             esophagitis-b-d      260          11\n",
       "4       4  ulcerative-colitis-grade-1      201           3\n",
       "5       5  ulcerative-colitis-grade-3      133           1"
      ]
     },
     "execution_count": 34,
     "metadata": {},
     "output_type": "execute_result"
    }
   ],
   "source": [
    "full_categories = pd.read_csv('../resource/hyper_kvasir/categories.csv')\n",
    "pathological_categories = pd.read_csv('../resource/hyper_kvasir/pathological_categories.csv')\n",
    "pathological_categories\n",
    "# categories"
   ]
  },
  {
   "cell_type": "code",
   "execution_count": 40,
   "metadata": {},
   "outputs": [
    {
     "data": {
      "text/html": [
       "<div>\n",
       "<style scoped>\n",
       "    .dataframe tbody tr th:only-of-type {\n",
       "        vertical-align: middle;\n",
       "    }\n",
       "\n",
       "    .dataframe tbody tr th {\n",
       "        vertical-align: top;\n",
       "    }\n",
       "\n",
       "    .dataframe thead th {\n",
       "        text-align: right;\n",
       "    }\n",
       "</style>\n",
       "<table border=\"1\" class=\"dataframe\">\n",
       "  <thead>\n",
       "    <tr style=\"text-align: right;\">\n",
       "      <th></th>\n",
       "      <th>index</th>\n",
       "      <th>image</th>\n",
       "      <th>target</th>\n",
       "      <th>is_valid</th>\n",
       "    </tr>\n",
       "  </thead>\n",
       "  <tbody>\n",
       "    <tr>\n",
       "      <th>0</th>\n",
       "      <td>180</td>\n",
       "      <td>lower-gi-tract/pathological-findings/ulcerativ...</td>\n",
       "      <td>6</td>\n",
       "      <td>False</td>\n",
       "    </tr>\n",
       "    <tr>\n",
       "      <th>1</th>\n",
       "      <td>2458</td>\n",
       "      <td>lower-gi-tract/pathological-findings/polyps/93...</td>\n",
       "      <td>4</td>\n",
       "      <td>False</td>\n",
       "    </tr>\n",
       "    <tr>\n",
       "      <th>2</th>\n",
       "      <td>2969</td>\n",
       "      <td>lower-gi-tract/pathological-findings/ulcerativ...</td>\n",
       "      <td>1</td>\n",
       "      <td>False</td>\n",
       "    </tr>\n",
       "    <tr>\n",
       "      <th>3</th>\n",
       "      <td>5388</td>\n",
       "      <td>lower-gi-tract/pathological-findings/polyps/be...</td>\n",
       "      <td>4</td>\n",
       "      <td>False</td>\n",
       "    </tr>\n",
       "    <tr>\n",
       "      <th>4</th>\n",
       "      <td>6219</td>\n",
       "      <td>lower-gi-tract/pathological-findings/polyps/c3...</td>\n",
       "      <td>4</td>\n",
       "      <td>False</td>\n",
       "    </tr>\n",
       "  </tbody>\n",
       "</table>\n",
       "</div>"
      ],
      "text/plain": [
       "   index                                              image  target  is_valid\n",
       "0    180  lower-gi-tract/pathological-findings/ulcerativ...       6     False\n",
       "1   2458  lower-gi-tract/pathological-findings/polyps/93...       4     False\n",
       "2   2969  lower-gi-tract/pathological-findings/ulcerativ...       1     False\n",
       "3   5388  lower-gi-tract/pathological-findings/polyps/be...       4     False\n",
       "4   6219  lower-gi-tract/pathological-findings/polyps/c3...       4     False"
      ]
     },
     "execution_count": 40,
     "metadata": {},
     "output_type": "execute_result"
    }
   ],
   "source": [
    "df_patho_12 = pd.read_csv('../resource/hyper_kvasir/df_pathologies.csv')\n",
    "df_patho_12.head()"
   ]
  },
  {
   "cell_type": "code",
   "execution_count": 8,
   "metadata": {},
   "outputs": [],
   "source": [
    "# list_paths = []\n",
    "# for c in categories['findings']:\n",
    "#     path = df_anno[df_anno['Finding']==c]['Image'].iloc[0]\n",
    "#     path = '/'.join(path.split('/')[:-1])\n",
    "#     list_paths.append(path)"
   ]
  },
  {
   "cell_type": "code",
   "execution_count": 9,
   "metadata": {},
   "outputs": [],
   "source": [
    "# categories['path'] = list_paths\n",
    "# categories.to_csv('../resource/hyper_kvasir/categories.csv', index=False, header=True)"
   ]
  },
  {
   "cell_type": "markdown",
   "metadata": {
    "jp-MarkdownHeadingCollapsed": true,
    "tags": []
   },
   "source": [
    "## Mock k-fold"
   ]
  },
  {
   "cell_type": "code",
   "execution_count": 11,
   "metadata": {},
   "outputs": [],
   "source": [
    "df_kfold = pd.read_csv('../resource/hyper_kvasir/df_full_kfold.csv')"
   ]
  },
  {
   "cell_type": "code",
   "execution_count": 29,
   "metadata": {},
   "outputs": [
    {
     "data": {
      "text/html": [
       "<div>\n",
       "<style scoped>\n",
       "    .dataframe tbody tr th:only-of-type {\n",
       "        vertical-align: middle;\n",
       "    }\n",
       "\n",
       "    .dataframe tbody tr th {\n",
       "        vertical-align: top;\n",
       "    }\n",
       "\n",
       "    .dataframe thead th {\n",
       "        text-align: right;\n",
       "    }\n",
       "</style>\n",
       "<table border=\"1\" class=\"dataframe\">\n",
       "  <thead>\n",
       "    <tr style=\"text-align: right;\">\n",
       "      <th></th>\n",
       "      <th>file-name</th>\n",
       "      <th>class-name</th>\n",
       "      <th>split-index</th>\n",
       "      <th>image</th>\n",
       "      <th>target</th>\n",
       "      <th>is_valid</th>\n",
       "    </tr>\n",
       "  </thead>\n",
       "  <tbody>\n",
       "    <tr>\n",
       "      <th>0</th>\n",
       "      <td>4bf58f1c-8233-41fc-9614-344e6d0fc351.jpg</td>\n",
       "      <td>impacted-stool</td>\n",
       "      <td>0</td>\n",
       "      <td>lower-gi-tract/quality-of-mucosal-views/impact...</td>\n",
       "      <td>7</td>\n",
       "      <td>False</td>\n",
       "    </tr>\n",
       "    <tr>\n",
       "      <th>1</th>\n",
       "      <td>9c3e5380-9621-4e74-b937-0c46f37e7ef3.jpg</td>\n",
       "      <td>impacted-stool</td>\n",
       "      <td>0</td>\n",
       "      <td>lower-gi-tract/quality-of-mucosal-views/impact...</td>\n",
       "      <td>7</td>\n",
       "      <td>False</td>\n",
       "    </tr>\n",
       "    <tr>\n",
       "      <th>2</th>\n",
       "      <td>cf3667be-0c86-4ce7-a0f3-721144b67230.jpg</td>\n",
       "      <td>impacted-stool</td>\n",
       "      <td>0</td>\n",
       "      <td>lower-gi-tract/quality-of-mucosal-views/impact...</td>\n",
       "      <td>7</td>\n",
       "      <td>False</td>\n",
       "    </tr>\n",
       "    <tr>\n",
       "      <th>3</th>\n",
       "      <td>8dbf6ead-8801-4a28-b811-62567dd2edb5.jpg</td>\n",
       "      <td>impacted-stool</td>\n",
       "      <td>0</td>\n",
       "      <td>lower-gi-tract/quality-of-mucosal-views/impact...</td>\n",
       "      <td>7</td>\n",
       "      <td>False</td>\n",
       "    </tr>\n",
       "    <tr>\n",
       "      <th>4</th>\n",
       "      <td>af09c241-1417-4a42-91ef-df86bab65f7c.jpg</td>\n",
       "      <td>impacted-stool</td>\n",
       "      <td>0</td>\n",
       "      <td>lower-gi-tract/quality-of-mucosal-views/impact...</td>\n",
       "      <td>7</td>\n",
       "      <td>False</td>\n",
       "    </tr>\n",
       "  </tbody>\n",
       "</table>\n",
       "</div>"
      ],
      "text/plain": [
       "                                  file-name      class-name  split-index  \\\n",
       "0  4bf58f1c-8233-41fc-9614-344e6d0fc351.jpg  impacted-stool            0   \n",
       "1  9c3e5380-9621-4e74-b937-0c46f37e7ef3.jpg  impacted-stool            0   \n",
       "2  cf3667be-0c86-4ce7-a0f3-721144b67230.jpg  impacted-stool            0   \n",
       "3  8dbf6ead-8801-4a28-b811-62567dd2edb5.jpg  impacted-stool            0   \n",
       "4  af09c241-1417-4a42-91ef-df86bab65f7c.jpg  impacted-stool            0   \n",
       "\n",
       "                                               image  target  is_valid  \n",
       "0  lower-gi-tract/quality-of-mucosal-views/impact...       7     False  \n",
       "1  lower-gi-tract/quality-of-mucosal-views/impact...       7     False  \n",
       "2  lower-gi-tract/quality-of-mucosal-views/impact...       7     False  \n",
       "3  lower-gi-tract/quality-of-mucosal-views/impact...       7     False  \n",
       "4  lower-gi-tract/quality-of-mucosal-views/impact...       7     False  "
      ]
     },
     "execution_count": 29,
     "metadata": {},
     "output_type": "execute_result"
    }
   ],
   "source": [
    "df_train = df_kfold[df_kfold['is_valid']==False]\n",
    "df_train.head()"
   ]
  },
  {
   "cell_type": "code",
   "execution_count": 72,
   "metadata": {},
   "outputs": [],
   "source": [
    "df_valid = pd.DataFrame([])\n",
    "df_valid['image'] = list(df_kfold[df_kfold['is_valid']==True]['image'])\n",
    "df_valid['target'] = list(df_kfold[df_kfold['is_valid']==True]['target'])\n",
    "df_valid['is_valid'] = True\n",
    "df_valid['is_labeled'] = True"
   ]
  },
  {
   "cell_type": "code",
   "execution_count": 75,
   "metadata": {},
   "outputs": [],
   "source": [
    "# df_valid"
   ]
  },
  {
   "cell_type": "code",
   "execution_count": 13,
   "metadata": {},
   "outputs": [],
   "source": [
    "x_train = list(df_train['image'])\n",
    "y_train = list(df_train['target'])"
   ]
  },
  {
   "cell_type": "code",
   "execution_count": 83,
   "metadata": {},
   "outputs": [],
   "source": [
    "check = 0\n",
    "while check != 23:\n",
    "    x_train_unlab, x_train_lab, y_train_unlab, y_train_lab  = train_test_split(x_train, \n",
    "                                                                              y_train, \n",
    "                                                                              test_size=0.2)\n",
    "                                                                              # random_state=0)\n",
    "    check = len(set(y_train_lab))\n",
    "    df_train_lab = pd.DataFrame([])\n",
    "    df_train_lab['image'] = x_train_lab\n",
    "    df_train_lab['target'] = y_train_lab\n",
    "    df_train_lab['is_valid'] = False\n",
    "    df_train_lab['is_labeled'] = True\n",
    "\n",
    "    df_train_unlab = pd.DataFrame([])\n",
    "    df_train_unlab['image'] = x_train_unlab\n",
    "    df_train_unlab['target'] = y_train_unlab\n",
    "    df_train_unlab['is_valid'] = False\n",
    "    df_train_unlab['is_labeled'] = False\n",
    "\n",
    "    df_full_mock = pd.concat([df_train_lab, df_train_unlab, df_valid], axis=0)"
   ]
  },
  {
   "cell_type": "code",
   "execution_count": 84,
   "metadata": {},
   "outputs": [],
   "source": [
    "df_full_mock.to_csv('../resource/hyper_kvasir/df_split_mock_2_8.csv', index=False, header = True)"
   ]
  },
  {
   "cell_type": "markdown",
   "metadata": {
    "jp-MarkdownHeadingCollapsed": true,
    "tags": []
   },
   "source": [
    "## Read k-fold split"
   ]
  },
  {
   "cell_type": "code",
   "execution_count": 8,
   "metadata": {},
   "outputs": [
    {
     "data": {
      "text/html": [
       "<div>\n",
       "<style scoped>\n",
       "    .dataframe tbody tr th:only-of-type {\n",
       "        vertical-align: middle;\n",
       "    }\n",
       "\n",
       "    .dataframe tbody tr th {\n",
       "        vertical-align: top;\n",
       "    }\n",
       "\n",
       "    .dataframe thead th {\n",
       "        text-align: right;\n",
       "    }\n",
       "</style>\n",
       "<table border=\"1\" class=\"dataframe\">\n",
       "  <thead>\n",
       "    <tr style=\"text-align: right;\">\n",
       "      <th></th>\n",
       "      <th>file-name</th>\n",
       "      <th>class-name</th>\n",
       "      <th>split-index</th>\n",
       "    </tr>\n",
       "  </thead>\n",
       "  <tbody>\n",
       "    <tr>\n",
       "      <th>0</th>\n",
       "      <td>4bf58f1c-8233-41fc-9614-344e6d0fc351.jpg</td>\n",
       "      <td>impacted-stool</td>\n",
       "      <td>0</td>\n",
       "    </tr>\n",
       "    <tr>\n",
       "      <th>1</th>\n",
       "      <td>9c3e5380-9621-4e74-b937-0c46f37e7ef3.jpg</td>\n",
       "      <td>impacted-stool</td>\n",
       "      <td>0</td>\n",
       "    </tr>\n",
       "    <tr>\n",
       "      <th>2</th>\n",
       "      <td>cf3667be-0c86-4ce7-a0f3-721144b67230.jpg</td>\n",
       "      <td>impacted-stool</td>\n",
       "      <td>0</td>\n",
       "    </tr>\n",
       "    <tr>\n",
       "      <th>3</th>\n",
       "      <td>8dbf6ead-8801-4a28-b811-62567dd2edb5.jpg</td>\n",
       "      <td>impacted-stool</td>\n",
       "      <td>0</td>\n",
       "    </tr>\n",
       "    <tr>\n",
       "      <th>4</th>\n",
       "      <td>af09c241-1417-4a42-91ef-df86bab65f7c.jpg</td>\n",
       "      <td>impacted-stool</td>\n",
       "      <td>0</td>\n",
       "    </tr>\n",
       "  </tbody>\n",
       "</table>\n",
       "</div>"
      ],
      "text/plain": [
       "                                  file-name      class-name  split-index\n",
       "0  4bf58f1c-8233-41fc-9614-344e6d0fc351.jpg  impacted-stool            0\n",
       "1  9c3e5380-9621-4e74-b937-0c46f37e7ef3.jpg  impacted-stool            0\n",
       "2  cf3667be-0c86-4ce7-a0f3-721144b67230.jpg  impacted-stool            0\n",
       "3  8dbf6ead-8801-4a28-b811-62567dd2edb5.jpg  impacted-stool            0\n",
       "4  af09c241-1417-4a42-91ef-df86bab65f7c.jpg  impacted-stool            0"
      ]
     },
     "execution_count": 8,
     "metadata": {},
     "output_type": "execute_result"
    }
   ],
   "source": [
    "df_kfold = pd.read_csv('../resource/hyper_kvasir/2_fold_split.csv', sep = ';')\n",
    "df_kfold.head()"
   ]
  },
  {
   "cell_type": "code",
   "execution_count": 52,
   "metadata": {},
   "outputs": [],
   "source": [
    "dict_correct_cat_name = {'oesophagitis-b-d': 'esophagitis-b-d',\n",
    "                         'short-segment-barretts': 'barretts-short-segment',\n",
    "                         'oesophagitis-a': 'esophagitis-a',\n",
    "                         'normal-pylorus': 'pylorus',\n",
    "                         'hemorroids': 'hemorrhoids',\n",
    "                         'normal-cecum': 'cecum',\n",
    "                         'polyp': 'polyps',\n",
    "                         'normal-z-line': 'z-line'}"
   ]
  },
  {
   "cell_type": "code",
   "execution_count": 58,
   "metadata": {},
   "outputs": [],
   "source": [
    "list_img_path = []\n",
    "list_targets = []\n",
    "for i in range(len(df_kfold)):\n",
    "    cls_name = df_kfold['class-name'].iloc[i]\n",
    "    if cls_name in dict_correct_cat_name.keys():\n",
    "        df_kfold['class-name'].iloc[i] = dict_correct_cat_name[cls_name]\n",
    "        \n",
    "    cls_name = df_kfold['class-name'].iloc[i]\n",
    "    dir_path = categories[categories['findings']==cls_name]['path'].iloc[0]\n",
    "    img_path = os.path.join(dir_path, df_kfold['file-name'].iloc[i]).replace('\\\\','/')\n",
    "    list_img_path.append(img_path)\n",
    "    target = categories[categories['findings']==cls_name]['target'].iloc[0]\n",
    "    list_targets.append(target)"
   ]
  },
  {
   "cell_type": "code",
   "execution_count": 54,
   "metadata": {},
   "outputs": [],
   "source": [
    "# list_cate_kfold = list(set(list(df_kfold['class-name'])))\n",
    "# for item in list_cate_kfold:\n",
    "#     if not item in list(categories['findings']):\n",
    "#         print(item)"
   ]
  },
  {
   "cell_type": "code",
   "execution_count": 59,
   "metadata": {},
   "outputs": [
    {
     "name": "stderr",
     "output_type": "stream",
     "text": [
      "C:\\Users\\Admin\\anaconda3\\envs\\cls\\lib\\site-packages\\ipykernel_launcher.py:4: SettingWithCopyWarning: \n",
      "A value is trying to be set on a copy of a slice from a DataFrame.\n",
      "Try using .loc[row_indexer,col_indexer] = value instead\n",
      "\n",
      "See the caveats in the documentation: https://pandas.pydata.org/pandas-docs/stable/user_guide/indexing.html#returning-a-view-versus-a-copy\n",
      "  after removing the cwd from sys.path.\n",
      "C:\\Users\\Admin\\anaconda3\\envs\\cls\\lib\\site-packages\\ipykernel_launcher.py:6: SettingWithCopyWarning: \n",
      "A value is trying to be set on a copy of a slice from a DataFrame.\n",
      "Try using .loc[row_indexer,col_indexer] = value instead\n",
      "\n",
      "See the caveats in the documentation: https://pandas.pydata.org/pandas-docs/stable/user_guide/indexing.html#returning-a-view-versus-a-copy\n",
      "  \n"
     ]
    },
    {
     "data": {
      "text/html": [
       "<div>\n",
       "<style scoped>\n",
       "    .dataframe tbody tr th:only-of-type {\n",
       "        vertical-align: middle;\n",
       "    }\n",
       "\n",
       "    .dataframe tbody tr th {\n",
       "        vertical-align: top;\n",
       "    }\n",
       "\n",
       "    .dataframe thead th {\n",
       "        text-align: right;\n",
       "    }\n",
       "</style>\n",
       "<table border=\"1\" class=\"dataframe\">\n",
       "  <thead>\n",
       "    <tr style=\"text-align: right;\">\n",
       "      <th></th>\n",
       "      <th>file-name</th>\n",
       "      <th>class-name</th>\n",
       "      <th>split-index</th>\n",
       "      <th>image</th>\n",
       "      <th>target</th>\n",
       "      <th>is_valid</th>\n",
       "    </tr>\n",
       "  </thead>\n",
       "  <tbody>\n",
       "    <tr>\n",
       "      <th>0</th>\n",
       "      <td>4bf58f1c-8233-41fc-9614-344e6d0fc351.jpg</td>\n",
       "      <td>impacted-stool</td>\n",
       "      <td>0</td>\n",
       "      <td>lower-gi-tract/quality-of-mucosal-views/impact...</td>\n",
       "      <td>7</td>\n",
       "      <td>False</td>\n",
       "    </tr>\n",
       "    <tr>\n",
       "      <th>1</th>\n",
       "      <td>9c3e5380-9621-4e74-b937-0c46f37e7ef3.jpg</td>\n",
       "      <td>impacted-stool</td>\n",
       "      <td>0</td>\n",
       "      <td>lower-gi-tract/quality-of-mucosal-views/impact...</td>\n",
       "      <td>7</td>\n",
       "      <td>False</td>\n",
       "    </tr>\n",
       "    <tr>\n",
       "      <th>2</th>\n",
       "      <td>cf3667be-0c86-4ce7-a0f3-721144b67230.jpg</td>\n",
       "      <td>impacted-stool</td>\n",
       "      <td>0</td>\n",
       "      <td>lower-gi-tract/quality-of-mucosal-views/impact...</td>\n",
       "      <td>7</td>\n",
       "      <td>False</td>\n",
       "    </tr>\n",
       "    <tr>\n",
       "      <th>3</th>\n",
       "      <td>8dbf6ead-8801-4a28-b811-62567dd2edb5.jpg</td>\n",
       "      <td>impacted-stool</td>\n",
       "      <td>0</td>\n",
       "      <td>lower-gi-tract/quality-of-mucosal-views/impact...</td>\n",
       "      <td>7</td>\n",
       "      <td>False</td>\n",
       "    </tr>\n",
       "    <tr>\n",
       "      <th>4</th>\n",
       "      <td>af09c241-1417-4a42-91ef-df86bab65f7c.jpg</td>\n",
       "      <td>impacted-stool</td>\n",
       "      <td>0</td>\n",
       "      <td>lower-gi-tract/quality-of-mucosal-views/impact...</td>\n",
       "      <td>7</td>\n",
       "      <td>False</td>\n",
       "    </tr>\n",
       "  </tbody>\n",
       "</table>\n",
       "</div>"
      ],
      "text/plain": [
       "                                  file-name      class-name  split-index  \\\n",
       "0  4bf58f1c-8233-41fc-9614-344e6d0fc351.jpg  impacted-stool            0   \n",
       "1  9c3e5380-9621-4e74-b937-0c46f37e7ef3.jpg  impacted-stool            0   \n",
       "2  cf3667be-0c86-4ce7-a0f3-721144b67230.jpg  impacted-stool            0   \n",
       "3  8dbf6ead-8801-4a28-b811-62567dd2edb5.jpg  impacted-stool            0   \n",
       "4  af09c241-1417-4a42-91ef-df86bab65f7c.jpg  impacted-stool            0   \n",
       "\n",
       "                                               image  target  is_valid  \n",
       "0  lower-gi-tract/quality-of-mucosal-views/impact...       7     False  \n",
       "1  lower-gi-tract/quality-of-mucosal-views/impact...       7     False  \n",
       "2  lower-gi-tract/quality-of-mucosal-views/impact...       7     False  \n",
       "3  lower-gi-tract/quality-of-mucosal-views/impact...       7     False  \n",
       "4  lower-gi-tract/quality-of-mucosal-views/impact...       7     False  "
      ]
     },
     "execution_count": 59,
     "metadata": {},
     "output_type": "execute_result"
    }
   ],
   "source": [
    "df_kfold['image'] = list_img_path\n",
    "df_kfold['target'] = list_targets\n",
    "df_train = df_kfold[df_kfold['split-index']==0]\n",
    "df_train['is_valid'] = False\n",
    "df_valid = df_kfold[df_kfold['split-index']==1]\n",
    "df_valid['is_valid'] = True\n",
    "\n",
    "df_full = pd.concat([df_train, df_valid], axis=0)\n",
    "df_full.head()"
   ]
  },
  {
   "cell_type": "code",
   "execution_count": 60,
   "metadata": {},
   "outputs": [
    {
     "data": {
      "text/plain": [
       "'lower-gi-tract/quality-of-mucosal-views/impacted-stool/4bf58f1c-8233-41fc-9614-344e6d0fc351.jpg'"
      ]
     },
     "execution_count": 60,
     "metadata": {},
     "output_type": "execute_result"
    }
   ],
   "source": [
    "df_full['image'].iloc[0]"
   ]
  },
  {
   "cell_type": "code",
   "execution_count": 61,
   "metadata": {},
   "outputs": [],
   "source": [
    "df_full.to_csv('../resource/hyper_kvasir/df_full_kfold.csv', index=False, header=True)"
   ]
  },
  {
   "cell_type": "code",
   "execution_count": 6,
   "metadata": {},
   "outputs": [],
   "source": [
    "list_cat_abn = []\n",
    "for c in df_anno['Categories']:\n",
    "    if c != 0:\n",
    "        list_cat_abn.append(1)\n",
    "    else:\n",
    "        list_cat_abn.append(c)\n",
    "df_anno['Abnormal'] = list_cat_abn"
   ]
  },
  {
   "cell_type": "code",
   "execution_count": 7,
   "metadata": {},
   "outputs": [
    {
     "data": {
      "text/plain": [
       "0    8020\n",
       "1    2642\n",
       "Name: Abnormal, dtype: int64"
      ]
     },
     "execution_count": 7,
     "metadata": {},
     "output_type": "execute_result"
    }
   ],
   "source": [
    "df_anno['Abnormal'].value_counts()"
   ]
  },
  {
   "cell_type": "code",
   "execution_count": 8,
   "metadata": {},
   "outputs": [],
   "source": [
    "# df_anno"
   ]
  },
  {
   "cell_type": "code",
   "execution_count": 9,
   "metadata": {},
   "outputs": [],
   "source": [
    "df_norm = df_anno[df_anno['Abnormal'] == 0]\n",
    "df_patho = df_anno[df_anno['Abnormal'] == 1]"
   ]
  },
  {
   "cell_type": "code",
   "execution_count": 10,
   "metadata": {},
   "outputs": [],
   "source": [
    "## set the new categories\n",
    "# for idx, c in enumerate(df_patho['Categories']):\n",
    "#     df_patho['Categories'].iloc[idx] = c - 1"
   ]
  },
  {
   "cell_type": "code",
   "execution_count": 11,
   "metadata": {},
   "outputs": [],
   "source": [
    "dict_cate = {}\n",
    "for i in range(13):\n",
    "    df_ = df_anno[df_anno['Categories']==i]\n",
    "    cat = set(df_['Finding'])\n",
    "    dict_cate[i] = cat"
   ]
  },
  {
   "cell_type": "code",
   "execution_count": 12,
   "metadata": {},
   "outputs": [
    {
     "data": {
      "text/plain": [
       "{0: {'bbps-0-1',\n",
       "  'bbps-2-3',\n",
       "  'cecum',\n",
       "  'dyed-lifted-polyps',\n",
       "  'dyed-resection-margins',\n",
       "  'ileum',\n",
       "  'impacted-stool',\n",
       "  'pylorus',\n",
       "  'retroflex-rectum',\n",
       "  'retroflex-stomach',\n",
       "  'z-line'},\n",
       " 1: {'barretts-short-segment'},\n",
       " 2: {'ulcerative-colitis-grade-3'},\n",
       " 3: {'ulcerative-colitis-grade-0-1'},\n",
       " 4: {'ulcerative-colitis-grade-1'},\n",
       " 5: {'polyps'},\n",
       " 6: {'ulcerative-colitis-grade-1-2'},\n",
       " 7: {'ulcerative-colitis-grade-2'},\n",
       " 8: {'ulcerative-colitis-grade-2-3'},\n",
       " 9: {'barretts'},\n",
       " 10: {'esophagitis-a'},\n",
       " 11: {'hemorrhoids'},\n",
       " 12: {'esophagitis-b-d'}}"
      ]
     },
     "execution_count": 12,
     "metadata": {},
     "output_type": "execute_result"
    }
   ],
   "source": [
    "dict_cate"
   ]
  },
  {
   "cell_type": "code",
   "execution_count": 13,
   "metadata": {},
   "outputs": [],
   "source": [
    "# df_patho['Categories'].value_counts()[:6]"
   ]
  },
  {
   "cell_type": "code",
   "execution_count": 14,
   "metadata": {},
   "outputs": [],
   "source": [
    "# major_classes = dict(df_patho['Categories'].value_counts()[:6])\n",
    "# sum(major_classes.values())"
   ]
  },
  {
   "cell_type": "code",
   "execution_count": 15,
   "metadata": {},
   "outputs": [],
   "source": [
    "# df_major_patho = pd.DataFrame([])\n",
    "# for i, c in enumerate(major_classes.keys()):\n",
    "#     df_ = df_patho[df_patho['Categories']==c]\n",
    "#     df_['Categories'] = i\n",
    "#     df_major_patho = pd.concat([df_major_patho, df_], axis=0)"
   ]
  },
  {
   "cell_type": "code",
   "execution_count": 16,
   "metadata": {},
   "outputs": [],
   "source": [
    "# df_major_patho"
   ]
  },
  {
   "cell_type": "markdown",
   "metadata": {
    "tags": []
   },
   "source": [
    "## Split all data"
   ]
  },
  {
   "cell_type": "code",
   "execution_count": 17,
   "metadata": {},
   "outputs": [],
   "source": [
    "# df_norm_train, df_norm_valid = train_test_split(df_norm, test_size=0.2, random_state=0)\n",
    "# x_abno = df_patho['Image']\n",
    "# y_abno = df_patho['Categories']\n",
    "# x_train, x_valid, y_train, y_valid = train_test_split(x_abno, y_abno, test_size=0.2, random_state=0)\n",
    "\n",
    "# df_train_abno = pd.DataFrame([])\n",
    "# df_train_abno['image'] = list(df_norm_train['Image']) + list(x_train)\n",
    "# df_train_abno['target'] = list(df_norm_train['Categories']) + [1]*len(y_train)\n",
    "# df_train_abno['is_valid'] = False\n",
    "\n",
    "# df_valid_abno = pd.DataFrame([])\n",
    "# df_valid_abno['image'] = list(df_norm_valid['Image']) + list(x_valid)\n",
    "# df_valid_abno['target'] = list(df_norm_valid['Categories']) + [1]*len(y_valid)\n",
    "# df_valid_abno['is_valid'] = True\n",
    "\n",
    "\n",
    "# df_train_patho = pd.DataFrame([])\n",
    "# df_train_patho['image'] = x_train\n",
    "# df_train_patho['target'] = [(y - 1) for y in list(y_train)]\n",
    "# df_train_patho['is_valid'] = False\n",
    "\n",
    "# df_valid_patho = pd.DataFrame([])\n",
    "# df_valid_patho['image'] = x_valid\n",
    "# df_valid_patho['target'] = [(y - 1) for y in list(y_valid)]\n",
    "# df_valid_patho['is_valid'] = True\n",
    "\n",
    "# df_full_abno = pd.concat([df_train_abno, df_valid_abno], axis=0).reset_index()\n",
    "# df_full_patho = pd.concat([df_train_patho, df_valid_patho], axis=0).reset_index()"
   ]
  },
  {
   "cell_type": "code",
   "execution_count": 18,
   "metadata": {},
   "outputs": [],
   "source": [
    "# df_full_abno.to_csv('../resource/hyper_kvasir/df_abnomalies.csv', index=False, header=True)\n",
    "# df_full_patho.to_csv('../resource/hyper_kvasir/df_pathologies.csv', index=False, header=True)"
   ]
  },
  {
   "cell_type": "code",
   "execution_count": 12,
   "metadata": {},
   "outputs": [],
   "source": [
    "# df_full_abno = pd.read_csv('../resource/hyper_kvasir/df_abnomalies.csv')"
   ]
  },
  {
   "cell_type": "code",
   "execution_count": 13,
   "metadata": {},
   "outputs": [],
   "source": [
    "# df_full_abno"
   ]
  },
  {
   "cell_type": "code",
   "execution_count": 14,
   "metadata": {},
   "outputs": [],
   "source": [
    "# df_full_abno[df_full_abno['is_valid']==True]['target'].value_counts()df_patho_12"
   ]
  },
  {
   "cell_type": "code",
   "execution_count": 15,
   "metadata": {},
   "outputs": [],
   "source": [
    "# df_full_abno['target'].value_counts()"
   ]
  },
  {
   "cell_type": "markdown",
   "metadata": {
    "tags": []
   },
   "source": [
    "## Select pathological training"
   ]
  },
  {
   "cell_type": "code",
   "execution_count": 16,
   "metadata": {},
   "outputs": [
    {
     "data": {
      "text/plain": [
       "4     1028\n",
       "6      443\n",
       "9      403\n",
       "11     260\n",
       "3      201\n",
       "1      133\n",
       "0       53\n",
       "8       41\n",
       "2       35\n",
       "7       28\n",
       "5       11\n",
       "10       6\n",
       "Name: target, dtype: int64"
      ]
     },
     "execution_count": 16,
     "metadata": {},
     "output_type": "execute_result"
    }
   ],
   "source": [
    "df_full_patho = pd.read_csv('../resource/hyper_kvasir/df_pathologies.csv')\n",
    "df_full_patho['target'].value_counts()"
   ]
  },
  {
   "cell_type": "code",
   "execution_count": 17,
   "metadata": {},
   "outputs": [
    {
     "data": {
      "text/html": [
       "<div>\n",
       "<style scoped>\n",
       "    .dataframe tbody tr th:only-of-type {\n",
       "        vertical-align: middle;\n",
       "    }\n",
       "\n",
       "    .dataframe tbody tr th {\n",
       "        vertical-align: top;\n",
       "    }\n",
       "\n",
       "    .dataframe thead th {\n",
       "        text-align: right;\n",
       "    }\n",
       "</style>\n",
       "<table border=\"1\" class=\"dataframe\">\n",
       "  <thead>\n",
       "    <tr style=\"text-align: right;\">\n",
       "      <th></th>\n",
       "      <th>index</th>\n",
       "      <th>image</th>\n",
       "      <th>target</th>\n",
       "      <th>is_valid</th>\n",
       "      <th>new_target</th>\n",
       "    </tr>\n",
       "  </thead>\n",
       "  <tbody>\n",
       "    <tr>\n",
       "      <th>0</th>\n",
       "      <td>180</td>\n",
       "      <td>lower-gi-tract/pathological-findings/ulcerativ...</td>\n",
       "      <td>6</td>\n",
       "      <td>False</td>\n",
       "      <td>1</td>\n",
       "    </tr>\n",
       "    <tr>\n",
       "      <th>1</th>\n",
       "      <td>2458</td>\n",
       "      <td>lower-gi-tract/pathological-findings/polyps/93...</td>\n",
       "      <td>4</td>\n",
       "      <td>False</td>\n",
       "      <td>0</td>\n",
       "    </tr>\n",
       "    <tr>\n",
       "      <th>2</th>\n",
       "      <td>2969</td>\n",
       "      <td>lower-gi-tract/pathological-findings/ulcerativ...</td>\n",
       "      <td>1</td>\n",
       "      <td>False</td>\n",
       "      <td>5</td>\n",
       "    </tr>\n",
       "    <tr>\n",
       "      <th>3</th>\n",
       "      <td>5388</td>\n",
       "      <td>lower-gi-tract/pathological-findings/polyps/be...</td>\n",
       "      <td>4</td>\n",
       "      <td>False</td>\n",
       "      <td>0</td>\n",
       "    </tr>\n",
       "    <tr>\n",
       "      <th>4</th>\n",
       "      <td>6219</td>\n",
       "      <td>lower-gi-tract/pathological-findings/polyps/c3...</td>\n",
       "      <td>4</td>\n",
       "      <td>False</td>\n",
       "      <td>0</td>\n",
       "    </tr>\n",
       "    <tr>\n",
       "      <th>...</th>\n",
       "      <td>...</td>\n",
       "      <td>...</td>\n",
       "      <td>...</td>\n",
       "      <td>...</td>\n",
       "      <td>...</td>\n",
       "    </tr>\n",
       "    <tr>\n",
       "      <th>2637</th>\n",
       "      <td>9965</td>\n",
       "      <td>lower-gi-tract/pathological-findings/polyps/87...</td>\n",
       "      <td>4</td>\n",
       "      <td>True</td>\n",
       "      <td>0</td>\n",
       "    </tr>\n",
       "    <tr>\n",
       "      <th>2638</th>\n",
       "      <td>4471</td>\n",
       "      <td>upper-gi-tract/pathological-findings/esophagit...</td>\n",
       "      <td>9</td>\n",
       "      <td>True</td>\n",
       "      <td>2</td>\n",
       "    </tr>\n",
       "    <tr>\n",
       "      <th>2639</th>\n",
       "      <td>1549</td>\n",
       "      <td>lower-gi-tract/pathological-findings/polyps/aa...</td>\n",
       "      <td>4</td>\n",
       "      <td>True</td>\n",
       "      <td>0</td>\n",
       "    </tr>\n",
       "    <tr>\n",
       "      <th>2640</th>\n",
       "      <td>8782</td>\n",
       "      <td>lower-gi-tract/pathological-findings/ulcerativ...</td>\n",
       "      <td>6</td>\n",
       "      <td>True</td>\n",
       "      <td>1</td>\n",
       "    </tr>\n",
       "    <tr>\n",
       "      <th>2641</th>\n",
       "      <td>5020</td>\n",
       "      <td>lower-gi-tract/pathological-findings/polyps/89...</td>\n",
       "      <td>4</td>\n",
       "      <td>True</td>\n",
       "      <td>0</td>\n",
       "    </tr>\n",
       "  </tbody>\n",
       "</table>\n",
       "<p>2642 rows × 5 columns</p>\n",
       "</div>"
      ],
      "text/plain": [
       "      index                                              image  target  \\\n",
       "0       180  lower-gi-tract/pathological-findings/ulcerativ...       6   \n",
       "1      2458  lower-gi-tract/pathological-findings/polyps/93...       4   \n",
       "2      2969  lower-gi-tract/pathological-findings/ulcerativ...       1   \n",
       "3      5388  lower-gi-tract/pathological-findings/polyps/be...       4   \n",
       "4      6219  lower-gi-tract/pathological-findings/polyps/c3...       4   \n",
       "...     ...                                                ...     ...   \n",
       "2637   9965  lower-gi-tract/pathological-findings/polyps/87...       4   \n",
       "2638   4471  upper-gi-tract/pathological-findings/esophagit...       9   \n",
       "2639   1549  lower-gi-tract/pathological-findings/polyps/aa...       4   \n",
       "2640   8782  lower-gi-tract/pathological-findings/ulcerativ...       6   \n",
       "2641   5020  lower-gi-tract/pathological-findings/polyps/89...       4   \n",
       "\n",
       "      is_valid  new_target  \n",
       "0        False           1  \n",
       "1        False           0  \n",
       "2        False           5  \n",
       "3        False           0  \n",
       "4        False           0  \n",
       "...        ...         ...  \n",
       "2637      True           0  \n",
       "2638      True           2  \n",
       "2639      True           0  \n",
       "2640      True           1  \n",
       "2641      True           0  \n",
       "\n",
       "[2642 rows x 5 columns]"
      ]
     },
     "execution_count": 17,
     "metadata": {},
     "output_type": "execute_result"
    }
   ],
   "source": [
    "list_new_target = []\n",
    "for t in df_full_patho['target']:\n",
    "    if t in list(pathological_categories['old_target']):\n",
    "        new_target = pathological_categories[pathological_categories['old_target']==t]['target'].iloc[0]\n",
    "        list_new_target.append(new_target)\n",
    "    else:\n",
    "        list_new_target.append(len(pathological_categories))\n",
    "df_full_patho['new_target'] = list_new_target\n",
    "df_full_patho"
   ]
  },
  {
   "cell_type": "code",
   "execution_count": 18,
   "metadata": {},
   "outputs": [
    {
     "data": {
      "text/html": [
       "<div>\n",
       "<style scoped>\n",
       "    .dataframe tbody tr th:only-of-type {\n",
       "        vertical-align: middle;\n",
       "    }\n",
       "\n",
       "    .dataframe tbody tr th {\n",
       "        vertical-align: top;\n",
       "    }\n",
       "\n",
       "    .dataframe thead th {\n",
       "        text-align: right;\n",
       "    }\n",
       "</style>\n",
       "<table border=\"1\" class=\"dataframe\">\n",
       "  <thead>\n",
       "    <tr style=\"text-align: right;\">\n",
       "      <th></th>\n",
       "      <th>index</th>\n",
       "      <th>image</th>\n",
       "      <th>target</th>\n",
       "      <th>is_valid</th>\n",
       "      <th>new_target</th>\n",
       "    </tr>\n",
       "  </thead>\n",
       "  <tbody>\n",
       "    <tr>\n",
       "      <th>0</th>\n",
       "      <td>180</td>\n",
       "      <td>lower-gi-tract/pathological-findings/ulcerativ...</td>\n",
       "      <td>6</td>\n",
       "      <td>False</td>\n",
       "      <td>1</td>\n",
       "    </tr>\n",
       "    <tr>\n",
       "      <th>1</th>\n",
       "      <td>2458</td>\n",
       "      <td>lower-gi-tract/pathological-findings/polyps/93...</td>\n",
       "      <td>4</td>\n",
       "      <td>False</td>\n",
       "      <td>0</td>\n",
       "    </tr>\n",
       "    <tr>\n",
       "      <th>2</th>\n",
       "      <td>2969</td>\n",
       "      <td>lower-gi-tract/pathological-findings/ulcerativ...</td>\n",
       "      <td>1</td>\n",
       "      <td>False</td>\n",
       "      <td>5</td>\n",
       "    </tr>\n",
       "    <tr>\n",
       "      <th>3</th>\n",
       "      <td>5388</td>\n",
       "      <td>lower-gi-tract/pathological-findings/polyps/be...</td>\n",
       "      <td>4</td>\n",
       "      <td>False</td>\n",
       "      <td>0</td>\n",
       "    </tr>\n",
       "    <tr>\n",
       "      <th>4</th>\n",
       "      <td>6219</td>\n",
       "      <td>lower-gi-tract/pathological-findings/polyps/c3...</td>\n",
       "      <td>4</td>\n",
       "      <td>False</td>\n",
       "      <td>0</td>\n",
       "    </tr>\n",
       "    <tr>\n",
       "      <th>...</th>\n",
       "      <td>...</td>\n",
       "      <td>...</td>\n",
       "      <td>...</td>\n",
       "      <td>...</td>\n",
       "      <td>...</td>\n",
       "    </tr>\n",
       "    <tr>\n",
       "      <th>2637</th>\n",
       "      <td>9965</td>\n",
       "      <td>lower-gi-tract/pathological-findings/polyps/87...</td>\n",
       "      <td>4</td>\n",
       "      <td>True</td>\n",
       "      <td>0</td>\n",
       "    </tr>\n",
       "    <tr>\n",
       "      <th>2638</th>\n",
       "      <td>4471</td>\n",
       "      <td>upper-gi-tract/pathological-findings/esophagit...</td>\n",
       "      <td>9</td>\n",
       "      <td>True</td>\n",
       "      <td>2</td>\n",
       "    </tr>\n",
       "    <tr>\n",
       "      <th>2639</th>\n",
       "      <td>1549</td>\n",
       "      <td>lower-gi-tract/pathological-findings/polyps/aa...</td>\n",
       "      <td>4</td>\n",
       "      <td>True</td>\n",
       "      <td>0</td>\n",
       "    </tr>\n",
       "    <tr>\n",
       "      <th>2640</th>\n",
       "      <td>8782</td>\n",
       "      <td>lower-gi-tract/pathological-findings/ulcerativ...</td>\n",
       "      <td>6</td>\n",
       "      <td>True</td>\n",
       "      <td>1</td>\n",
       "    </tr>\n",
       "    <tr>\n",
       "      <th>2641</th>\n",
       "      <td>5020</td>\n",
       "      <td>lower-gi-tract/pathological-findings/polyps/89...</td>\n",
       "      <td>4</td>\n",
       "      <td>True</td>\n",
       "      <td>0</td>\n",
       "    </tr>\n",
       "  </tbody>\n",
       "</table>\n",
       "<p>2468 rows × 5 columns</p>\n",
       "</div>"
      ],
      "text/plain": [
       "      index                                              image  target  \\\n",
       "0       180  lower-gi-tract/pathological-findings/ulcerativ...       6   \n",
       "1      2458  lower-gi-tract/pathological-findings/polyps/93...       4   \n",
       "2      2969  lower-gi-tract/pathological-findings/ulcerativ...       1   \n",
       "3      5388  lower-gi-tract/pathological-findings/polyps/be...       4   \n",
       "4      6219  lower-gi-tract/pathological-findings/polyps/c3...       4   \n",
       "...     ...                                                ...     ...   \n",
       "2637   9965  lower-gi-tract/pathological-findings/polyps/87...       4   \n",
       "2638   4471  upper-gi-tract/pathological-findings/esophagit...       9   \n",
       "2639   1549  lower-gi-tract/pathological-findings/polyps/aa...       4   \n",
       "2640   8782  lower-gi-tract/pathological-findings/ulcerativ...       6   \n",
       "2641   5020  lower-gi-tract/pathological-findings/polyps/89...       4   \n",
       "\n",
       "      is_valid  new_target  \n",
       "0        False           1  \n",
       "1        False           0  \n",
       "2        False           5  \n",
       "3        False           0  \n",
       "4        False           0  \n",
       "...        ...         ...  \n",
       "2637      True           0  \n",
       "2638      True           2  \n",
       "2639      True           0  \n",
       "2640      True           1  \n",
       "2641      True           0  \n",
       "\n",
       "[2468 rows x 5 columns]"
      ]
     },
     "execution_count": 18,
     "metadata": {},
     "output_type": "execute_result"
    }
   ],
   "source": [
    "df_full_patho_6 = df_full_patho[df_full_patho['new_target']!=6]\n",
    "df_full_patho_6"
   ]
  },
  {
   "cell_type": "code",
   "execution_count": 20,
   "metadata": {},
   "outputs": [],
   "source": [
    "# df_full_patho_6[df_full_patho_6['is_valid']==True]['new_target'].value_counts()"
   ]
  },
  {
   "cell_type": "code",
   "execution_count": 21,
   "metadata": {},
   "outputs": [],
   "source": [
    "# df_full_patho_6[df_full_patho_6['is_valid']==False]['new_target'].value_counts()"
   ]
  },
  {
   "cell_type": "code",
   "execution_count": 22,
   "metadata": {},
   "outputs": [],
   "source": [
    "# x_train = df_full_patho[df_full_patho['is_valid']==False]['image']\n",
    "# y_train = df_full_patho[df_full_patho['is_valid']==False]['new_target']\n",
    "\n",
    "# df_valid_patho = df_full_patho[df_full_patho['is_valid']==True]"
   ]
  },
  {
   "cell_type": "code",
   "execution_count": 23,
   "metadata": {},
   "outputs": [],
   "source": [
    "# y_train"
   ]
  },
  {
   "cell_type": "code",
   "execution_count": 24,
   "metadata": {},
   "outputs": [],
   "source": [
    "del df_full_patho_6['target']\n",
    "df_full_patho_6 = df_full_patho_6.rename(columns={\"new_target\": \"target\"})"
   ]
  },
  {
   "cell_type": "code",
   "execution_count": 27,
   "metadata": {},
   "outputs": [
    {
     "data": {
      "text/plain": [
       "0    1028\n",
       "1     443\n",
       "2     403\n",
       "3     260\n",
       "4     201\n",
       "5     133\n",
       "Name: target, dtype: int64"
      ]
     },
     "execution_count": 27,
     "metadata": {},
     "output_type": "execute_result"
    }
   ],
   "source": [
    "df_full_patho_6['target'].value_counts()"
   ]
  },
  {
   "cell_type": "code",
   "execution_count": 35,
   "metadata": {},
   "outputs": [
    {
     "data": {
      "text/html": [
       "<div>\n",
       "<style scoped>\n",
       "    .dataframe tbody tr th:only-of-type {\n",
       "        vertical-align: middle;\n",
       "    }\n",
       "\n",
       "    .dataframe tbody tr th {\n",
       "        vertical-align: top;\n",
       "    }\n",
       "\n",
       "    .dataframe thead th {\n",
       "        text-align: right;\n",
       "    }\n",
       "</style>\n",
       "<table border=\"1\" class=\"dataframe\">\n",
       "  <thead>\n",
       "    <tr style=\"text-align: right;\">\n",
       "      <th></th>\n",
       "      <th>index</th>\n",
       "      <th>image</th>\n",
       "      <th>is_valid</th>\n",
       "      <th>target</th>\n",
       "    </tr>\n",
       "  </thead>\n",
       "  <tbody>\n",
       "    <tr>\n",
       "      <th>0</th>\n",
       "      <td>180</td>\n",
       "      <td>lower-gi-tract/pathological-findings/ulcerativ...</td>\n",
       "      <td>False</td>\n",
       "      <td>1</td>\n",
       "    </tr>\n",
       "    <tr>\n",
       "      <th>1</th>\n",
       "      <td>2458</td>\n",
       "      <td>lower-gi-tract/pathological-findings/polyps/93...</td>\n",
       "      <td>False</td>\n",
       "      <td>0</td>\n",
       "    </tr>\n",
       "    <tr>\n",
       "      <th>2</th>\n",
       "      <td>2969</td>\n",
       "      <td>lower-gi-tract/pathological-findings/ulcerativ...</td>\n",
       "      <td>False</td>\n",
       "      <td>5</td>\n",
       "    </tr>\n",
       "    <tr>\n",
       "      <th>3</th>\n",
       "      <td>5388</td>\n",
       "      <td>lower-gi-tract/pathological-findings/polyps/be...</td>\n",
       "      <td>False</td>\n",
       "      <td>0</td>\n",
       "    </tr>\n",
       "    <tr>\n",
       "      <th>4</th>\n",
       "      <td>6219</td>\n",
       "      <td>lower-gi-tract/pathological-findings/polyps/c3...</td>\n",
       "      <td>False</td>\n",
       "      <td>0</td>\n",
       "    </tr>\n",
       "    <tr>\n",
       "      <th>...</th>\n",
       "      <td>...</td>\n",
       "      <td>...</td>\n",
       "      <td>...</td>\n",
       "      <td>...</td>\n",
       "    </tr>\n",
       "    <tr>\n",
       "      <th>2637</th>\n",
       "      <td>9965</td>\n",
       "      <td>lower-gi-tract/pathological-findings/polyps/87...</td>\n",
       "      <td>True</td>\n",
       "      <td>0</td>\n",
       "    </tr>\n",
       "    <tr>\n",
       "      <th>2638</th>\n",
       "      <td>4471</td>\n",
       "      <td>upper-gi-tract/pathological-findings/esophagit...</td>\n",
       "      <td>True</td>\n",
       "      <td>2</td>\n",
       "    </tr>\n",
       "    <tr>\n",
       "      <th>2639</th>\n",
       "      <td>1549</td>\n",
       "      <td>lower-gi-tract/pathological-findings/polyps/aa...</td>\n",
       "      <td>True</td>\n",
       "      <td>0</td>\n",
       "    </tr>\n",
       "    <tr>\n",
       "      <th>2640</th>\n",
       "      <td>8782</td>\n",
       "      <td>lower-gi-tract/pathological-findings/ulcerativ...</td>\n",
       "      <td>True</td>\n",
       "      <td>1</td>\n",
       "    </tr>\n",
       "    <tr>\n",
       "      <th>2641</th>\n",
       "      <td>5020</td>\n",
       "      <td>lower-gi-tract/pathological-findings/polyps/89...</td>\n",
       "      <td>True</td>\n",
       "      <td>0</td>\n",
       "    </tr>\n",
       "  </tbody>\n",
       "</table>\n",
       "<p>2468 rows × 4 columns</p>\n",
       "</div>"
      ],
      "text/plain": [
       "      index                                              image  is_valid  \\\n",
       "0       180  lower-gi-tract/pathological-findings/ulcerativ...     False   \n",
       "1      2458  lower-gi-tract/pathological-findings/polyps/93...     False   \n",
       "2      2969  lower-gi-tract/pathological-findings/ulcerativ...     False   \n",
       "3      5388  lower-gi-tract/pathological-findings/polyps/be...     False   \n",
       "4      6219  lower-gi-tract/pathological-findings/polyps/c3...     False   \n",
       "...     ...                                                ...       ...   \n",
       "2637   9965  lower-gi-tract/pathological-findings/polyps/87...      True   \n",
       "2638   4471  upper-gi-tract/pathological-findings/esophagit...      True   \n",
       "2639   1549  lower-gi-tract/pathological-findings/polyps/aa...      True   \n",
       "2640   8782  lower-gi-tract/pathological-findings/ulcerativ...      True   \n",
       "2641   5020  lower-gi-tract/pathological-findings/polyps/89...      True   \n",
       "\n",
       "      target  \n",
       "0          1  \n",
       "1          0  \n",
       "2          5  \n",
       "3          0  \n",
       "4          0  \n",
       "...      ...  \n",
       "2637       0  \n",
       "2638       2  \n",
       "2639       0  \n",
       "2640       1  \n",
       "2641       0  \n",
       "\n",
       "[2468 rows x 4 columns]"
      ]
     },
     "execution_count": 35,
     "metadata": {},
     "output_type": "execute_result"
    }
   ],
   "source": [
    "df_full_patho_6"
   ]
  },
  {
   "cell_type": "markdown",
   "metadata": {},
   "source": [
    "### K-Fold split"
   ]
  },
  {
   "cell_type": "markdown",
   "metadata": {},
   "source": [
    "#### K-fold for 11 pathologies"
   ]
  },
  {
   "cell_type": "code",
   "execution_count": 47,
   "metadata": {},
   "outputs": [
    {
     "data": {
      "text/plain": [
       "0     1028\n",
       "1      443\n",
       "2      403\n",
       "3      260\n",
       "4      201\n",
       "5      133\n",
       "6       53\n",
       "7       41\n",
       "8       35\n",
       "9       28\n",
       "10      11\n",
       "11       6\n",
       "Name: target, dtype: int64"
      ]
     },
     "execution_count": 47,
     "metadata": {},
     "output_type": "execute_result"
    }
   ],
   "source": [
    "df_patho_12['target'].value_counts()"
   ]
  },
  {
   "cell_type": "code",
   "execution_count": 44,
   "metadata": {},
   "outputs": [
    {
     "data": {
      "text/plain": [
       "{4: 0, 6: 1, 9: 2, 11: 3, 3: 4, 1: 5, 0: 6, 8: 7, 2: 8, 7: 9, 5: 10, 10: 11}"
      ]
     },
     "execution_count": 44,
     "metadata": {},
     "output_type": "execute_result"
    }
   ],
   "source": [
    "map_new_cat = dict(zip(list(dict(df_patho_12['target'].value_counts()).keys()),list(range(12))))\n",
    "map_new_cat"
   ]
  },
  {
   "cell_type": "code",
   "execution_count": 46,
   "metadata": {},
   "outputs": [],
   "source": [
    "df_patho_12['target'] = [map_new_cat[item] for item in list(df_patho_12['target'])]"
   ]
  },
  {
   "cell_type": "code",
   "execution_count": 51,
   "metadata": {},
   "outputs": [],
   "source": [
    "# y"
   ]
  },
  {
   "cell_type": "code",
   "execution_count": 48,
   "metadata": {},
   "outputs": [
    {
     "ename": "IndexError",
     "evalue": "positional indexers are out-of-bounds",
     "output_type": "error",
     "traceback": [
      "\u001b[0;31m---------------------------------------------------------------------------\u001b[0m",
      "\u001b[0;31mIndexError\u001b[0m                                Traceback (most recent call last)",
      "\u001b[0;32m~/anaconda3/envs/cls/lib/python3.6/site-packages/pandas/core/indexing.py\u001b[0m in \u001b[0;36m_get_list_axis\u001b[0;34m(self, key, axis)\u001b[0m\n\u001b[1;32m   1468\u001b[0m         \u001b[0;32mtry\u001b[0m\u001b[0;34m:\u001b[0m\u001b[0;34m\u001b[0m\u001b[0;34m\u001b[0m\u001b[0m\n\u001b[0;32m-> 1469\u001b[0;31m             \u001b[0;32mreturn\u001b[0m \u001b[0mself\u001b[0m\u001b[0;34m.\u001b[0m\u001b[0mobj\u001b[0m\u001b[0;34m.\u001b[0m\u001b[0m_take_with_is_copy\u001b[0m\u001b[0;34m(\u001b[0m\u001b[0mkey\u001b[0m\u001b[0;34m,\u001b[0m \u001b[0maxis\u001b[0m\u001b[0;34m=\u001b[0m\u001b[0maxis\u001b[0m\u001b[0;34m)\u001b[0m\u001b[0;34m\u001b[0m\u001b[0;34m\u001b[0m\u001b[0m\n\u001b[0m\u001b[1;32m   1470\u001b[0m         \u001b[0;32mexcept\u001b[0m \u001b[0mIndexError\u001b[0m \u001b[0;32mas\u001b[0m \u001b[0merr\u001b[0m\u001b[0;34m:\u001b[0m\u001b[0;34m\u001b[0m\u001b[0;34m\u001b[0m\u001b[0m\n",
      "\u001b[0;32m~/anaconda3/envs/cls/lib/python3.6/site-packages/pandas/core/generic.py\u001b[0m in \u001b[0;36m_take_with_is_copy\u001b[0;34m(self, indices, axis)\u001b[0m\n\u001b[1;32m   3362\u001b[0m         \"\"\"\n\u001b[0;32m-> 3363\u001b[0;31m         \u001b[0mresult\u001b[0m \u001b[0;34m=\u001b[0m \u001b[0mself\u001b[0m\u001b[0;34m.\u001b[0m\u001b[0mtake\u001b[0m\u001b[0;34m(\u001b[0m\u001b[0mindices\u001b[0m\u001b[0;34m=\u001b[0m\u001b[0mindices\u001b[0m\u001b[0;34m,\u001b[0m \u001b[0maxis\u001b[0m\u001b[0;34m=\u001b[0m\u001b[0maxis\u001b[0m\u001b[0;34m)\u001b[0m\u001b[0;34m\u001b[0m\u001b[0;34m\u001b[0m\u001b[0m\n\u001b[0m\u001b[1;32m   3364\u001b[0m         \u001b[0;31m# Maybe set copy if we didn't actually change the index.\u001b[0m\u001b[0;34m\u001b[0m\u001b[0;34m\u001b[0m\u001b[0;34m\u001b[0m\u001b[0m\n",
      "\u001b[0;32m~/anaconda3/envs/cls/lib/python3.6/site-packages/pandas/core/generic.py\u001b[0m in \u001b[0;36mtake\u001b[0;34m(self, indices, axis, is_copy, **kwargs)\u001b[0m\n\u001b[1;32m   3350\u001b[0m         new_data = self._mgr.take(\n\u001b[0;32m-> 3351\u001b[0;31m             \u001b[0mindices\u001b[0m\u001b[0;34m,\u001b[0m \u001b[0maxis\u001b[0m\u001b[0;34m=\u001b[0m\u001b[0mself\u001b[0m\u001b[0;34m.\u001b[0m\u001b[0m_get_block_manager_axis\u001b[0m\u001b[0;34m(\u001b[0m\u001b[0maxis\u001b[0m\u001b[0;34m)\u001b[0m\u001b[0;34m,\u001b[0m \u001b[0mverify\u001b[0m\u001b[0;34m=\u001b[0m\u001b[0;32mTrue\u001b[0m\u001b[0;34m\u001b[0m\u001b[0;34m\u001b[0m\u001b[0m\n\u001b[0m\u001b[1;32m   3352\u001b[0m         )\n",
      "\u001b[0;32m~/anaconda3/envs/cls/lib/python3.6/site-packages/pandas/core/internals/managers.py\u001b[0m in \u001b[0;36mtake\u001b[0;34m(self, indexer, axis, verify, convert)\u001b[0m\n\u001b[1;32m   1448\u001b[0m         \u001b[0;32mif\u001b[0m \u001b[0mconvert\u001b[0m\u001b[0;34m:\u001b[0m\u001b[0;34m\u001b[0m\u001b[0;34m\u001b[0m\u001b[0m\n\u001b[0;32m-> 1449\u001b[0;31m             \u001b[0mindexer\u001b[0m \u001b[0;34m=\u001b[0m \u001b[0mmaybe_convert_indices\u001b[0m\u001b[0;34m(\u001b[0m\u001b[0mindexer\u001b[0m\u001b[0;34m,\u001b[0m \u001b[0mn\u001b[0m\u001b[0;34m)\u001b[0m\u001b[0;34m\u001b[0m\u001b[0;34m\u001b[0m\u001b[0m\n\u001b[0m\u001b[1;32m   1450\u001b[0m \u001b[0;34m\u001b[0m\u001b[0m\n",
      "\u001b[0;32m~/anaconda3/envs/cls/lib/python3.6/site-packages/pandas/core/indexers.py\u001b[0m in \u001b[0;36mmaybe_convert_indices\u001b[0;34m(indices, n)\u001b[0m\n\u001b[1;32m    249\u001b[0m     \u001b[0;32mif\u001b[0m \u001b[0mmask\u001b[0m\u001b[0;34m.\u001b[0m\u001b[0many\u001b[0m\u001b[0;34m(\u001b[0m\u001b[0;34m)\u001b[0m\u001b[0;34m:\u001b[0m\u001b[0;34m\u001b[0m\u001b[0;34m\u001b[0m\u001b[0m\n\u001b[0;32m--> 250\u001b[0;31m         \u001b[0;32mraise\u001b[0m \u001b[0mIndexError\u001b[0m\u001b[0;34m(\u001b[0m\u001b[0;34m\"indices are out-of-bounds\"\u001b[0m\u001b[0;34m)\u001b[0m\u001b[0;34m\u001b[0m\u001b[0;34m\u001b[0m\u001b[0m\n\u001b[0m\u001b[1;32m    251\u001b[0m     \u001b[0;32mreturn\u001b[0m \u001b[0mindices\u001b[0m\u001b[0;34m\u001b[0m\u001b[0;34m\u001b[0m\u001b[0m\n",
      "\u001b[0;31mIndexError\u001b[0m: indices are out-of-bounds",
      "\nThe above exception was the direct cause of the following exception:\n",
      "\u001b[0;31mIndexError\u001b[0m                                Traceback (most recent call last)",
      "\u001b[0;32m<ipython-input-48-0d3cfa7c57b1>\u001b[0m in \u001b[0;36m<module>\u001b[0;34m\u001b[0m\n\u001b[1;32m      5\u001b[0m \u001b[0;31m# split()  method generate indices to split data into training and test set.\u001b[0m\u001b[0;34m\u001b[0m\u001b[0;34m\u001b[0m\u001b[0;34m\u001b[0m\u001b[0m\n\u001b[1;32m      6\u001b[0m \u001b[0;32mfor\u001b[0m \u001b[0mtrain_index\u001b[0m\u001b[0;34m,\u001b[0m \u001b[0mtest_index\u001b[0m \u001b[0;32min\u001b[0m \u001b[0mkf\u001b[0m\u001b[0;34m.\u001b[0m\u001b[0msplit\u001b[0m\u001b[0;34m(\u001b[0m\u001b[0mX\u001b[0m\u001b[0;34m,\u001b[0m \u001b[0my\u001b[0m\u001b[0;34m)\u001b[0m\u001b[0;34m:\u001b[0m\u001b[0;34m\u001b[0m\u001b[0;34m\u001b[0m\u001b[0m\n\u001b[0;32m----> 7\u001b[0;31m     \u001b[0mdf_train\u001b[0m \u001b[0;34m=\u001b[0m \u001b[0mdf_full_patho_6\u001b[0m\u001b[0;34m.\u001b[0m\u001b[0miloc\u001b[0m\u001b[0;34m[\u001b[0m\u001b[0mtrain_index\u001b[0m\u001b[0;34m]\u001b[0m\u001b[0;34m\u001b[0m\u001b[0;34m\u001b[0m\u001b[0m\n\u001b[0m\u001b[1;32m      8\u001b[0m     \u001b[0mdf_train\u001b[0m\u001b[0;34m[\u001b[0m\u001b[0;34m'is_valid'\u001b[0m\u001b[0;34m]\u001b[0m \u001b[0;34m=\u001b[0m \u001b[0;32mFalse\u001b[0m\u001b[0;34m\u001b[0m\u001b[0;34m\u001b[0m\u001b[0m\n\u001b[1;32m      9\u001b[0m \u001b[0;34m\u001b[0m\u001b[0m\n",
      "\u001b[0;32m~/anaconda3/envs/cls/lib/python3.6/site-packages/pandas/core/indexing.py\u001b[0m in \u001b[0;36m__getitem__\u001b[0;34m(self, key)\u001b[0m\n\u001b[1;32m    877\u001b[0m \u001b[0;34m\u001b[0m\u001b[0m\n\u001b[1;32m    878\u001b[0m             \u001b[0mmaybe_callable\u001b[0m \u001b[0;34m=\u001b[0m \u001b[0mcom\u001b[0m\u001b[0;34m.\u001b[0m\u001b[0mapply_if_callable\u001b[0m\u001b[0;34m(\u001b[0m\u001b[0mkey\u001b[0m\u001b[0;34m,\u001b[0m \u001b[0mself\u001b[0m\u001b[0;34m.\u001b[0m\u001b[0mobj\u001b[0m\u001b[0;34m)\u001b[0m\u001b[0;34m\u001b[0m\u001b[0;34m\u001b[0m\u001b[0m\n\u001b[0;32m--> 879\u001b[0;31m             \u001b[0;32mreturn\u001b[0m \u001b[0mself\u001b[0m\u001b[0;34m.\u001b[0m\u001b[0m_getitem_axis\u001b[0m\u001b[0;34m(\u001b[0m\u001b[0mmaybe_callable\u001b[0m\u001b[0;34m,\u001b[0m \u001b[0maxis\u001b[0m\u001b[0;34m=\u001b[0m\u001b[0maxis\u001b[0m\u001b[0;34m)\u001b[0m\u001b[0;34m\u001b[0m\u001b[0;34m\u001b[0m\u001b[0m\n\u001b[0m\u001b[1;32m    880\u001b[0m \u001b[0;34m\u001b[0m\u001b[0m\n\u001b[1;32m    881\u001b[0m     \u001b[0;32mdef\u001b[0m \u001b[0m_is_scalar_access\u001b[0m\u001b[0;34m(\u001b[0m\u001b[0mself\u001b[0m\u001b[0;34m,\u001b[0m \u001b[0mkey\u001b[0m\u001b[0;34m:\u001b[0m \u001b[0mTuple\u001b[0m\u001b[0;34m)\u001b[0m\u001b[0;34m:\u001b[0m\u001b[0;34m\u001b[0m\u001b[0;34m\u001b[0m\u001b[0m\n",
      "\u001b[0;32m~/anaconda3/envs/cls/lib/python3.6/site-packages/pandas/core/indexing.py\u001b[0m in \u001b[0;36m_getitem_axis\u001b[0;34m(self, key, axis)\u001b[0m\n\u001b[1;32m   1485\u001b[0m         \u001b[0;31m# a list of integers\u001b[0m\u001b[0;34m\u001b[0m\u001b[0;34m\u001b[0m\u001b[0;34m\u001b[0m\u001b[0m\n\u001b[1;32m   1486\u001b[0m         \u001b[0;32melif\u001b[0m \u001b[0mis_list_like_indexer\u001b[0m\u001b[0;34m(\u001b[0m\u001b[0mkey\u001b[0m\u001b[0;34m)\u001b[0m\u001b[0;34m:\u001b[0m\u001b[0;34m\u001b[0m\u001b[0;34m\u001b[0m\u001b[0m\n\u001b[0;32m-> 1487\u001b[0;31m             \u001b[0;32mreturn\u001b[0m \u001b[0mself\u001b[0m\u001b[0;34m.\u001b[0m\u001b[0m_get_list_axis\u001b[0m\u001b[0;34m(\u001b[0m\u001b[0mkey\u001b[0m\u001b[0;34m,\u001b[0m \u001b[0maxis\u001b[0m\u001b[0;34m=\u001b[0m\u001b[0maxis\u001b[0m\u001b[0;34m)\u001b[0m\u001b[0;34m\u001b[0m\u001b[0;34m\u001b[0m\u001b[0m\n\u001b[0m\u001b[1;32m   1488\u001b[0m \u001b[0;34m\u001b[0m\u001b[0m\n\u001b[1;32m   1489\u001b[0m         \u001b[0;31m# a single integer\u001b[0m\u001b[0;34m\u001b[0m\u001b[0;34m\u001b[0m\u001b[0;34m\u001b[0m\u001b[0m\n",
      "\u001b[0;32m~/anaconda3/envs/cls/lib/python3.6/site-packages/pandas/core/indexing.py\u001b[0m in \u001b[0;36m_get_list_axis\u001b[0;34m(self, key, axis)\u001b[0m\n\u001b[1;32m   1470\u001b[0m         \u001b[0;32mexcept\u001b[0m \u001b[0mIndexError\u001b[0m \u001b[0;32mas\u001b[0m \u001b[0merr\u001b[0m\u001b[0;34m:\u001b[0m\u001b[0;34m\u001b[0m\u001b[0;34m\u001b[0m\u001b[0m\n\u001b[1;32m   1471\u001b[0m             \u001b[0;31m# re-raise with different error message\u001b[0m\u001b[0;34m\u001b[0m\u001b[0;34m\u001b[0m\u001b[0;34m\u001b[0m\u001b[0m\n\u001b[0;32m-> 1472\u001b[0;31m             \u001b[0;32mraise\u001b[0m \u001b[0mIndexError\u001b[0m\u001b[0;34m(\u001b[0m\u001b[0;34m\"positional indexers are out-of-bounds\"\u001b[0m\u001b[0;34m)\u001b[0m \u001b[0;32mfrom\u001b[0m \u001b[0merr\u001b[0m\u001b[0;34m\u001b[0m\u001b[0;34m\u001b[0m\u001b[0m\n\u001b[0m\u001b[1;32m   1473\u001b[0m \u001b[0;34m\u001b[0m\u001b[0m\n\u001b[1;32m   1474\u001b[0m     \u001b[0;32mdef\u001b[0m \u001b[0m_getitem_axis\u001b[0m\u001b[0;34m(\u001b[0m\u001b[0mself\u001b[0m\u001b[0;34m,\u001b[0m \u001b[0mkey\u001b[0m\u001b[0;34m,\u001b[0m \u001b[0maxis\u001b[0m\u001b[0;34m:\u001b[0m \u001b[0mint\u001b[0m\u001b[0;34m)\u001b[0m\u001b[0;34m:\u001b[0m\u001b[0;34m\u001b[0m\u001b[0;34m\u001b[0m\u001b[0m\n",
      "\u001b[0;31mIndexError\u001b[0m: positional indexers are out-of-bounds"
     ]
    }
   ],
   "source": [
    "kf =KFold(n_splits=5, shuffle=True, random_state=42)\n",
    "X = df_patho_12['image']\n",
    "y = df_patho_12['target']\n",
    "cnt = 1\n",
    "# split()  method generate indices to split data into training and test set.\n",
    "for train_index, test_index in kf.split(X, y):\n",
    "    df_train = df_patho_12.iloc[train_index]\n",
    "    df_train['is_valid'] = False\n",
    "    \n",
    "    df_valid = df_patho_12.iloc[test_index]\n",
    "    df_valid['is_valid'] = True\n",
    "    \n",
    "    df_concat = pd.concat([df_train, df_valid], axis = 0)\n",
    "    # print(f'Fold:{cnt}, Train set: {len(train_index)}, Test set:{len(test_index)}')\n",
    "    df_concat.to_csv(f'../resource/hyper_kvasir/df_12_pathologies_ite_{cnt}.csv', index=False, header = True)\n",
    "    cnt += 1"
   ]
  },
  {
   "cell_type": "code",
   "execution_count": 41,
   "metadata": {},
   "outputs": [
    {
     "name": "stderr",
     "output_type": "stream",
     "text": [
      "C:\\Users\\Admin\\anaconda3\\envs\\cls\\lib\\site-packages\\ipykernel_launcher.py:8: SettingWithCopyWarning: \n",
      "A value is trying to be set on a copy of a slice from a DataFrame.\n",
      "Try using .loc[row_indexer,col_indexer] = value instead\n",
      "\n",
      "See the caveats in the documentation: https://pandas.pydata.org/pandas-docs/stable/user_guide/indexing.html#returning-a-view-versus-a-copy\n",
      "  \n",
      "C:\\Users\\Admin\\anaconda3\\envs\\cls\\lib\\site-packages\\ipykernel_launcher.py:11: SettingWithCopyWarning: \n",
      "A value is trying to be set on a copy of a slice from a DataFrame.\n",
      "Try using .loc[row_indexer,col_indexer] = value instead\n",
      "\n",
      "See the caveats in the documentation: https://pandas.pydata.org/pandas-docs/stable/user_guide/indexing.html#returning-a-view-versus-a-copy\n",
      "  # This is added back by InteractiveShellApp.init_path()\n"
     ]
    }
   ],
   "source": [
    "kf =KFold(n_splits=5, shuffle=True, random_state=42)\n",
    "X = df_full_patho_6['image']\n",
    "y = df_full_patho_6['target']\n",
    "cnt = 1\n",
    "# split()  method generate indices to split data into training and test set.\n",
    "for train_index, test_index in kf.split(X, y):\n",
    "    df_train = df_full_patho_6.iloc[train_index]\n",
    "    df_train['is_valid'] = False\n",
    "    \n",
    "    df_valid = df_full_patho_6.iloc[test_index]\n",
    "    df_valid['is_valid'] = True\n",
    "    \n",
    "    df_concat = pd.concat([df_train, df_valid], axis = 0)\n",
    "    # print(f'Fold:{cnt}, Train set: {len(train_index)}, Test set:{len(test_index)}')\n",
    "    df_concat.to_csv(f'../resource/hyper_kvasir/df_6_pathologies_ite_{cnt}.csv', index=False, header = True)\n",
    "    cnt += 1"
   ]
  },
  {
   "cell_type": "code",
   "execution_count": 38,
   "metadata": {},
   "outputs": [
    {
     "data": {
      "text/plain": [
       "0    218\n",
       "1     86\n",
       "2     79\n",
       "3     48\n",
       "4     36\n",
       "5     26\n",
       "Name: target, dtype: int64"
      ]
     },
     "execution_count": 38,
     "metadata": {},
     "output_type": "execute_result"
    }
   ],
   "source": [
    "df_concat[df_concat['is_valid']==True]['target'].value_counts()"
   ]
  },
  {
   "cell_type": "code",
   "execution_count": 39,
   "metadata": {},
   "outputs": [
    {
     "data": {
      "text/plain": [
       "0    810\n",
       "1    357\n",
       "2    324\n",
       "3    212\n",
       "4    165\n",
       "5    107\n",
       "Name: target, dtype: int64"
      ]
     },
     "execution_count": 39,
     "metadata": {},
     "output_type": "execute_result"
    }
   ],
   "source": [
    "df_concat[df_concat['is_valid']==False]['target'].value_counts()"
   ]
  },
  {
   "cell_type": "code",
   "execution_count": 22,
   "metadata": {},
   "outputs": [],
   "source": [
    "# df_valid_patho['is_labeled'] = True\n",
    "# df_valid_patho.head()"
   ]
  },
  {
   "cell_type": "code",
   "execution_count": 23,
   "metadata": {},
   "outputs": [],
   "source": [
    "# x_train_unlab, x_train_lab, y_train_unlab, y_train_lab  = train_test_split(x_train, \n",
    "#                                                                           y_train, \n",
    "#                                                                           test_size=0.5,\n",
    "#                                                                           random_state=42)\n",
    "\n",
    "\n",
    "# df_train_lab = pd.DataFrame([])\n",
    "# df_train_lab['image'] = x_train_lab\n",
    "# df_train_lab['target'] = y_train_lab\n",
    "# df_train_lab['is_valid'] = False\n",
    "# df_train_lab['is_labeled'] = True\n",
    "\n",
    "# df_train_unlab = pd.DataFrame([])\n",
    "# df_train_unlab['image'] = x_train_unlab\n",
    "# df_train_unlab['target'] = y_train_unlab\n",
    "# df_train_unlab['is_valid'] = False\n",
    "# df_train_unlab['is_labeled'] = False\n",
    "\n",
    "# df_full_mock = pd.concat([df_train_lab, df_train_unlab, df_valid_patho], axis=0)"
   ]
  },
  {
   "cell_type": "code",
   "execution_count": 24,
   "metadata": {},
   "outputs": [],
   "source": [
    "# df_full_mock[df_full_mock['is_valid']==False]"
   ]
  },
  {
   "cell_type": "code",
   "execution_count": 25,
   "metadata": {},
   "outputs": [],
   "source": [
    "# df_full_mock.sample(1, random_state = 42).iloc[0]['target']"
   ]
  },
  {
   "cell_type": "code",
   "execution_count": 26,
   "metadata": {},
   "outputs": [],
   "source": [
    "# df_  = df_full_mock[df_full_mock['is_labeled']==True]\n",
    "# df_[df_['is_valid']==False]['target'].value_counts()"
   ]
  },
  {
   "cell_type": "code",
   "execution_count": 27,
   "metadata": {},
   "outputs": [],
   "source": [
    "# del df_full_mock['index']\n",
    "# df_full_mock.head()"
   ]
  },
  {
   "cell_type": "code",
   "execution_count": 26,
   "metadata": {},
   "outputs": [],
   "source": [
    "# df_full_patho_6"
   ]
  },
  {
   "cell_type": "code",
   "execution_count": 22,
   "metadata": {},
   "outputs": [],
   "source": [
    "# df_full_patho_6.to_csv('../resource/hyper_kvasir/df_6_pathologies.csv', index=False, header = True)"
   ]
  },
  {
   "cell_type": "code",
   "execution_count": 62,
   "metadata": {},
   "outputs": [],
   "source": [
    "# df_train_lab['target'].value_counts()"
   ]
  },
  {
   "cell_type": "code",
   "execution_count": 63,
   "metadata": {},
   "outputs": [],
   "source": [
    "# df_valid"
   ]
  },
  {
   "cell_type": "code",
   "execution_count": 22,
   "metadata": {},
   "outputs": [],
   "source": [
    "# df_full[df_full['is_labeled']==True]"
   ]
  },
  {
   "cell_type": "code",
   "execution_count": 23,
   "metadata": {},
   "outputs": [],
   "source": [
    "# df_full['target'].value_counts()"
   ]
  },
  {
   "cell_type": "code",
   "execution_count": 24,
   "metadata": {},
   "outputs": [],
   "source": [
    "# df_full.to_csv('../resource/hyper_kvasir/df_pathologies.csv', index=False, header=True)"
   ]
  },
  {
   "cell_type": "code",
   "execution_count": 11,
   "metadata": {},
   "outputs": [],
   "source": [
    "# x = df_anno['path']\n",
    "# y = df_anno['Categories']\n",
    "\n",
    "# x_train, x_test, y_train, y_test = train_test_split(x, y, test_size=0.2, random_state=0)\n",
    "# x_train_lab, x_train_unlab, y_train_lab, y_train_unlab = train_test_split(x_train, \n",
    "#                                                                           y_train, \n",
    "#                                                                           test_size=0.32, \n",
    "#                                                                           random_state=0)\n",
    "\n",
    "\n",
    "# df_train_lab = pd.DataFrame([])\n",
    "# df_train_lab = pd.DataFrame([])\n",
    "# df_train_lab['image'] = x_train_lab\n",
    "# df_train_lab['target'] = y_train_lab\n",
    "# df_train_lab['is_valid'] = False\n",
    "# df_train_lab['is_labeled'] = True\n",
    "\n",
    "# df_train_unlab = pd.DataFrame([])\n",
    "# df_train_unlab = pd.DataFrame([])\n",
    "# df_train_unlab['image'] = x_train_unlab\n",
    "# df_train_unlab['target'] = y_train_unlab\n",
    "# df_train_unlab['is_valid'] = False\n",
    "# df_train_unlab['is_labeled'] = False\n",
    "\n",
    "\n",
    "# df_valid['image'] = x_test\n",
    "# df_valid['target'] = y_test\n",
    "# df_valid['is_valid'] = True\n",
    "# df_valid['is_labeled'] = True"
   ]
  },
  {
   "cell_type": "code",
   "execution_count": 12,
   "metadata": {},
   "outputs": [],
   "source": [
    "# df_full = pd.concat([df_train_lab, df_train_unlab, df_valid], axis=0).reset_index()\n",
    "# del df_full['index']\n",
    "# df_full"
   ]
  },
  {
   "cell_type": "code",
   "execution_count": 13,
   "metadata": {},
   "outputs": [],
   "source": [
    "# fig = df_full['target'].value_counts().plot(kind='bar', figsize=(10, 8), fontsize=10, rot=0).get_figure()"
   ]
  },
  {
   "cell_type": "code",
   "execution_count": 23,
   "metadata": {},
   "outputs": [],
   "source": [
    "# df_full.to_csv('../resource/hyper_kvasir/df_abnormal.csv', index=False, header=True)"
   ]
  },
  {
   "cell_type": "code",
   "execution_count": 15,
   "metadata": {},
   "outputs": [],
   "source": [
    "# cnt_train = df_train['target'].value_counts()\n",
    "# cnt_valid = df_valid['target'].value_counts()\n",
    "\n",
    "# df_cnt = pd.DataFrame({'train': cnt_train,'valid': cnt_valid})\n",
    "# chart = df_cnt.plot.bar(rot=0, figsize=(10, 8), fontsize=15, stacked=True).get_figure()\n",
    "# # chart.savefig('../resource/visualize/visual_sup.png')"
   ]
  },
  {
   "cell_type": "code",
   "execution_count": 69,
   "metadata": {},
   "outputs": [],
   "source": [
    "# cnt_train = df_train['Groupby_Categories']\n",
    "# cnt_train_labeled, cnt_train_unlabeled = train_test_split(cnt_train, test_size = 0.9, random_state = 0)\n",
    "# cnt_train_labeled, cnt_train_unlabeled = cnt_train_labeled.value_counts(), cnt_train_unlabeled.value_counts()\n",
    "# cnt_valid = df_valid['Groupby_Categories'].value_counts()\n",
    "\n",
    "# df_cnt = pd.DataFrame({'train_labeled': cnt_train_labeled, \n",
    "                       \n",
    "#                        'train_unlabeled': cnt_train_unlabeled,\n",
    "#                        'valid': cnt_valid,\n",
    "#                        })\n",
    "# chart_semi = df_cnt.plot.bar(rot=0, \n",
    "#                         figsize=(10, 8), \n",
    "#                         fontsize=15,\n",
    "#                         color={\"train_labeled\": \"#1f76b5\", \"train_unlabeled\": \"green\", \"valid\":\"#fe7e0e\"},\n",
    "#                         stacked=True).get_figure()\n",
    "# chart_semi.savefig('../resource/visualize/visual_semi_1_9.png')"
   ]
  },
  {
   "cell_type": "code",
   "execution_count": 70,
   "metadata": {},
   "outputs": [],
   "source": [
    "# cnt_train_labeled, cnt_train_unlabeled"
   ]
  },
  {
   "cell_type": "code",
   "execution_count": 71,
   "metadata": {},
   "outputs": [],
   "source": [
    "# df_train['Groupby_Categories'].value_counts()\n",
    "# fig_train.savefig('../resource/visualize/groupcat_train.png')"
   ]
  },
  {
   "cell_type": "code",
   "execution_count": 72,
   "metadata": {},
   "outputs": [],
   "source": [
    "# df_valid['Groupby_Categories'].value_counts()\n",
    "# fig_valid.savefig('../resource/visualize/groupcat_valid.png')"
   ]
  },
  {
   "cell_type": "code",
   "execution_count": 14,
   "metadata": {},
   "outputs": [],
   "source": [
    "# fig.savefig('../resource/visualize/groupcat.png')"
   ]
  },
  {
   "cell_type": "code",
   "execution_count": 15,
   "metadata": {},
   "outputs": [],
   "source": [
    "# df_full.to_csv('../resource/hyper_kvasir/full_labeled_group.csv', index=False, header=True)"
   ]
  }
 ],
 "metadata": {
  "kernelspec": {
   "display_name": "cls",
   "language": "python",
   "name": "cls"
  },
  "language_info": {
   "codemirror_mode": {
    "name": "ipython",
    "version": 3
   },
   "file_extension": ".py",
   "mimetype": "text/x-python",
   "name": "python",
   "nbconvert_exporter": "python",
   "pygments_lexer": "ipython3",
   "version": "3.6.13"
  }
 },
 "nbformat": 4,
 "nbformat_minor": 5
}
