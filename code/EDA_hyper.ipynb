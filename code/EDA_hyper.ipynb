{
 "cells": [
  {
   "cell_type": "code",
   "execution_count": 1,
   "id": "28bddc8e",
   "metadata": {},
   "outputs": [],
   "source": [
    "import pandas as pd\n",
    "import os\n",
    "import numpy as np\n",
    "import cv2\n",
    "from tqdm import tqdm\n",
    "from glob import glob\n",
    "from sklearn.model_selection import train_test_split\n",
    "from matplotlib import pyplot as plt\n",
    "from imblearn.over_sampling import SMOTE\n",
    "from timm import create_model"
   ]
  },
  {
   "cell_type": "code",
   "execution_count": 2,
   "id": "8d8da74c",
   "metadata": {},
   "outputs": [],
   "source": [
    "# import warnings filter\n",
    "from warnings import simplefilter\n",
    "# ignore all future warnings\n",
    "simplefilter(action='ignore', category=FutureWarning)"
   ]
  },
  {
   "cell_type": "code",
   "execution_count": 3,
   "id": "305b46f1",
   "metadata": {},
   "outputs": [],
   "source": [
    "_HYPER_KVASIR = 'D:\\\\data\\\\endoscopic\\\\hyper_kvasir'\n",
    "# _HYPER_KVASIR_LABELED_DEFORM = 'D:\\\\data\\\\endoscopic\\\\hyper_kvasir\\\\labeled_images_deform'"
   ]
  },
  {
   "cell_type": "code",
   "execution_count": 4,
   "id": "b548b558-9edf-4123-9899-66a0c9a2499b",
   "metadata": {},
   "outputs": [
    {
     "data": {
      "text/html": [
       "<div>\n",
       "<style scoped>\n",
       "    .dataframe tbody tr th:only-of-type {\n",
       "        vertical-align: middle;\n",
       "    }\n",
       "\n",
       "    .dataframe tbody tr th {\n",
       "        vertical-align: top;\n",
       "    }\n",
       "\n",
       "    .dataframe thead th {\n",
       "        text-align: right;\n",
       "    }\n",
       "</style>\n",
       "<table border=\"1\" class=\"dataframe\">\n",
       "  <thead>\n",
       "    <tr style=\"text-align: right;\">\n",
       "      <th></th>\n",
       "      <th>Organ</th>\n",
       "      <th>Classification</th>\n",
       "      <th>Finding</th>\n",
       "      <th>Image</th>\n",
       "      <th>Categories</th>\n",
       "      <th>is_valid</th>\n",
       "    </tr>\n",
       "  </thead>\n",
       "  <tbody>\n",
       "    <tr>\n",
       "      <th>0</th>\n",
       "      <td>upper-gi-tract</td>\n",
       "      <td>anatomical-landmarks</td>\n",
       "      <td>z-line</td>\n",
       "      <td>upper-gi-tract/anatomical-landmarks/z-line/c7e...</td>\n",
       "      <td>0</td>\n",
       "      <td>False</td>\n",
       "    </tr>\n",
       "    <tr>\n",
       "      <th>1</th>\n",
       "      <td>lower-gi-tract</td>\n",
       "      <td>therapeutic-interventions</td>\n",
       "      <td>dyed-lifted-polyps</td>\n",
       "      <td>lower-gi-tract/therapeutic-interventions/dyed-...</td>\n",
       "      <td>0</td>\n",
       "      <td>False</td>\n",
       "    </tr>\n",
       "    <tr>\n",
       "      <th>2</th>\n",
       "      <td>lower-gi-tract</td>\n",
       "      <td>quality-of-mucosal-views</td>\n",
       "      <td>bbps-2-3</td>\n",
       "      <td>lower-gi-tract/quality-of-mucosal-views/bbps-2...</td>\n",
       "      <td>0</td>\n",
       "      <td>False</td>\n",
       "    </tr>\n",
       "    <tr>\n",
       "      <th>3</th>\n",
       "      <td>lower-gi-tract</td>\n",
       "      <td>quality-of-mucosal-views</td>\n",
       "      <td>bbps-2-3</td>\n",
       "      <td>lower-gi-tract/quality-of-mucosal-views/bbps-2...</td>\n",
       "      <td>0</td>\n",
       "      <td>False</td>\n",
       "    </tr>\n",
       "    <tr>\n",
       "      <th>4</th>\n",
       "      <td>upper-gi-tract</td>\n",
       "      <td>anatomical-landmarks</td>\n",
       "      <td>z-line</td>\n",
       "      <td>upper-gi-tract/anatomical-landmarks/z-line/b98...</td>\n",
       "      <td>0</td>\n",
       "      <td>False</td>\n",
       "    </tr>\n",
       "  </tbody>\n",
       "</table>\n",
       "</div>"
      ],
      "text/plain": [
       "            Organ             Classification             Finding  \\\n",
       "0  upper-gi-tract       anatomical-landmarks              z-line   \n",
       "1  lower-gi-tract  therapeutic-interventions  dyed-lifted-polyps   \n",
       "2  lower-gi-tract   quality-of-mucosal-views            bbps-2-3   \n",
       "3  lower-gi-tract   quality-of-mucosal-views            bbps-2-3   \n",
       "4  upper-gi-tract       anatomical-landmarks              z-line   \n",
       "\n",
       "                                               Image  Categories  is_valid  \n",
       "0  upper-gi-tract/anatomical-landmarks/z-line/c7e...           0     False  \n",
       "1  lower-gi-tract/therapeutic-interventions/dyed-...           0     False  \n",
       "2  lower-gi-tract/quality-of-mucosal-views/bbps-2...           0     False  \n",
       "3  lower-gi-tract/quality-of-mucosal-views/bbps-2...           0     False  \n",
       "4  upper-gi-tract/anatomical-landmarks/z-line/b98...           0     False  "
      ]
     },
     "execution_count": 4,
     "metadata": {},
     "output_type": "execute_result"
    }
   ],
   "source": [
    "df_anno = pd.read_csv('../resource/hyper_kvasir/full_labeled_anno.csv')\n",
    "df_anno.head()"
   ]
  },
  {
   "cell_type": "code",
   "execution_count": 96,
   "id": "9c6110c3",
   "metadata": {},
   "outputs": [],
   "source": [
    "# df_anno['Categories'].value_counts()"
   ]
  },
  {
   "cell_type": "code",
   "execution_count": 5,
   "id": "dcb8c3df-3e87-4250-b053-bf2c1d5b0fe1",
   "metadata": {},
   "outputs": [],
   "source": [
    "list_cat_abn = []\n",
    "for c in df_anno['Categories']:\n",
    "    if c != 0:\n",
    "        list_cat_abn.append(1)\n",
    "    else:\n",
    "        list_cat_abn.append(c)\n",
    "df_anno['Abnormal'] = list_cat_abn"
   ]
  },
  {
   "cell_type": "code",
   "execution_count": 6,
   "id": "749c358d-e6e2-4627-b246-93acb5a2a8fb",
   "metadata": {},
   "outputs": [
    {
     "data": {
      "text/plain": [
       "0    8020\n",
       "1    2642\n",
       "Name: Abnormal, dtype: int64"
      ]
     },
     "execution_count": 6,
     "metadata": {},
     "output_type": "execute_result"
    }
   ],
   "source": [
    "df_anno['Abnormal'].value_counts()"
   ]
  },
  {
   "cell_type": "code",
   "execution_count": 99,
   "id": "d33a888f-7bd4-49df-be4e-7d841eba5c89",
   "metadata": {},
   "outputs": [],
   "source": [
    "# df_anno"
   ]
  },
  {
   "cell_type": "code",
   "execution_count": 100,
   "id": "9901924b-8fb6-4e6c-816b-07152c8045f8",
   "metadata": {},
   "outputs": [],
   "source": [
    "df_norm = df_anno[df_anno['Abnormal'] == 0]\n",
    "df_patho = df_anno[df_anno['Abnormal'] == 1]"
   ]
  },
  {
   "cell_type": "code",
   "execution_count": 101,
   "id": "2af1e776-a45d-4429-80bb-af979897eda4",
   "metadata": {},
   "outputs": [],
   "source": [
    "## set the new categories\n",
    "# for idx, c in enumerate(df_patho['Categories']):\n",
    "#     df_patho['Categories'].iloc[idx] = c - 1"
   ]
  },
  {
   "cell_type": "code",
   "execution_count": 104,
   "id": "59e6ad26-69fc-49de-a3e8-2229cd7cf5dc",
   "metadata": {},
   "outputs": [],
   "source": [
    "dict_cate = {}\n",
    "for i in range(13):\n",
    "    df_ = df_anno[df_anno['Categories']==i]\n",
    "    cat = set(df_['Finding'])\n",
    "    dict_cate[i] = cat"
   ]
  },
  {
   "cell_type": "code",
   "execution_count": 105,
   "id": "aaaaf480-a16f-4d62-ae15-7e923bb6ba73",
   "metadata": {},
   "outputs": [
    {
     "data": {
      "text/plain": [
       "{0: {'bbps-0-1',\n",
       "  'bbps-2-3',\n",
       "  'cecum',\n",
       "  'dyed-lifted-polyps',\n",
       "  'dyed-resection-margins',\n",
       "  'ileum',\n",
       "  'impacted-stool',\n",
       "  'pylorus',\n",
       "  'retroflex-rectum',\n",
       "  'retroflex-stomach',\n",
       "  'z-line'},\n",
       " 1: {'barretts-short-segment'},\n",
       " 2: {'ulcerative-colitis-grade-3'},\n",
       " 3: {'ulcerative-colitis-grade-0-1'},\n",
       " 4: {'ulcerative-colitis-grade-1'},\n",
       " 5: {'polyps'},\n",
       " 6: {'ulcerative-colitis-grade-1-2'},\n",
       " 7: {'ulcerative-colitis-grade-2'},\n",
       " 8: {'ulcerative-colitis-grade-2-3'},\n",
       " 9: {'barretts'},\n",
       " 10: {'esophagitis-a'},\n",
       " 11: {'hemorrhoids'},\n",
       " 12: {'esophagitis-b-d'}}"
      ]
     },
     "execution_count": 105,
     "metadata": {},
     "output_type": "execute_result"
    }
   ],
   "source": [
    "dict_cate"
   ]
  },
  {
   "cell_type": "code",
   "execution_count": 31,
   "id": "512fd25a-f637-4e7a-83e5-bb514b24ce40",
   "metadata": {},
   "outputs": [],
   "source": [
    "# df_patho['Categories'].value_counts()[:6]"
   ]
  },
  {
   "cell_type": "code",
   "execution_count": 32,
   "id": "9d5316d8-ec1d-4dc0-a636-39400cd76277",
   "metadata": {},
   "outputs": [],
   "source": [
    "# major_classes = dict(df_patho['Categories'].value_counts()[:6])\n",
    "# sum(major_classes.values())"
   ]
  },
  {
   "cell_type": "code",
   "execution_count": 33,
   "id": "f20b4ac0-0759-4b7f-a6c8-040a031e37a8",
   "metadata": {},
   "outputs": [],
   "source": [
    "# df_major_patho = pd.DataFrame([])\n",
    "# for i, c in enumerate(major_classes.keys()):\n",
    "#     df_ = df_patho[df_patho['Categories']==c]\n",
    "#     df_['Categories'] = i\n",
    "#     df_major_patho = pd.concat([df_major_patho, df_], axis=0)"
   ]
  },
  {
   "cell_type": "code",
   "execution_count": 15,
   "id": "c4f92f1f-2003-42f6-b94d-860fdedcfeba",
   "metadata": {},
   "outputs": [],
   "source": [
    "# df_major_patho"
   ]
  },
  {
   "cell_type": "markdown",
   "id": "b0b05e21-6e10-437d-bc9d-a83489c4e45b",
   "metadata": {},
   "source": [
    "## Split all data"
   ]
  },
  {
   "cell_type": "code",
   "execution_count": 65,
   "id": "77fc3522-b190-42c2-8194-d686d2328955",
   "metadata": {},
   "outputs": [],
   "source": [
    "# df_norm_train, df_norm_valid = train_test_split(df_norm, test_size=0.2, random_state=0)\n",
    "# x_abno = df_patho['Image']\n",
    "# y_abno = df_patho['Categories']\n",
    "# x_train, x_valid, y_train, y_valid = train_test_split(x_abno, y_abno, test_size=0.2, random_state=0)\n",
    "\n",
    "# df_train_abno = pd.DataFrame([])\n",
    "# df_train_abno['image'] = list(df_norm_train['Image']) + list(x_train)\n",
    "# df_train_abno['target'] = list(df_norm_train['Categories']) + [1]*len(y_train)\n",
    "# df_train_abno['is_valid'] = False\n",
    "\n",
    "# df_valid_abno = pd.DataFrame([])\n",
    "# df_valid_abno['image'] = list(df_norm_valid['Image']) + list(x_valid)\n",
    "# df_valid_abno['target'] = list(df_norm_valid['Categories']) + [1]*len(y_valid)\n",
    "# df_valid_abno['is_valid'] = True\n",
    "\n",
    "\n",
    "# df_train_patho = pd.DataFrame([])\n",
    "# df_train_patho['image'] = x_train\n",
    "# df_train_patho['target'] = [(y - 1) for y in list(y_train)]\n",
    "# df_train_patho['is_valid'] = False\n",
    "\n",
    "# df_valid_patho = pd.DataFrame([])\n",
    "# df_valid_patho['image'] = x_valid\n",
    "# df_valid_patho['target'] = [(y - 1) for y in list(y_valid)]\n",
    "# df_valid_patho['is_valid'] = True\n",
    "\n",
    "# df_full_abno = pd.concat([df_train_abno, df_valid_abno], axis=0).reset_index()\n",
    "# df_full_patho = pd.concat([df_train_patho, df_valid_patho], axis=0).reset_index()"
   ]
  },
  {
   "cell_type": "code",
   "execution_count": 68,
   "id": "9c3edbad-5f32-4a80-b3fa-a35e94680449",
   "metadata": {},
   "outputs": [],
   "source": [
    "# df_full_abno.to_csv('../resource/hyper_kvasir/df_abnomalies.csv', index=False, header=True)\n",
    "# df_full_patho.to_csv('../resource/hyper_kvasir/df_pathologies.csv', index=False, header=True)"
   ]
  },
  {
   "cell_type": "markdown",
   "id": "2d645458-8be1-43fb-ada3-40b8530b9b44",
   "metadata": {},
   "source": [
    "## Split mock size"
   ]
  },
  {
   "cell_type": "code",
   "execution_count": 29,
   "id": "881c6579-107e-4ea3-b054-0e5277e76870",
   "metadata": {},
   "outputs": [],
   "source": [
    "df_full_patho = pd.read_csv('../resource/hyper_kvasir/df_pathologies.csv')\n",
    "x_train = df_full_patho[df_full_patho['is_valid']==False]['image']\n",
    "y_train = df_full_patho[df_full_patho['is_valid']==False]['target']\n",
    "\n",
    "df_valid_patho = df_full_patho[df_full_patho['is_valid']==True]"
   ]
  },
  {
   "cell_type": "code",
   "execution_count": 32,
   "id": "82bef152-f140-4908-959e-e22623588cf7",
   "metadata": {},
   "outputs": [
    {
     "name": "stderr",
     "output_type": "stream",
     "text": [
      "C:\\Users\\Admin\\anaconda3\\envs\\cls\\lib\\site-packages\\ipykernel_launcher.py:1: SettingWithCopyWarning: \n",
      "A value is trying to be set on a copy of a slice from a DataFrame.\n",
      "Try using .loc[row_indexer,col_indexer] = value instead\n",
      "\n",
      "See the caveats in the documentation: https://pandas.pydata.org/pandas-docs/stable/user_guide/indexing.html#returning-a-view-versus-a-copy\n",
      "  \"\"\"Entry point for launching an IPython kernel.\n"
     ]
    },
    {
     "data": {
      "text/html": [
       "<div>\n",
       "<style scoped>\n",
       "    .dataframe tbody tr th:only-of-type {\n",
       "        vertical-align: middle;\n",
       "    }\n",
       "\n",
       "    .dataframe tbody tr th {\n",
       "        vertical-align: top;\n",
       "    }\n",
       "\n",
       "    .dataframe thead th {\n",
       "        text-align: right;\n",
       "    }\n",
       "</style>\n",
       "<table border=\"1\" class=\"dataframe\">\n",
       "  <thead>\n",
       "    <tr style=\"text-align: right;\">\n",
       "      <th></th>\n",
       "      <th>index</th>\n",
       "      <th>image</th>\n",
       "      <th>target</th>\n",
       "      <th>is_valid</th>\n",
       "      <th>is_labeled</th>\n",
       "    </tr>\n",
       "  </thead>\n",
       "  <tbody>\n",
       "    <tr>\n",
       "      <th>2113</th>\n",
       "      <td>3050</td>\n",
       "      <td>lower-gi-tract/pathological-findings/polyps/dc...</td>\n",
       "      <td>4</td>\n",
       "      <td>True</td>\n",
       "      <td>True</td>\n",
       "    </tr>\n",
       "    <tr>\n",
       "      <th>2114</th>\n",
       "      <td>5461</td>\n",
       "      <td>lower-gi-tract/pathological-findings/polyps/f8...</td>\n",
       "      <td>4</td>\n",
       "      <td>True</td>\n",
       "      <td>True</td>\n",
       "    </tr>\n",
       "    <tr>\n",
       "      <th>2115</th>\n",
       "      <td>8895</td>\n",
       "      <td>lower-gi-tract/pathological-findings/ulcerativ...</td>\n",
       "      <td>6</td>\n",
       "      <td>True</td>\n",
       "      <td>True</td>\n",
       "    </tr>\n",
       "    <tr>\n",
       "      <th>2116</th>\n",
       "      <td>8464</td>\n",
       "      <td>lower-gi-tract/pathological-findings/ulcerativ...</td>\n",
       "      <td>6</td>\n",
       "      <td>True</td>\n",
       "      <td>True</td>\n",
       "    </tr>\n",
       "    <tr>\n",
       "      <th>2117</th>\n",
       "      <td>6077</td>\n",
       "      <td>lower-gi-tract/pathological-findings/polyps/ca...</td>\n",
       "      <td>4</td>\n",
       "      <td>True</td>\n",
       "      <td>True</td>\n",
       "    </tr>\n",
       "  </tbody>\n",
       "</table>\n",
       "</div>"
      ],
      "text/plain": [
       "      index                                              image  target  \\\n",
       "2113   3050  lower-gi-tract/pathological-findings/polyps/dc...       4   \n",
       "2114   5461  lower-gi-tract/pathological-findings/polyps/f8...       4   \n",
       "2115   8895  lower-gi-tract/pathological-findings/ulcerativ...       6   \n",
       "2116   8464  lower-gi-tract/pathological-findings/ulcerativ...       6   \n",
       "2117   6077  lower-gi-tract/pathological-findings/polyps/ca...       4   \n",
       "\n",
       "      is_valid  is_labeled  \n",
       "2113      True        True  \n",
       "2114      True        True  \n",
       "2115      True        True  \n",
       "2116      True        True  \n",
       "2117      True        True  "
      ]
     },
     "execution_count": 32,
     "metadata": {},
     "output_type": "execute_result"
    }
   ],
   "source": [
    "df_valid_patho['is_labeled'] = True\n",
    "df_valid_patho.head()"
   ]
  },
  {
   "cell_type": "code",
   "execution_count": 58,
   "id": "a02b99b1-e651-4c1d-8dce-267385450f7d",
   "metadata": {},
   "outputs": [
    {
     "data": {
      "text/plain": [
       "{0, 1, 2, 3, 4, 5, 6, 7, 8, 9, 11}"
      ]
     },
     "execution_count": 58,
     "metadata": {},
     "output_type": "execute_result"
    }
   ],
   "source": []
  },
  {
   "cell_type": "code",
   "execution_count": 90,
   "id": "84c007c2-ed49-4269-aa7e-6b443ac7dc4d",
   "metadata": {},
   "outputs": [],
   "source": [
    "x_train_unlab, x_train_lab, y_train_unlab, y_train_lab  = train_test_split(x_train, \n",
    "                                                                          y_train, \n",
    "                                                                          test_size=0.2, \n",
    "                                                                          random_state=42)\n",
    "\n",
    "\n",
    "df_train_lab = pd.DataFrame([])\n",
    "df_train_lab['image'] = x_train_lab\n",
    "df_train_lab['target'] = y_train_lab\n",
    "df_train_lab['is_valid'] = False\n",
    "df_train_lab['is_labeled'] = True\n",
    "\n",
    "df_train_unlab = pd.DataFrame([])\n",
    "df_train_unlab['image'] = x_train_unlab\n",
    "df_train_unlab['target'] = y_train_unlab\n",
    "df_train_unlab['is_valid'] = False\n",
    "df_train_unlab['is_labeled'] = False\n",
    "\n",
    "df_full_mock = pd.concat([df_train_lab, df_train_unlab, df_valid_patho], axis=0)\n",
    "del df_full_mock['index']"
   ]
  },
  {
   "cell_type": "code",
   "execution_count": 92,
   "id": "2dee5d94-a925-420b-a98a-352805213f87",
   "metadata": {},
   "outputs": [
    {
     "data": {
      "text/plain": [
       "{0, 1, 2, 3, 4, 5, 6, 7, 8, 9, 10, 11}"
      ]
     },
     "execution_count": 92,
     "metadata": {},
     "output_type": "execute_result"
    }
   ],
   "source": [
    "set(y_train_unlab)"
   ]
  },
  {
   "cell_type": "code",
   "execution_count": 93,
   "id": "23a685c4-3580-4c65-86c7-fbc0912f7fac",
   "metadata": {},
   "outputs": [
    {
     "data": {
      "text/plain": [
       "4     155\n",
       "6      81\n",
       "9      64\n",
       "11     45\n",
       "3      29\n",
       "1      25\n",
       "8       7\n",
       "0       6\n",
       "7       4\n",
       "2       4\n",
       "5       2\n",
       "10      1\n",
       "Name: target, dtype: int64"
      ]
     },
     "execution_count": 93,
     "metadata": {},
     "output_type": "execute_result"
    }
   ],
   "source": [
    "df_  = df_full_mock[df_full_mock['is_labeled']==True]\n",
    "df_[df_['is_valid']==False]['target'].value_counts()"
   ]
  },
  {
   "cell_type": "code",
   "execution_count": 94,
   "id": "605a3387-2abc-49ec-b554-bdcd7eb29db0",
   "metadata": {},
   "outputs": [
    {
     "data": {
      "text/plain": [
       "12"
      ]
     },
     "execution_count": 94,
     "metadata": {},
     "output_type": "execute_result"
    }
   ],
   "source": [
    "len(df_full_mock['target'].value_counts())"
   ]
  },
  {
   "cell_type": "code",
   "execution_count": 38,
   "id": "a9c37597-2b90-474d-8d45-b680b2f62758",
   "metadata": {},
   "outputs": [],
   "source": [
    "df_full_mock.to_csv('../resource/hyper_kvasir/df_pathologies_mock_8_2.csv', index=False, header = True)"
   ]
  },
  {
   "cell_type": "code",
   "execution_count": 62,
   "id": "b32f918b-34e6-4950-a8e4-a1eb71aabd86",
   "metadata": {},
   "outputs": [],
   "source": [
    "# df_train_lab['target'].value_counts()"
   ]
  },
  {
   "cell_type": "code",
   "execution_count": 63,
   "id": "4692559f-4e01-4de3-a75c-5df03cd62fa6",
   "metadata": {},
   "outputs": [],
   "source": [
    "# df_valid"
   ]
  },
  {
   "cell_type": "code",
   "execution_count": 22,
   "id": "9f4304e4-6c5c-4419-862d-7848e5bedbd4",
   "metadata": {},
   "outputs": [],
   "source": [
    "# df_full[df_full['is_labeled']==True]"
   ]
  },
  {
   "cell_type": "code",
   "execution_count": 23,
   "id": "cbd32e04-fc1d-41ab-a533-9036a0efe908",
   "metadata": {},
   "outputs": [],
   "source": [
    "# df_full['target'].value_counts()"
   ]
  },
  {
   "cell_type": "code",
   "execution_count": 24,
   "id": "86d5ca23-9b18-453f-9e10-dccd01bbc7cf",
   "metadata": {},
   "outputs": [],
   "source": [
    "# df_full.to_csv('../resource/hyper_kvasir/df_pathologies.csv', index=False, header=True)"
   ]
  },
  {
   "cell_type": "code",
   "execution_count": 11,
   "id": "0f96dac9-efdc-451a-9212-24418deeb690",
   "metadata": {},
   "outputs": [],
   "source": [
    "# x = df_anno['path']\n",
    "# y = df_anno['Categories']\n",
    "\n",
    "# x_train, x_test, y_train, y_test = train_test_split(x, y, test_size=0.2, random_state=0)\n",
    "# x_train_lab, x_train_unlab, y_train_lab, y_train_unlab = train_test_split(x_train, \n",
    "#                                                                           y_train, \n",
    "#                                                                           test_size=0.32, \n",
    "#                                                                           random_state=0)\n",
    "\n",
    "\n",
    "# df_train_lab = pd.DataFrame([])\n",
    "# df_train_lab = pd.DataFrame([])\n",
    "# df_train_lab['image'] = x_train_lab\n",
    "# df_train_lab['target'] = y_train_lab\n",
    "# df_train_lab['is_valid'] = False\n",
    "# df_train_lab['is_labeled'] = True\n",
    "\n",
    "# df_train_unlab = pd.DataFrame([])\n",
    "# df_train_unlab = pd.DataFrame([])\n",
    "# df_train_unlab['image'] = x_train_unlab\n",
    "# df_train_unlab['target'] = y_train_unlab\n",
    "# df_train_unlab['is_valid'] = False\n",
    "# df_train_unlab['is_labeled'] = False\n",
    "\n",
    "\n",
    "# df_valid['image'] = x_test\n",
    "# df_valid['target'] = y_test\n",
    "# df_valid['is_valid'] = True\n",
    "# df_valid['is_labeled'] = True"
   ]
  },
  {
   "cell_type": "code",
   "execution_count": 12,
   "id": "9146e804-561f-4f12-b5ab-ad3594846414",
   "metadata": {},
   "outputs": [],
   "source": [
    "# df_full = pd.concat([df_train_lab, df_train_unlab, df_valid], axis=0).reset_index()\n",
    "# del df_full['index']\n",
    "# df_full"
   ]
  },
  {
   "cell_type": "code",
   "execution_count": 13,
   "id": "36d05cdc-5128-45ee-a01e-aac17f6f8ffb",
   "metadata": {},
   "outputs": [],
   "source": [
    "# fig = df_full['target'].value_counts().plot(kind='bar', figsize=(10, 8), fontsize=10, rot=0).get_figure()"
   ]
  },
  {
   "cell_type": "code",
   "execution_count": 23,
   "id": "e78c7f43-d945-462a-8c08-96edcadf13b6",
   "metadata": {},
   "outputs": [],
   "source": [
    "# df_full.to_csv('../resource/hyper_kvasir/df_abnormal.csv', index=False, header=True)"
   ]
  },
  {
   "cell_type": "code",
   "execution_count": 15,
   "id": "3196529e-f100-4028-b9c6-91b7deeca3f7",
   "metadata": {},
   "outputs": [],
   "source": [
    "# cnt_train = df_train['target'].value_counts()\n",
    "# cnt_valid = df_valid['target'].value_counts()\n",
    "\n",
    "# df_cnt = pd.DataFrame({'train': cnt_train,'valid': cnt_valid})\n",
    "# chart = df_cnt.plot.bar(rot=0, figsize=(10, 8), fontsize=15, stacked=True).get_figure()\n",
    "# # chart.savefig('../resource/visualize/visual_sup.png')"
   ]
  },
  {
   "cell_type": "code",
   "execution_count": 69,
   "id": "8353fec3-dade-42c7-9581-7f48b4da96a3",
   "metadata": {},
   "outputs": [],
   "source": [
    "# cnt_train = df_train['Groupby_Categories']\n",
    "# cnt_train_labeled, cnt_train_unlabeled = train_test_split(cnt_train, test_size = 0.9, random_state = 0)\n",
    "# cnt_train_labeled, cnt_train_unlabeled = cnt_train_labeled.value_counts(), cnt_train_unlabeled.value_counts()\n",
    "# cnt_valid = df_valid['Groupby_Categories'].value_counts()\n",
    "\n",
    "# df_cnt = pd.DataFrame({'train_labeled': cnt_train_labeled, \n",
    "                       \n",
    "#                        'train_unlabeled': cnt_train_unlabeled,\n",
    "#                        'valid': cnt_valid,\n",
    "#                        })\n",
    "# chart_semi = df_cnt.plot.bar(rot=0, \n",
    "#                         figsize=(10, 8), \n",
    "#                         fontsize=15,\n",
    "#                         color={\"train_labeled\": \"#1f76b5\", \"train_unlabeled\": \"green\", \"valid\":\"#fe7e0e\"},\n",
    "#                         stacked=True).get_figure()\n",
    "# chart_semi.savefig('../resource/visualize/visual_semi_1_9.png')"
   ]
  },
  {
   "cell_type": "code",
   "execution_count": 70,
   "id": "55e0e1de-1a8c-410e-b679-b41dbd847bea",
   "metadata": {},
   "outputs": [],
   "source": [
    "# cnt_train_labeled, cnt_train_unlabeled"
   ]
  },
  {
   "cell_type": "code",
   "execution_count": 71,
   "id": "10c2e7ab-ce2e-46c1-a8c6-f87617571627",
   "metadata": {},
   "outputs": [],
   "source": [
    "# df_train['Groupby_Categories'].value_counts()\n",
    "# fig_train.savefig('../resource/visualize/groupcat_train.png')"
   ]
  },
  {
   "cell_type": "code",
   "execution_count": 72,
   "id": "e012084f-1fe0-484d-8010-37f17021b29c",
   "metadata": {},
   "outputs": [],
   "source": [
    "# df_valid['Groupby_Categories'].value_counts()\n",
    "# fig_valid.savefig('../resource/visualize/groupcat_valid.png')"
   ]
  },
  {
   "cell_type": "code",
   "execution_count": 14,
   "id": "8d15e4d5-0a0b-4fda-9fa0-6d0549104a2f",
   "metadata": {},
   "outputs": [],
   "source": [
    "# fig.savefig('../resource/visualize/groupcat.png')"
   ]
  },
  {
   "cell_type": "code",
   "execution_count": 15,
   "id": "67e0de28-0f66-4916-9bbe-124213af60c7",
   "metadata": {},
   "outputs": [],
   "source": [
    "# df_full.to_csv('../resource/hyper_kvasir/full_labeled_group.csv', index=False, header=True)"
   ]
  }
 ],
 "metadata": {
  "kernelspec": {
   "display_name": "cls",
   "language": "python",
   "name": "cls"
  },
  "language_info": {
   "codemirror_mode": {
    "name": "ipython",
    "version": 3
   },
   "file_extension": ".py",
   "mimetype": "text/x-python",
   "name": "python",
   "nbconvert_exporter": "python",
   "pygments_lexer": "ipython3",
   "version": "3.6.13"
  }
 },
 "nbformat": 4,
 "nbformat_minor": 5
}
