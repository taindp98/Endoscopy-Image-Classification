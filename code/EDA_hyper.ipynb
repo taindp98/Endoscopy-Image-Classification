{
 "cells": [
  {
   "cell_type": "code",
   "execution_count": 3,
   "metadata": {},
   "outputs": [],
   "source": [
    "import pandas as pd\n",
    "import os\n",
    "import numpy as np\n",
    "import cv2\n",
    "from tqdm import tqdm\n",
    "from glob import glob\n",
    "from sklearn.model_selection import train_test_split\n",
    "from matplotlib import pyplot as plt"
   ]
  },
  {
   "cell_type": "code",
   "execution_count": 4,
   "metadata": {},
   "outputs": [],
   "source": [
    "# import warnings filter\n",
    "from warnings import simplefilter\n",
    "# ignore all future warnings\n",
    "simplefilter(action='ignore', category=FutureWarning)"
   ]
  },
  {
   "cell_type": "code",
   "execution_count": 5,
   "metadata": {},
   "outputs": [],
   "source": [
    "_HYPER_KVASIR = 'D:\\\\data\\\\endoscopic\\\\hyper_kvasir\\\\labeled_images'\n",
    "# _HYPER_KVASIR_LABELED_DEFORM = 'D:\\\\data\\\\endoscopic\\\\hyper_kvasir\\\\labeled_images_deform'"
   ]
  },
  {
   "cell_type": "code",
   "execution_count": 7,
   "metadata": {},
   "outputs": [
    {
     "data": {
      "text/html": [
       "<div>\n",
       "<style scoped>\n",
       "    .dataframe tbody tr th:only-of-type {\n",
       "        vertical-align: middle;\n",
       "    }\n",
       "\n",
       "    .dataframe tbody tr th {\n",
       "        vertical-align: top;\n",
       "    }\n",
       "\n",
       "    .dataframe thead th {\n",
       "        text-align: right;\n",
       "    }\n",
       "</style>\n",
       "<table border=\"1\" class=\"dataframe\">\n",
       "  <thead>\n",
       "    <tr style=\"text-align: right;\">\n",
       "      <th></th>\n",
       "      <th>Image</th>\n",
       "    </tr>\n",
       "  </thead>\n",
       "  <tbody>\n",
       "    <tr>\n",
       "      <th>0</th>\n",
       "      <td>./unlabeled-images-deform/7cee06d5-436d-4eb8-b...</td>\n",
       "    </tr>\n",
       "    <tr>\n",
       "      <th>1</th>\n",
       "      <td>./unlabeled-images-deform/fd17055e-a6d4-4d89-b...</td>\n",
       "    </tr>\n",
       "    <tr>\n",
       "      <th>2</th>\n",
       "      <td>./unlabeled-images-deform/53485c77-31d5-4405-b...</td>\n",
       "    </tr>\n",
       "    <tr>\n",
       "      <th>3</th>\n",
       "      <td>./unlabeled-images-deform/91b98665-599d-4d31-8...</td>\n",
       "    </tr>\n",
       "    <tr>\n",
       "      <th>4</th>\n",
       "      <td>./unlabeled-images-deform/dc54382b-5791-457f-8...</td>\n",
       "    </tr>\n",
       "  </tbody>\n",
       "</table>\n",
       "</div>"
      ],
      "text/plain": [
       "                                               Image\n",
       "0  ./unlabeled-images-deform/7cee06d5-436d-4eb8-b...\n",
       "1  ./unlabeled-images-deform/fd17055e-a6d4-4d89-b...\n",
       "2  ./unlabeled-images-deform/53485c77-31d5-4405-b...\n",
       "3  ./unlabeled-images-deform/91b98665-599d-4d31-8...\n",
       "4  ./unlabeled-images-deform/dc54382b-5791-457f-8..."
      ]
     },
     "execution_count": 7,
     "metadata": {},
     "output_type": "execute_result"
    }
   ],
   "source": [
    "df_unanno = pd.read_csv('../resource/hyper_kvasir/full_unlabeled.csv')\n",
    "df_unanno.head()"
   ]
  },
  {
   "cell_type": "code",
   "execution_count": 8,
   "metadata": {},
   "outputs": [],
   "source": [
    "for idx in range(len(df_unanno)):\n",
    "    df_unanno['Image'].iloc[idx] = str(df_unanno['Image'].iloc[idx]).replace('deform','resize')"
   ]
  },
  {
   "cell_type": "code",
   "execution_count": 9,
   "metadata": {},
   "outputs": [
    {
     "data": {
      "text/html": [
       "<div>\n",
       "<style scoped>\n",
       "    .dataframe tbody tr th:only-of-type {\n",
       "        vertical-align: middle;\n",
       "    }\n",
       "\n",
       "    .dataframe tbody tr th {\n",
       "        vertical-align: top;\n",
       "    }\n",
       "\n",
       "    .dataframe thead th {\n",
       "        text-align: right;\n",
       "    }\n",
       "</style>\n",
       "<table border=\"1\" class=\"dataframe\">\n",
       "  <thead>\n",
       "    <tr style=\"text-align: right;\">\n",
       "      <th></th>\n",
       "      <th>Image</th>\n",
       "    </tr>\n",
       "  </thead>\n",
       "  <tbody>\n",
       "    <tr>\n",
       "      <th>0</th>\n",
       "      <td>./unlabeled-images-resize/7cee06d5-436d-4eb8-b...</td>\n",
       "    </tr>\n",
       "    <tr>\n",
       "      <th>1</th>\n",
       "      <td>./unlabeled-images-resize/fd17055e-a6d4-4d89-b...</td>\n",
       "    </tr>\n",
       "    <tr>\n",
       "      <th>2</th>\n",
       "      <td>./unlabeled-images-resize/53485c77-31d5-4405-b...</td>\n",
       "    </tr>\n",
       "    <tr>\n",
       "      <th>3</th>\n",
       "      <td>./unlabeled-images-resize/91b98665-599d-4d31-8...</td>\n",
       "    </tr>\n",
       "    <tr>\n",
       "      <th>4</th>\n",
       "      <td>./unlabeled-images-resize/dc54382b-5791-457f-8...</td>\n",
       "    </tr>\n",
       "  </tbody>\n",
       "</table>\n",
       "</div>"
      ],
      "text/plain": [
       "                                               Image\n",
       "0  ./unlabeled-images-resize/7cee06d5-436d-4eb8-b...\n",
       "1  ./unlabeled-images-resize/fd17055e-a6d4-4d89-b...\n",
       "2  ./unlabeled-images-resize/53485c77-31d5-4405-b...\n",
       "3  ./unlabeled-images-resize/91b98665-599d-4d31-8...\n",
       "4  ./unlabeled-images-resize/dc54382b-5791-457f-8..."
      ]
     },
     "execution_count": 9,
     "metadata": {},
     "output_type": "execute_result"
    }
   ],
   "source": [
    "df_unanno.head()"
   ]
  },
  {
   "cell_type": "code",
   "execution_count": 13,
   "metadata": {},
   "outputs": [
    {
     "data": {
      "text/html": [
       "<div>\n",
       "<style scoped>\n",
       "    .dataframe tbody tr th:only-of-type {\n",
       "        vertical-align: middle;\n",
       "    }\n",
       "\n",
       "    .dataframe tbody tr th {\n",
       "        vertical-align: top;\n",
       "    }\n",
       "\n",
       "    .dataframe thead th {\n",
       "        text-align: right;\n",
       "    }\n",
       "</style>\n",
       "<table border=\"1\" class=\"dataframe\">\n",
       "  <thead>\n",
       "    <tr style=\"text-align: right;\">\n",
       "      <th></th>\n",
       "      <th>image</th>\n",
       "    </tr>\n",
       "  </thead>\n",
       "  <tbody>\n",
       "    <tr>\n",
       "      <th>0</th>\n",
       "      <td>./unlabeled-images-resize/7cee06d5-436d-4eb8-b...</td>\n",
       "    </tr>\n",
       "    <tr>\n",
       "      <th>1</th>\n",
       "      <td>./unlabeled-images-resize/fd17055e-a6d4-4d89-b...</td>\n",
       "    </tr>\n",
       "    <tr>\n",
       "      <th>2</th>\n",
       "      <td>./unlabeled-images-resize/53485c77-31d5-4405-b...</td>\n",
       "    </tr>\n",
       "    <tr>\n",
       "      <th>3</th>\n",
       "      <td>./unlabeled-images-resize/91b98665-599d-4d31-8...</td>\n",
       "    </tr>\n",
       "    <tr>\n",
       "      <th>4</th>\n",
       "      <td>./unlabeled-images-resize/dc54382b-5791-457f-8...</td>\n",
       "    </tr>\n",
       "  </tbody>\n",
       "</table>\n",
       "</div>"
      ],
      "text/plain": [
       "                                               image\n",
       "0  ./unlabeled-images-resize/7cee06d5-436d-4eb8-b...\n",
       "1  ./unlabeled-images-resize/fd17055e-a6d4-4d89-b...\n",
       "2  ./unlabeled-images-resize/53485c77-31d5-4405-b...\n",
       "3  ./unlabeled-images-resize/91b98665-599d-4d31-8...\n",
       "4  ./unlabeled-images-resize/dc54382b-5791-457f-8..."
      ]
     },
     "execution_count": 13,
     "metadata": {},
     "output_type": "execute_result"
    }
   ],
   "source": [
    "df_unanno = df_unanno.rename(columns = {'Image':'image'})\n",
    "df_unanno.head()"
   ]
  },
  {
   "cell_type": "code",
   "execution_count": 14,
   "metadata": {},
   "outputs": [],
   "source": [
    "df_unanno.to_csv('../resource/hyper_kvasir/full_unlabeled.csv', index = False, header = True)"
   ]
  },
  {
   "cell_type": "code",
   "execution_count": 4,
   "metadata": {},
   "outputs": [
    {
     "data": {
      "text/html": [
       "<div>\n",
       "<style scoped>\n",
       "    .dataframe tbody tr th:only-of-type {\n",
       "        vertical-align: middle;\n",
       "    }\n",
       "\n",
       "    .dataframe tbody tr th {\n",
       "        vertical-align: top;\n",
       "    }\n",
       "\n",
       "    .dataframe thead th {\n",
       "        text-align: right;\n",
       "    }\n",
       "</style>\n",
       "<table border=\"1\" class=\"dataframe\">\n",
       "  <thead>\n",
       "    <tr style=\"text-align: right;\">\n",
       "      <th></th>\n",
       "      <th>Organ</th>\n",
       "      <th>Classification</th>\n",
       "      <th>Finding</th>\n",
       "      <th>Image</th>\n",
       "      <th>Categories</th>\n",
       "      <th>is_valid</th>\n",
       "    </tr>\n",
       "  </thead>\n",
       "  <tbody>\n",
       "    <tr>\n",
       "      <th>0</th>\n",
       "      <td>upper-gi-tract</td>\n",
       "      <td>anatomical-landmarks</td>\n",
       "      <td>z-line</td>\n",
       "      <td>upper-gi-tract/anatomical-landmarks/z-line/c7e...</td>\n",
       "      <td>0</td>\n",
       "      <td>False</td>\n",
       "    </tr>\n",
       "    <tr>\n",
       "      <th>1</th>\n",
       "      <td>lower-gi-tract</td>\n",
       "      <td>therapeutic-interventions</td>\n",
       "      <td>dyed-lifted-polyps</td>\n",
       "      <td>lower-gi-tract/therapeutic-interventions/dyed-...</td>\n",
       "      <td>0</td>\n",
       "      <td>False</td>\n",
       "    </tr>\n",
       "    <tr>\n",
       "      <th>2</th>\n",
       "      <td>lower-gi-tract</td>\n",
       "      <td>quality-of-mucosal-views</td>\n",
       "      <td>bbps-2-3</td>\n",
       "      <td>lower-gi-tract/quality-of-mucosal-views/bbps-2...</td>\n",
       "      <td>0</td>\n",
       "      <td>False</td>\n",
       "    </tr>\n",
       "    <tr>\n",
       "      <th>3</th>\n",
       "      <td>lower-gi-tract</td>\n",
       "      <td>quality-of-mucosal-views</td>\n",
       "      <td>bbps-2-3</td>\n",
       "      <td>lower-gi-tract/quality-of-mucosal-views/bbps-2...</td>\n",
       "      <td>0</td>\n",
       "      <td>False</td>\n",
       "    </tr>\n",
       "    <tr>\n",
       "      <th>4</th>\n",
       "      <td>upper-gi-tract</td>\n",
       "      <td>anatomical-landmarks</td>\n",
       "      <td>z-line</td>\n",
       "      <td>upper-gi-tract/anatomical-landmarks/z-line/b98...</td>\n",
       "      <td>0</td>\n",
       "      <td>False</td>\n",
       "    </tr>\n",
       "  </tbody>\n",
       "</table>\n",
       "</div>"
      ],
      "text/plain": [
       "            Organ             Classification             Finding  \\\n",
       "0  upper-gi-tract       anatomical-landmarks              z-line   \n",
       "1  lower-gi-tract  therapeutic-interventions  dyed-lifted-polyps   \n",
       "2  lower-gi-tract   quality-of-mucosal-views            bbps-2-3   \n",
       "3  lower-gi-tract   quality-of-mucosal-views            bbps-2-3   \n",
       "4  upper-gi-tract       anatomical-landmarks              z-line   \n",
       "\n",
       "                                               Image  Categories  is_valid  \n",
       "0  upper-gi-tract/anatomical-landmarks/z-line/c7e...           0     False  \n",
       "1  lower-gi-tract/therapeutic-interventions/dyed-...           0     False  \n",
       "2  lower-gi-tract/quality-of-mucosal-views/bbps-2...           0     False  \n",
       "3  lower-gi-tract/quality-of-mucosal-views/bbps-2...           0     False  \n",
       "4  upper-gi-tract/anatomical-landmarks/z-line/b98...           0     False  "
      ]
     },
     "execution_count": 4,
     "metadata": {},
     "output_type": "execute_result"
    }
   ],
   "source": [
    "df_anno = pd.read_csv('../resource/hyper_kvasir/full_labeled_anno.csv')\n",
    "df_anno.head()"
   ]
  },
  {
   "cell_type": "code",
   "execution_count": 6,
   "metadata": {},
   "outputs": [],
   "source": [
    "# df_anno['Finding'].value_counts()"
   ]
  },
  {
   "cell_type": "code",
   "execution_count": 5,
   "metadata": {},
   "outputs": [
    {
     "data": {
      "text/html": [
       "<div>\n",
       "<style scoped>\n",
       "    .dataframe tbody tr th:only-of-type {\n",
       "        vertical-align: middle;\n",
       "    }\n",
       "\n",
       "    .dataframe tbody tr th {\n",
       "        vertical-align: top;\n",
       "    }\n",
       "\n",
       "    .dataframe thead th {\n",
       "        text-align: right;\n",
       "    }\n",
       "</style>\n",
       "<table border=\"1\" class=\"dataframe\">\n",
       "  <thead>\n",
       "    <tr style=\"text-align: right;\">\n",
       "      <th></th>\n",
       "      <th>target</th>\n",
       "      <th>pathologies</th>\n",
       "      <th>samples</th>\n",
       "      <th>old_target</th>\n",
       "    </tr>\n",
       "  </thead>\n",
       "  <tbody>\n",
       "    <tr>\n",
       "      <th>0</th>\n",
       "      <td>0</td>\n",
       "      <td>polyps</td>\n",
       "      <td>1028</td>\n",
       "      <td>4</td>\n",
       "    </tr>\n",
       "    <tr>\n",
       "      <th>1</th>\n",
       "      <td>1</td>\n",
       "      <td>ulcerative-colitis-grade-2</td>\n",
       "      <td>443</td>\n",
       "      <td>6</td>\n",
       "    </tr>\n",
       "    <tr>\n",
       "      <th>2</th>\n",
       "      <td>2</td>\n",
       "      <td>esophagitis-a</td>\n",
       "      <td>403</td>\n",
       "      <td>9</td>\n",
       "    </tr>\n",
       "    <tr>\n",
       "      <th>3</th>\n",
       "      <td>3</td>\n",
       "      <td>esophagitis-b-d</td>\n",
       "      <td>260</td>\n",
       "      <td>11</td>\n",
       "    </tr>\n",
       "    <tr>\n",
       "      <th>4</th>\n",
       "      <td>4</td>\n",
       "      <td>ulcerative-colitis-grade-1</td>\n",
       "      <td>201</td>\n",
       "      <td>3</td>\n",
       "    </tr>\n",
       "    <tr>\n",
       "      <th>5</th>\n",
       "      <td>5</td>\n",
       "      <td>ulcerative-colitis-grade-3</td>\n",
       "      <td>133</td>\n",
       "      <td>1</td>\n",
       "    </tr>\n",
       "  </tbody>\n",
       "</table>\n",
       "</div>"
      ],
      "text/plain": [
       "   target                 pathologies  samples  old_target\n",
       "0       0                      polyps     1028           4\n",
       "1       1  ulcerative-colitis-grade-2      443           6\n",
       "2       2               esophagitis-a      403           9\n",
       "3       3             esophagitis-b-d      260          11\n",
       "4       4  ulcerative-colitis-grade-1      201           3\n",
       "5       5  ulcerative-colitis-grade-3      133           1"
      ]
     },
     "execution_count": 5,
     "metadata": {},
     "output_type": "execute_result"
    }
   ],
   "source": [
    "full_categories = pd.read_csv('../resource/hyper_kvasir/categories.csv')\n",
    "pathological_categories = pd.read_csv('../resource/hyper_kvasir/pathological_categories.csv')\n",
    "pathological_categories\n",
    "# categories"
   ]
  },
  {
   "cell_type": "code",
   "execution_count": 7,
   "metadata": {},
   "outputs": [],
   "source": [
    "# list_paths = []\n",
    "# for c in categories['findings']:\n",
    "#     path = df_anno[df_anno['Finding']==c]['Image'].iloc[0]\n",
    "#     path = '/'.join(path.split('/')[:-1])\n",
    "#     list_paths.append(path)"
   ]
  },
  {
   "cell_type": "code",
   "execution_count": 8,
   "metadata": {},
   "outputs": [],
   "source": [
    "# categories['path'] = list_paths\n",
    "# categories.to_csv('../resource/hyper_kvasir/categories.csv', index=False, header=True)"
   ]
  },
  {
   "cell_type": "markdown",
   "metadata": {
    "jp-MarkdownHeadingCollapsed": true,
    "tags": []
   },
   "source": [
    "## Mock k-fold"
   ]
  },
  {
   "cell_type": "code",
   "execution_count": 11,
   "metadata": {},
   "outputs": [],
   "source": [
    "df_kfold = pd.read_csv('../resource/hyper_kvasir/df_full_kfold.csv')"
   ]
  },
  {
   "cell_type": "code",
   "execution_count": 29,
   "metadata": {},
   "outputs": [
    {
     "data": {
      "text/html": [
       "<div>\n",
       "<style scoped>\n",
       "    .dataframe tbody tr th:only-of-type {\n",
       "        vertical-align: middle;\n",
       "    }\n",
       "\n",
       "    .dataframe tbody tr th {\n",
       "        vertical-align: top;\n",
       "    }\n",
       "\n",
       "    .dataframe thead th {\n",
       "        text-align: right;\n",
       "    }\n",
       "</style>\n",
       "<table border=\"1\" class=\"dataframe\">\n",
       "  <thead>\n",
       "    <tr style=\"text-align: right;\">\n",
       "      <th></th>\n",
       "      <th>file-name</th>\n",
       "      <th>class-name</th>\n",
       "      <th>split-index</th>\n",
       "      <th>image</th>\n",
       "      <th>target</th>\n",
       "      <th>is_valid</th>\n",
       "    </tr>\n",
       "  </thead>\n",
       "  <tbody>\n",
       "    <tr>\n",
       "      <th>0</th>\n",
       "      <td>4bf58f1c-8233-41fc-9614-344e6d0fc351.jpg</td>\n",
       "      <td>impacted-stool</td>\n",
       "      <td>0</td>\n",
       "      <td>lower-gi-tract/quality-of-mucosal-views/impact...</td>\n",
       "      <td>7</td>\n",
       "      <td>False</td>\n",
       "    </tr>\n",
       "    <tr>\n",
       "      <th>1</th>\n",
       "      <td>9c3e5380-9621-4e74-b937-0c46f37e7ef3.jpg</td>\n",
       "      <td>impacted-stool</td>\n",
       "      <td>0</td>\n",
       "      <td>lower-gi-tract/quality-of-mucosal-views/impact...</td>\n",
       "      <td>7</td>\n",
       "      <td>False</td>\n",
       "    </tr>\n",
       "    <tr>\n",
       "      <th>2</th>\n",
       "      <td>cf3667be-0c86-4ce7-a0f3-721144b67230.jpg</td>\n",
       "      <td>impacted-stool</td>\n",
       "      <td>0</td>\n",
       "      <td>lower-gi-tract/quality-of-mucosal-views/impact...</td>\n",
       "      <td>7</td>\n",
       "      <td>False</td>\n",
       "    </tr>\n",
       "    <tr>\n",
       "      <th>3</th>\n",
       "      <td>8dbf6ead-8801-4a28-b811-62567dd2edb5.jpg</td>\n",
       "      <td>impacted-stool</td>\n",
       "      <td>0</td>\n",
       "      <td>lower-gi-tract/quality-of-mucosal-views/impact...</td>\n",
       "      <td>7</td>\n",
       "      <td>False</td>\n",
       "    </tr>\n",
       "    <tr>\n",
       "      <th>4</th>\n",
       "      <td>af09c241-1417-4a42-91ef-df86bab65f7c.jpg</td>\n",
       "      <td>impacted-stool</td>\n",
       "      <td>0</td>\n",
       "      <td>lower-gi-tract/quality-of-mucosal-views/impact...</td>\n",
       "      <td>7</td>\n",
       "      <td>False</td>\n",
       "    </tr>\n",
       "  </tbody>\n",
       "</table>\n",
       "</div>"
      ],
      "text/plain": [
       "                                  file-name      class-name  split-index  \\\n",
       "0  4bf58f1c-8233-41fc-9614-344e6d0fc351.jpg  impacted-stool            0   \n",
       "1  9c3e5380-9621-4e74-b937-0c46f37e7ef3.jpg  impacted-stool            0   \n",
       "2  cf3667be-0c86-4ce7-a0f3-721144b67230.jpg  impacted-stool            0   \n",
       "3  8dbf6ead-8801-4a28-b811-62567dd2edb5.jpg  impacted-stool            0   \n",
       "4  af09c241-1417-4a42-91ef-df86bab65f7c.jpg  impacted-stool            0   \n",
       "\n",
       "                                               image  target  is_valid  \n",
       "0  lower-gi-tract/quality-of-mucosal-views/impact...       7     False  \n",
       "1  lower-gi-tract/quality-of-mucosal-views/impact...       7     False  \n",
       "2  lower-gi-tract/quality-of-mucosal-views/impact...       7     False  \n",
       "3  lower-gi-tract/quality-of-mucosal-views/impact...       7     False  \n",
       "4  lower-gi-tract/quality-of-mucosal-views/impact...       7     False  "
      ]
     },
     "execution_count": 29,
     "metadata": {},
     "output_type": "execute_result"
    }
   ],
   "source": [
    "df_train = df_kfold[df_kfold['is_valid']==False]\n",
    "df_train.head()"
   ]
  },
  {
   "cell_type": "code",
   "execution_count": 72,
   "metadata": {},
   "outputs": [],
   "source": [
    "df_valid = pd.DataFrame([])\n",
    "df_valid['image'] = list(df_kfold[df_kfold['is_valid']==True]['image'])\n",
    "df_valid['target'] = list(df_kfold[df_kfold['is_valid']==True]['target'])\n",
    "df_valid['is_valid'] = True\n",
    "df_valid['is_labeled'] = True"
   ]
  },
  {
   "cell_type": "code",
   "execution_count": 75,
   "metadata": {},
   "outputs": [],
   "source": [
    "# df_valid"
   ]
  },
  {
   "cell_type": "code",
   "execution_count": 13,
   "metadata": {},
   "outputs": [],
   "source": [
    "x_train = list(df_train['image'])\n",
    "y_train = list(df_train['target'])"
   ]
  },
  {
   "cell_type": "code",
   "execution_count": 83,
   "metadata": {},
   "outputs": [],
   "source": [
    "check = 0\n",
    "while check != 23:\n",
    "    x_train_unlab, x_train_lab, y_train_unlab, y_train_lab  = train_test_split(x_train, \n",
    "                                                                              y_train, \n",
    "                                                                              test_size=0.2)\n",
    "                                                                              # random_state=0)\n",
    "    check = len(set(y_train_lab))\n",
    "    df_train_lab = pd.DataFrame([])\n",
    "    df_train_lab['image'] = x_train_lab\n",
    "    df_train_lab['target'] = y_train_lab\n",
    "    df_train_lab['is_valid'] = False\n",
    "    df_train_lab['is_labeled'] = True\n",
    "\n",
    "    df_train_unlab = pd.DataFrame([])\n",
    "    df_train_unlab['image'] = x_train_unlab\n",
    "    df_train_unlab['target'] = y_train_unlab\n",
    "    df_train_unlab['is_valid'] = False\n",
    "    df_train_unlab['is_labeled'] = False\n",
    "\n",
    "    df_full_mock = pd.concat([df_train_lab, df_train_unlab, df_valid], axis=0)"
   ]
  },
  {
   "cell_type": "code",
   "execution_count": 84,
   "metadata": {},
   "outputs": [],
   "source": [
    "df_full_mock.to_csv('../resource/hyper_kvasir/df_split_mock_2_8.csv', index=False, header = True)"
   ]
  },
  {
   "cell_type": "markdown",
   "metadata": {
    "jp-MarkdownHeadingCollapsed": true,
    "tags": []
   },
   "source": [
    "## Read k-fold split"
   ]
  },
  {
   "cell_type": "code",
   "execution_count": 8,
   "metadata": {},
   "outputs": [
    {
     "data": {
      "text/html": [
       "<div>\n",
       "<style scoped>\n",
       "    .dataframe tbody tr th:only-of-type {\n",
       "        vertical-align: middle;\n",
       "    }\n",
       "\n",
       "    .dataframe tbody tr th {\n",
       "        vertical-align: top;\n",
       "    }\n",
       "\n",
       "    .dataframe thead th {\n",
       "        text-align: right;\n",
       "    }\n",
       "</style>\n",
       "<table border=\"1\" class=\"dataframe\">\n",
       "  <thead>\n",
       "    <tr style=\"text-align: right;\">\n",
       "      <th></th>\n",
       "      <th>file-name</th>\n",
       "      <th>class-name</th>\n",
       "      <th>split-index</th>\n",
       "    </tr>\n",
       "  </thead>\n",
       "  <tbody>\n",
       "    <tr>\n",
       "      <th>0</th>\n",
       "      <td>4bf58f1c-8233-41fc-9614-344e6d0fc351.jpg</td>\n",
       "      <td>impacted-stool</td>\n",
       "      <td>0</td>\n",
       "    </tr>\n",
       "    <tr>\n",
       "      <th>1</th>\n",
       "      <td>9c3e5380-9621-4e74-b937-0c46f37e7ef3.jpg</td>\n",
       "      <td>impacted-stool</td>\n",
       "      <td>0</td>\n",
       "    </tr>\n",
       "    <tr>\n",
       "      <th>2</th>\n",
       "      <td>cf3667be-0c86-4ce7-a0f3-721144b67230.jpg</td>\n",
       "      <td>impacted-stool</td>\n",
       "      <td>0</td>\n",
       "    </tr>\n",
       "    <tr>\n",
       "      <th>3</th>\n",
       "      <td>8dbf6ead-8801-4a28-b811-62567dd2edb5.jpg</td>\n",
       "      <td>impacted-stool</td>\n",
       "      <td>0</td>\n",
       "    </tr>\n",
       "    <tr>\n",
       "      <th>4</th>\n",
       "      <td>af09c241-1417-4a42-91ef-df86bab65f7c.jpg</td>\n",
       "      <td>impacted-stool</td>\n",
       "      <td>0</td>\n",
       "    </tr>\n",
       "  </tbody>\n",
       "</table>\n",
       "</div>"
      ],
      "text/plain": [
       "                                  file-name      class-name  split-index\n",
       "0  4bf58f1c-8233-41fc-9614-344e6d0fc351.jpg  impacted-stool            0\n",
       "1  9c3e5380-9621-4e74-b937-0c46f37e7ef3.jpg  impacted-stool            0\n",
       "2  cf3667be-0c86-4ce7-a0f3-721144b67230.jpg  impacted-stool            0\n",
       "3  8dbf6ead-8801-4a28-b811-62567dd2edb5.jpg  impacted-stool            0\n",
       "4  af09c241-1417-4a42-91ef-df86bab65f7c.jpg  impacted-stool            0"
      ]
     },
     "execution_count": 8,
     "metadata": {},
     "output_type": "execute_result"
    }
   ],
   "source": [
    "df_kfold = pd.read_csv('../resource/hyper_kvasir/2_fold_split.csv', sep = ';')\n",
    "df_kfold.head()"
   ]
  },
  {
   "cell_type": "code",
   "execution_count": 52,
   "metadata": {},
   "outputs": [],
   "source": [
    "dict_correct_cat_name = {'oesophagitis-b-d': 'esophagitis-b-d',\n",
    "                         'short-segment-barretts': 'barretts-short-segment',\n",
    "                         'oesophagitis-a': 'esophagitis-a',\n",
    "                         'normal-pylorus': 'pylorus',\n",
    "                         'hemorroids': 'hemorrhoids',\n",
    "                         'normal-cecum': 'cecum',\n",
    "                         'polyp': 'polyps',\n",
    "                         'normal-z-line': 'z-line'}"
   ]
  },
  {
   "cell_type": "code",
   "execution_count": 58,
   "metadata": {},
   "outputs": [],
   "source": [
    "list_img_path = []\n",
    "list_targets = []\n",
    "for i in range(len(df_kfold)):\n",
    "    cls_name = df_kfold['class-name'].iloc[i]\n",
    "    if cls_name in dict_correct_cat_name.keys():\n",
    "        df_kfold['class-name'].iloc[i] = dict_correct_cat_name[cls_name]\n",
    "        \n",
    "    cls_name = df_kfold['class-name'].iloc[i]\n",
    "    dir_path = categories[categories['findings']==cls_name]['path'].iloc[0]\n",
    "    img_path = os.path.join(dir_path, df_kfold['file-name'].iloc[i]).replace('\\\\','/')\n",
    "    list_img_path.append(img_path)\n",
    "    target = categories[categories['findings']==cls_name]['target'].iloc[0]\n",
    "    list_targets.append(target)"
   ]
  },
  {
   "cell_type": "code",
   "execution_count": 54,
   "metadata": {},
   "outputs": [],
   "source": [
    "# list_cate_kfold = list(set(list(df_kfold['class-name'])))\n",
    "# for item in list_cate_kfold:\n",
    "#     if not item in list(categories['findings']):\n",
    "#         print(item)"
   ]
  },
  {
   "cell_type": "code",
   "execution_count": 59,
   "metadata": {},
   "outputs": [
    {
     "name": "stderr",
     "output_type": "stream",
     "text": [
      "C:\\Users\\Admin\\anaconda3\\envs\\cls\\lib\\site-packages\\ipykernel_launcher.py:4: SettingWithCopyWarning: \n",
      "A value is trying to be set on a copy of a slice from a DataFrame.\n",
      "Try using .loc[row_indexer,col_indexer] = value instead\n",
      "\n",
      "See the caveats in the documentation: https://pandas.pydata.org/pandas-docs/stable/user_guide/indexing.html#returning-a-view-versus-a-copy\n",
      "  after removing the cwd from sys.path.\n",
      "C:\\Users\\Admin\\anaconda3\\envs\\cls\\lib\\site-packages\\ipykernel_launcher.py:6: SettingWithCopyWarning: \n",
      "A value is trying to be set on a copy of a slice from a DataFrame.\n",
      "Try using .loc[row_indexer,col_indexer] = value instead\n",
      "\n",
      "See the caveats in the documentation: https://pandas.pydata.org/pandas-docs/stable/user_guide/indexing.html#returning-a-view-versus-a-copy\n",
      "  \n"
     ]
    },
    {
     "data": {
      "text/html": [
       "<div>\n",
       "<style scoped>\n",
       "    .dataframe tbody tr th:only-of-type {\n",
       "        vertical-align: middle;\n",
       "    }\n",
       "\n",
       "    .dataframe tbody tr th {\n",
       "        vertical-align: top;\n",
       "    }\n",
       "\n",
       "    .dataframe thead th {\n",
       "        text-align: right;\n",
       "    }\n",
       "</style>\n",
       "<table border=\"1\" class=\"dataframe\">\n",
       "  <thead>\n",
       "    <tr style=\"text-align: right;\">\n",
       "      <th></th>\n",
       "      <th>file-name</th>\n",
       "      <th>class-name</th>\n",
       "      <th>split-index</th>\n",
       "      <th>image</th>\n",
       "      <th>target</th>\n",
       "      <th>is_valid</th>\n",
       "    </tr>\n",
       "  </thead>\n",
       "  <tbody>\n",
       "    <tr>\n",
       "      <th>0</th>\n",
       "      <td>4bf58f1c-8233-41fc-9614-344e6d0fc351.jpg</td>\n",
       "      <td>impacted-stool</td>\n",
       "      <td>0</td>\n",
       "      <td>lower-gi-tract/quality-of-mucosal-views/impact...</td>\n",
       "      <td>7</td>\n",
       "      <td>False</td>\n",
       "    </tr>\n",
       "    <tr>\n",
       "      <th>1</th>\n",
       "      <td>9c3e5380-9621-4e74-b937-0c46f37e7ef3.jpg</td>\n",
       "      <td>impacted-stool</td>\n",
       "      <td>0</td>\n",
       "      <td>lower-gi-tract/quality-of-mucosal-views/impact...</td>\n",
       "      <td>7</td>\n",
       "      <td>False</td>\n",
       "    </tr>\n",
       "    <tr>\n",
       "      <th>2</th>\n",
       "      <td>cf3667be-0c86-4ce7-a0f3-721144b67230.jpg</td>\n",
       "      <td>impacted-stool</td>\n",
       "      <td>0</td>\n",
       "      <td>lower-gi-tract/quality-of-mucosal-views/impact...</td>\n",
       "      <td>7</td>\n",
       "      <td>False</td>\n",
       "    </tr>\n",
       "    <tr>\n",
       "      <th>3</th>\n",
       "      <td>8dbf6ead-8801-4a28-b811-62567dd2edb5.jpg</td>\n",
       "      <td>impacted-stool</td>\n",
       "      <td>0</td>\n",
       "      <td>lower-gi-tract/quality-of-mucosal-views/impact...</td>\n",
       "      <td>7</td>\n",
       "      <td>False</td>\n",
       "    </tr>\n",
       "    <tr>\n",
       "      <th>4</th>\n",
       "      <td>af09c241-1417-4a42-91ef-df86bab65f7c.jpg</td>\n",
       "      <td>impacted-stool</td>\n",
       "      <td>0</td>\n",
       "      <td>lower-gi-tract/quality-of-mucosal-views/impact...</td>\n",
       "      <td>7</td>\n",
       "      <td>False</td>\n",
       "    </tr>\n",
       "  </tbody>\n",
       "</table>\n",
       "</div>"
      ],
      "text/plain": [
       "                                  file-name      class-name  split-index  \\\n",
       "0  4bf58f1c-8233-41fc-9614-344e6d0fc351.jpg  impacted-stool            0   \n",
       "1  9c3e5380-9621-4e74-b937-0c46f37e7ef3.jpg  impacted-stool            0   \n",
       "2  cf3667be-0c86-4ce7-a0f3-721144b67230.jpg  impacted-stool            0   \n",
       "3  8dbf6ead-8801-4a28-b811-62567dd2edb5.jpg  impacted-stool            0   \n",
       "4  af09c241-1417-4a42-91ef-df86bab65f7c.jpg  impacted-stool            0   \n",
       "\n",
       "                                               image  target  is_valid  \n",
       "0  lower-gi-tract/quality-of-mucosal-views/impact...       7     False  \n",
       "1  lower-gi-tract/quality-of-mucosal-views/impact...       7     False  \n",
       "2  lower-gi-tract/quality-of-mucosal-views/impact...       7     False  \n",
       "3  lower-gi-tract/quality-of-mucosal-views/impact...       7     False  \n",
       "4  lower-gi-tract/quality-of-mucosal-views/impact...       7     False  "
      ]
     },
     "execution_count": 59,
     "metadata": {},
     "output_type": "execute_result"
    }
   ],
   "source": [
    "df_kfold['image'] = list_img_path\n",
    "df_kfold['target'] = list_targets\n",
    "df_train = df_kfold[df_kfold['split-index']==0]\n",
    "df_train['is_valid'] = False\n",
    "df_valid = df_kfold[df_kfold['split-index']==1]\n",
    "df_valid['is_valid'] = True\n",
    "\n",
    "df_full = pd.concat([df_train, df_valid], axis=0)\n",
    "df_full.head()"
   ]
  },
  {
   "cell_type": "code",
   "execution_count": 60,
   "metadata": {},
   "outputs": [
    {
     "data": {
      "text/plain": [
       "'lower-gi-tract/quality-of-mucosal-views/impacted-stool/4bf58f1c-8233-41fc-9614-344e6d0fc351.jpg'"
      ]
     },
     "execution_count": 60,
     "metadata": {},
     "output_type": "execute_result"
    }
   ],
   "source": [
    "df_full['image'].iloc[0]"
   ]
  },
  {
   "cell_type": "code",
   "execution_count": 61,
   "metadata": {},
   "outputs": [],
   "source": [
    "df_full.to_csv('../resource/hyper_kvasir/df_full_kfold.csv', index=False, header=True)"
   ]
  },
  {
   "cell_type": "code",
   "execution_count": 6,
   "metadata": {},
   "outputs": [],
   "source": [
    "list_cat_abn = []\n",
    "for c in df_anno['Categories']:\n",
    "    if c != 0:\n",
    "        list_cat_abn.append(1)\n",
    "    else:\n",
    "        list_cat_abn.append(c)\n",
    "df_anno['Abnormal'] = list_cat_abn"
   ]
  },
  {
   "cell_type": "code",
   "execution_count": 7,
   "metadata": {},
   "outputs": [
    {
     "data": {
      "text/plain": [
       "0    8020\n",
       "1    2642\n",
       "Name: Abnormal, dtype: int64"
      ]
     },
     "execution_count": 7,
     "metadata": {},
     "output_type": "execute_result"
    }
   ],
   "source": [
    "df_anno['Abnormal'].value_counts()"
   ]
  },
  {
   "cell_type": "code",
   "execution_count": 8,
   "metadata": {},
   "outputs": [],
   "source": [
    "# df_anno"
   ]
  },
  {
   "cell_type": "code",
   "execution_count": 9,
   "metadata": {},
   "outputs": [],
   "source": [
    "df_norm = df_anno[df_anno['Abnormal'] == 0]\n",
    "df_patho = df_anno[df_anno['Abnormal'] == 1]"
   ]
  },
  {
   "cell_type": "code",
   "execution_count": 10,
   "metadata": {},
   "outputs": [],
   "source": [
    "## set the new categories\n",
    "# for idx, c in enumerate(df_patho['Categories']):\n",
    "#     df_patho['Categories'].iloc[idx] = c - 1"
   ]
  },
  {
   "cell_type": "code",
   "execution_count": 11,
   "metadata": {},
   "outputs": [],
   "source": [
    "dict_cate = {}\n",
    "for i in range(13):\n",
    "    df_ = df_anno[df_anno['Categories']==i]\n",
    "    cat = set(df_['Finding'])\n",
    "    dict_cate[i] = cat"
   ]
  },
  {
   "cell_type": "code",
   "execution_count": 12,
   "metadata": {},
   "outputs": [
    {
     "data": {
      "text/plain": [
       "{0: {'bbps-0-1',\n",
       "  'bbps-2-3',\n",
       "  'cecum',\n",
       "  'dyed-lifted-polyps',\n",
       "  'dyed-resection-margins',\n",
       "  'ileum',\n",
       "  'impacted-stool',\n",
       "  'pylorus',\n",
       "  'retroflex-rectum',\n",
       "  'retroflex-stomach',\n",
       "  'z-line'},\n",
       " 1: {'barretts-short-segment'},\n",
       " 2: {'ulcerative-colitis-grade-3'},\n",
       " 3: {'ulcerative-colitis-grade-0-1'},\n",
       " 4: {'ulcerative-colitis-grade-1'},\n",
       " 5: {'polyps'},\n",
       " 6: {'ulcerative-colitis-grade-1-2'},\n",
       " 7: {'ulcerative-colitis-grade-2'},\n",
       " 8: {'ulcerative-colitis-grade-2-3'},\n",
       " 9: {'barretts'},\n",
       " 10: {'esophagitis-a'},\n",
       " 11: {'hemorrhoids'},\n",
       " 12: {'esophagitis-b-d'}}"
      ]
     },
     "execution_count": 12,
     "metadata": {},
     "output_type": "execute_result"
    }
   ],
   "source": [
    "dict_cate"
   ]
  },
  {
   "cell_type": "code",
   "execution_count": 13,
   "metadata": {},
   "outputs": [],
   "source": [
    "# df_patho['Categories'].value_counts()[:6]"
   ]
  },
  {
   "cell_type": "code",
   "execution_count": 14,
   "metadata": {},
   "outputs": [],
   "source": [
    "# major_classes = dict(df_patho['Categories'].value_counts()[:6])\n",
    "# sum(major_classes.values())"
   ]
  },
  {
   "cell_type": "code",
   "execution_count": 15,
   "metadata": {},
   "outputs": [],
   "source": [
    "# df_major_patho = pd.DataFrame([])\n",
    "# for i, c in enumerate(major_classes.keys()):\n",
    "#     df_ = df_patho[df_patho['Categories']==c]\n",
    "#     df_['Categories'] = i\n",
    "#     df_major_patho = pd.concat([df_major_patho, df_], axis=0)"
   ]
  },
  {
   "cell_type": "code",
   "execution_count": 16,
   "metadata": {},
   "outputs": [],
   "source": [
    "# df_major_patho"
   ]
  },
  {
   "cell_type": "markdown",
   "metadata": {
    "jp-MarkdownHeadingCollapsed": true,
    "tags": []
   },
   "source": [
    "## Split all data"
   ]
  },
  {
   "cell_type": "code",
   "execution_count": 17,
   "metadata": {},
   "outputs": [],
   "source": [
    "# df_norm_train, df_norm_valid = train_test_split(df_norm, test_size=0.2, random_state=0)\n",
    "# x_abno = df_patho['Image']\n",
    "# y_abno = df_patho['Categories']\n",
    "# x_train, x_valid, y_train, y_valid = train_test_split(x_abno, y_abno, test_size=0.2, random_state=0)\n",
    "\n",
    "# df_train_abno = pd.DataFrame([])\n",
    "# df_train_abno['image'] = list(df_norm_train['Image']) + list(x_train)\n",
    "# df_train_abno['target'] = list(df_norm_train['Categories']) + [1]*len(y_train)\n",
    "# df_train_abno['is_valid'] = False\n",
    "\n",
    "# df_valid_abno = pd.DataFrame([])\n",
    "# df_valid_abno['image'] = list(df_norm_valid['Image']) + list(x_valid)\n",
    "# df_valid_abno['target'] = list(df_norm_valid['Categories']) + [1]*len(y_valid)\n",
    "# df_valid_abno['is_valid'] = True\n",
    "\n",
    "\n",
    "# df_train_patho = pd.DataFrame([])\n",
    "# df_train_patho['image'] = x_train\n",
    "# df_train_patho['target'] = [(y - 1) for y in list(y_train)]\n",
    "# df_train_patho['is_valid'] = False\n",
    "\n",
    "# df_valid_patho = pd.DataFrame([])\n",
    "# df_valid_patho['image'] = x_valid\n",
    "# df_valid_patho['target'] = [(y - 1) for y in list(y_valid)]\n",
    "# df_valid_patho['is_valid'] = True\n",
    "\n",
    "# df_full_abno = pd.concat([df_train_abno, df_valid_abno], axis=0).reset_index()\n",
    "# df_full_patho = pd.concat([df_train_patho, df_valid_patho], axis=0).reset_index()"
   ]
  },
  {
   "cell_type": "code",
   "execution_count": 18,
   "metadata": {},
   "outputs": [],
   "source": [
    "# df_full_abno.to_csv('../resource/hyper_kvasir/df_abnomalies.csv', index=False, header=True)\n",
    "# df_full_patho.to_csv('../resource/hyper_kvasir/df_pathologies.csv', index=False, header=True)"
   ]
  },
  {
   "cell_type": "markdown",
   "metadata": {
    "tags": []
   },
   "source": [
    "## Split mock size"
   ]
  },
  {
   "cell_type": "code",
   "execution_count": 7,
   "metadata": {},
   "outputs": [
    {
     "data": {
      "text/plain": [
       "4     1028\n",
       "6      443\n",
       "9      403\n",
       "11     260\n",
       "3      201\n",
       "1      133\n",
       "0       53\n",
       "8       41\n",
       "2       35\n",
       "7       28\n",
       "5       11\n",
       "10       6\n",
       "Name: target, dtype: int64"
      ]
     },
     "execution_count": 7,
     "metadata": {},
     "output_type": "execute_result"
    }
   ],
   "source": [
    "df_full_patho = pd.read_csv('../resource/hyper_kvasir/df_pathologies.csv')\n",
    "df_full_patho['target'].value_counts()"
   ]
  },
  {
   "cell_type": "code",
   "execution_count": 8,
   "metadata": {},
   "outputs": [
    {
     "data": {
      "text/html": [
       "<div>\n",
       "<style scoped>\n",
       "    .dataframe tbody tr th:only-of-type {\n",
       "        vertical-align: middle;\n",
       "    }\n",
       "\n",
       "    .dataframe tbody tr th {\n",
       "        vertical-align: top;\n",
       "    }\n",
       "\n",
       "    .dataframe thead th {\n",
       "        text-align: right;\n",
       "    }\n",
       "</style>\n",
       "<table border=\"1\" class=\"dataframe\">\n",
       "  <thead>\n",
       "    <tr style=\"text-align: right;\">\n",
       "      <th></th>\n",
       "      <th>index</th>\n",
       "      <th>image</th>\n",
       "      <th>target</th>\n",
       "      <th>is_valid</th>\n",
       "      <th>new_target</th>\n",
       "    </tr>\n",
       "  </thead>\n",
       "  <tbody>\n",
       "    <tr>\n",
       "      <th>0</th>\n",
       "      <td>180</td>\n",
       "      <td>lower-gi-tract/pathological-findings/ulcerativ...</td>\n",
       "      <td>6</td>\n",
       "      <td>False</td>\n",
       "      <td>1</td>\n",
       "    </tr>\n",
       "    <tr>\n",
       "      <th>1</th>\n",
       "      <td>2458</td>\n",
       "      <td>lower-gi-tract/pathological-findings/polyps/93...</td>\n",
       "      <td>4</td>\n",
       "      <td>False</td>\n",
       "      <td>0</td>\n",
       "    </tr>\n",
       "    <tr>\n",
       "      <th>2</th>\n",
       "      <td>2969</td>\n",
       "      <td>lower-gi-tract/pathological-findings/ulcerativ...</td>\n",
       "      <td>1</td>\n",
       "      <td>False</td>\n",
       "      <td>5</td>\n",
       "    </tr>\n",
       "    <tr>\n",
       "      <th>3</th>\n",
       "      <td>5388</td>\n",
       "      <td>lower-gi-tract/pathological-findings/polyps/be...</td>\n",
       "      <td>4</td>\n",
       "      <td>False</td>\n",
       "      <td>0</td>\n",
       "    </tr>\n",
       "    <tr>\n",
       "      <th>4</th>\n",
       "      <td>6219</td>\n",
       "      <td>lower-gi-tract/pathological-findings/polyps/c3...</td>\n",
       "      <td>4</td>\n",
       "      <td>False</td>\n",
       "      <td>0</td>\n",
       "    </tr>\n",
       "  </tbody>\n",
       "</table>\n",
       "</div>"
      ],
      "text/plain": [
       "   index                                              image  target  is_valid  \\\n",
       "0    180  lower-gi-tract/pathological-findings/ulcerativ...       6     False   \n",
       "1   2458  lower-gi-tract/pathological-findings/polyps/93...       4     False   \n",
       "2   2969  lower-gi-tract/pathological-findings/ulcerativ...       1     False   \n",
       "3   5388  lower-gi-tract/pathological-findings/polyps/be...       4     False   \n",
       "4   6219  lower-gi-tract/pathological-findings/polyps/c3...       4     False   \n",
       "\n",
       "   new_target  \n",
       "0           1  \n",
       "1           0  \n",
       "2           5  \n",
       "3           0  \n",
       "4           0  "
      ]
     },
     "execution_count": 8,
     "metadata": {},
     "output_type": "execute_result"
    }
   ],
   "source": [
    "list_new_target = []\n",
    "for t in df_full_patho['target']:\n",
    "    if t in list(pathological_categories['old_target']):\n",
    "        new_target = pathological_categories[pathological_categories['old_target']==t]['target'].iloc[0]\n",
    "        list_new_target.append(new_target)\n",
    "    else:\n",
    "        list_new_target.append(len(pathological_categories))\n",
    "df_full_patho['new_target'] = list_new_target\n",
    "df_full_patho.head()"
   ]
  },
  {
   "cell_type": "code",
   "execution_count": 9,
   "metadata": {},
   "outputs": [
    {
     "data": {
      "text/plain": [
       "0    204\n",
       "1     91\n",
       "2     71\n",
       "3     52\n",
       "4     45\n",
       "6     39\n",
       "5     27\n",
       "Name: new_target, dtype: int64"
      ]
     },
     "execution_count": 9,
     "metadata": {},
     "output_type": "execute_result"
    }
   ],
   "source": [
    "df_full_patho[df_full_patho['is_valid']==True]['new_target'].value_counts()"
   ]
  },
  {
   "cell_type": "code",
   "execution_count": 10,
   "metadata": {},
   "outputs": [
    {
     "data": {
      "text/plain": [
       "0    824\n",
       "1    352\n",
       "2    332\n",
       "3    208\n",
       "4    156\n",
       "6    135\n",
       "5    106\n",
       "Name: new_target, dtype: int64"
      ]
     },
     "execution_count": 10,
     "metadata": {},
     "output_type": "execute_result"
    }
   ],
   "source": [
    "df_full_patho[df_full_patho['is_valid']==False]['new_target'].value_counts()"
   ]
  },
  {
   "cell_type": "code",
   "execution_count": 11,
   "metadata": {},
   "outputs": [],
   "source": [
    "x_train = df_full_patho[df_full_patho['is_valid']==False]['image']\n",
    "y_train = df_full_patho[df_full_patho['is_valid']==False]['new_target']\n",
    "\n",
    "df_valid_patho = df_full_patho[df_full_patho['is_valid']==True]"
   ]
  },
  {
   "cell_type": "code",
   "execution_count": 12,
   "metadata": {},
   "outputs": [],
   "source": [
    "# y_train"
   ]
  },
  {
   "cell_type": "code",
   "execution_count": 13,
   "metadata": {},
   "outputs": [],
   "source": [
    "del df_valid_patho['target']\n",
    "df_valid_patho = df_valid_patho.rename(columns={\"new_target\": \"target\"})"
   ]
  },
  {
   "cell_type": "code",
   "execution_count": 14,
   "metadata": {},
   "outputs": [],
   "source": [
    "# df_valid_patho"
   ]
  },
  {
   "cell_type": "code",
   "execution_count": 15,
   "metadata": {},
   "outputs": [
    {
     "data": {
      "text/html": [
       "<div>\n",
       "<style scoped>\n",
       "    .dataframe tbody tr th:only-of-type {\n",
       "        vertical-align: middle;\n",
       "    }\n",
       "\n",
       "    .dataframe tbody tr th {\n",
       "        vertical-align: top;\n",
       "    }\n",
       "\n",
       "    .dataframe thead th {\n",
       "        text-align: right;\n",
       "    }\n",
       "</style>\n",
       "<table border=\"1\" class=\"dataframe\">\n",
       "  <thead>\n",
       "    <tr style=\"text-align: right;\">\n",
       "      <th></th>\n",
       "      <th>index</th>\n",
       "      <th>image</th>\n",
       "      <th>is_valid</th>\n",
       "      <th>target</th>\n",
       "      <th>is_labeled</th>\n",
       "    </tr>\n",
       "  </thead>\n",
       "  <tbody>\n",
       "    <tr>\n",
       "      <th>2113</th>\n",
       "      <td>3050</td>\n",
       "      <td>lower-gi-tract/pathological-findings/polyps/dc...</td>\n",
       "      <td>True</td>\n",
       "      <td>0</td>\n",
       "      <td>True</td>\n",
       "    </tr>\n",
       "    <tr>\n",
       "      <th>2114</th>\n",
       "      <td>5461</td>\n",
       "      <td>lower-gi-tract/pathological-findings/polyps/f8...</td>\n",
       "      <td>True</td>\n",
       "      <td>0</td>\n",
       "      <td>True</td>\n",
       "    </tr>\n",
       "    <tr>\n",
       "      <th>2115</th>\n",
       "      <td>8895</td>\n",
       "      <td>lower-gi-tract/pathological-findings/ulcerativ...</td>\n",
       "      <td>True</td>\n",
       "      <td>1</td>\n",
       "      <td>True</td>\n",
       "    </tr>\n",
       "    <tr>\n",
       "      <th>2116</th>\n",
       "      <td>8464</td>\n",
       "      <td>lower-gi-tract/pathological-findings/ulcerativ...</td>\n",
       "      <td>True</td>\n",
       "      <td>1</td>\n",
       "      <td>True</td>\n",
       "    </tr>\n",
       "    <tr>\n",
       "      <th>2117</th>\n",
       "      <td>6077</td>\n",
       "      <td>lower-gi-tract/pathological-findings/polyps/ca...</td>\n",
       "      <td>True</td>\n",
       "      <td>0</td>\n",
       "      <td>True</td>\n",
       "    </tr>\n",
       "  </tbody>\n",
       "</table>\n",
       "</div>"
      ],
      "text/plain": [
       "      index                                              image  is_valid  \\\n",
       "2113   3050  lower-gi-tract/pathological-findings/polyps/dc...      True   \n",
       "2114   5461  lower-gi-tract/pathological-findings/polyps/f8...      True   \n",
       "2115   8895  lower-gi-tract/pathological-findings/ulcerativ...      True   \n",
       "2116   8464  lower-gi-tract/pathological-findings/ulcerativ...      True   \n",
       "2117   6077  lower-gi-tract/pathological-findings/polyps/ca...      True   \n",
       "\n",
       "      target  is_labeled  \n",
       "2113       0        True  \n",
       "2114       0        True  \n",
       "2115       1        True  \n",
       "2116       1        True  \n",
       "2117       0        True  "
      ]
     },
     "execution_count": 15,
     "metadata": {},
     "output_type": "execute_result"
    }
   ],
   "source": [
    "df_valid_patho['is_labeled'] = True\n",
    "df_valid_patho.head()"
   ]
  },
  {
   "cell_type": "code",
   "execution_count": 16,
   "metadata": {},
   "outputs": [],
   "source": [
    "x_train_unlab, x_train_lab, y_train_unlab, y_train_lab  = train_test_split(x_train, \n",
    "                                                                          y_train, \n",
    "                                                                          test_size=0.5,\n",
    "                                                                          random_state=42)\n",
    "\n",
    "\n",
    "df_train_lab = pd.DataFrame([])\n",
    "df_train_lab['image'] = x_train_lab\n",
    "df_train_lab['target'] = y_train_lab\n",
    "df_train_lab['is_valid'] = False\n",
    "df_train_lab['is_labeled'] = True\n",
    "\n",
    "df_train_unlab = pd.DataFrame([])\n",
    "df_train_unlab['image'] = x_train_unlab\n",
    "df_train_unlab['target'] = y_train_unlab\n",
    "df_train_unlab['is_valid'] = False\n",
    "df_train_unlab['is_labeled'] = False\n",
    "\n",
    "df_full_mock = pd.concat([df_train_lab, df_train_unlab, df_valid_patho], axis=0)"
   ]
  },
  {
   "cell_type": "code",
   "execution_count": 18,
   "metadata": {},
   "outputs": [],
   "source": [
    "# df_full_mock[df_full_mock['is_valid']==False]"
   ]
  },
  {
   "cell_type": "code",
   "execution_count": 19,
   "metadata": {},
   "outputs": [],
   "source": [
    "# df_full_mock.sample(1, random_state = 42).iloc[0]['target']"
   ]
  },
  {
   "cell_type": "code",
   "execution_count": 20,
   "metadata": {},
   "outputs": [
    {
     "data": {
      "text/plain": [
       "0    408\n",
       "1    185\n",
       "2    166\n",
       "3    100\n",
       "4     77\n",
       "6     69\n",
       "5     52\n",
       "Name: target, dtype: int64"
      ]
     },
     "execution_count": 20,
     "metadata": {},
     "output_type": "execute_result"
    }
   ],
   "source": [
    "df_  = df_full_mock[df_full_mock['is_labeled']==True]\n",
    "df_[df_['is_valid']==False]['target'].value_counts()"
   ]
  },
  {
   "cell_type": "code",
   "execution_count": 21,
   "metadata": {},
   "outputs": [
    {
     "data": {
      "text/html": [
       "<div>\n",
       "<style scoped>\n",
       "    .dataframe tbody tr th:only-of-type {\n",
       "        vertical-align: middle;\n",
       "    }\n",
       "\n",
       "    .dataframe tbody tr th {\n",
       "        vertical-align: top;\n",
       "    }\n",
       "\n",
       "    .dataframe thead th {\n",
       "        text-align: right;\n",
       "    }\n",
       "</style>\n",
       "<table border=\"1\" class=\"dataframe\">\n",
       "  <thead>\n",
       "    <tr style=\"text-align: right;\">\n",
       "      <th></th>\n",
       "      <th>image</th>\n",
       "      <th>target</th>\n",
       "      <th>is_valid</th>\n",
       "      <th>is_labeled</th>\n",
       "    </tr>\n",
       "  </thead>\n",
       "  <tbody>\n",
       "    <tr>\n",
       "      <th>596</th>\n",
       "      <td>lower-gi-tract/pathological-findings/polyps/37...</td>\n",
       "      <td>0</td>\n",
       "      <td>False</td>\n",
       "      <td>True</td>\n",
       "    </tr>\n",
       "    <tr>\n",
       "      <th>1992</th>\n",
       "      <td>upper-gi-tract/pathological-findings/esophagit...</td>\n",
       "      <td>3</td>\n",
       "      <td>False</td>\n",
       "      <td>True</td>\n",
       "    </tr>\n",
       "    <tr>\n",
       "      <th>422</th>\n",
       "      <td>lower-gi-tract/pathological-findings/ulcerativ...</td>\n",
       "      <td>5</td>\n",
       "      <td>False</td>\n",
       "      <td>True</td>\n",
       "    </tr>\n",
       "    <tr>\n",
       "      <th>289</th>\n",
       "      <td>lower-gi-tract/pathological-findings/ulcerativ...</td>\n",
       "      <td>1</td>\n",
       "      <td>False</td>\n",
       "      <td>True</td>\n",
       "    </tr>\n",
       "    <tr>\n",
       "      <th>196</th>\n",
       "      <td>upper-gi-tract/pathological-findings/esophagit...</td>\n",
       "      <td>3</td>\n",
       "      <td>False</td>\n",
       "      <td>True</td>\n",
       "    </tr>\n",
       "  </tbody>\n",
       "</table>\n",
       "</div>"
      ],
      "text/plain": [
       "                                                  image  target  is_valid  \\\n",
       "596   lower-gi-tract/pathological-findings/polyps/37...       0     False   \n",
       "1992  upper-gi-tract/pathological-findings/esophagit...       3     False   \n",
       "422   lower-gi-tract/pathological-findings/ulcerativ...       5     False   \n",
       "289   lower-gi-tract/pathological-findings/ulcerativ...       1     False   \n",
       "196   upper-gi-tract/pathological-findings/esophagit...       3     False   \n",
       "\n",
       "      is_labeled  \n",
       "596         True  \n",
       "1992        True  \n",
       "422         True  \n",
       "289         True  \n",
       "196         True  "
      ]
     },
     "execution_count": 21,
     "metadata": {},
     "output_type": "execute_result"
    }
   ],
   "source": [
    "del df_full_mock['index']\n",
    "df_full_mock.head()"
   ]
  },
  {
   "cell_type": "code",
   "execution_count": 22,
   "metadata": {},
   "outputs": [],
   "source": [
    "df_full_mock.to_csv('../resource/hyper_kvasir/df_6_pathologies_mock_5_5.csv', index=False, header = True)"
   ]
  },
  {
   "cell_type": "code",
   "execution_count": 62,
   "metadata": {},
   "outputs": [],
   "source": [
    "# df_train_lab['target'].value_counts()"
   ]
  },
  {
   "cell_type": "code",
   "execution_count": 63,
   "metadata": {},
   "outputs": [],
   "source": [
    "# df_valid"
   ]
  },
  {
   "cell_type": "code",
   "execution_count": 22,
   "metadata": {},
   "outputs": [],
   "source": [
    "# df_full[df_full['is_labeled']==True]"
   ]
  },
  {
   "cell_type": "code",
   "execution_count": 23,
   "metadata": {},
   "outputs": [],
   "source": [
    "# df_full['target'].value_counts()"
   ]
  },
  {
   "cell_type": "code",
   "execution_count": 24,
   "metadata": {},
   "outputs": [],
   "source": [
    "# df_full.to_csv('../resource/hyper_kvasir/df_pathologies.csv', index=False, header=True)"
   ]
  },
  {
   "cell_type": "code",
   "execution_count": 11,
   "metadata": {},
   "outputs": [],
   "source": [
    "# x = df_anno['path']\n",
    "# y = df_anno['Categories']\n",
    "\n",
    "# x_train, x_test, y_train, y_test = train_test_split(x, y, test_size=0.2, random_state=0)\n",
    "# x_train_lab, x_train_unlab, y_train_lab, y_train_unlab = train_test_split(x_train, \n",
    "#                                                                           y_train, \n",
    "#                                                                           test_size=0.32, \n",
    "#                                                                           random_state=0)\n",
    "\n",
    "\n",
    "# df_train_lab = pd.DataFrame([])\n",
    "# df_train_lab = pd.DataFrame([])\n",
    "# df_train_lab['image'] = x_train_lab\n",
    "# df_train_lab['target'] = y_train_lab\n",
    "# df_train_lab['is_valid'] = False\n",
    "# df_train_lab['is_labeled'] = True\n",
    "\n",
    "# df_train_unlab = pd.DataFrame([])\n",
    "# df_train_unlab = pd.DataFrame([])\n",
    "# df_train_unlab['image'] = x_train_unlab\n",
    "# df_train_unlab['target'] = y_train_unlab\n",
    "# df_train_unlab['is_valid'] = False\n",
    "# df_train_unlab['is_labeled'] = False\n",
    "\n",
    "\n",
    "# df_valid['image'] = x_test\n",
    "# df_valid['target'] = y_test\n",
    "# df_valid['is_valid'] = True\n",
    "# df_valid['is_labeled'] = True"
   ]
  },
  {
   "cell_type": "code",
   "execution_count": 12,
   "metadata": {},
   "outputs": [],
   "source": [
    "# df_full = pd.concat([df_train_lab, df_train_unlab, df_valid], axis=0).reset_index()\n",
    "# del df_full['index']\n",
    "# df_full"
   ]
  },
  {
   "cell_type": "code",
   "execution_count": 13,
   "metadata": {},
   "outputs": [],
   "source": [
    "# fig = df_full['target'].value_counts().plot(kind='bar', figsize=(10, 8), fontsize=10, rot=0).get_figure()"
   ]
  },
  {
   "cell_type": "code",
   "execution_count": 23,
   "metadata": {},
   "outputs": [],
   "source": [
    "# df_full.to_csv('../resource/hyper_kvasir/df_abnormal.csv', index=False, header=True)"
   ]
  },
  {
   "cell_type": "code",
   "execution_count": 15,
   "metadata": {},
   "outputs": [],
   "source": [
    "# cnt_train = df_train['target'].value_counts()\n",
    "# cnt_valid = df_valid['target'].value_counts()\n",
    "\n",
    "# df_cnt = pd.DataFrame({'train': cnt_train,'valid': cnt_valid})\n",
    "# chart = df_cnt.plot.bar(rot=0, figsize=(10, 8), fontsize=15, stacked=True).get_figure()\n",
    "# # chart.savefig('../resource/visualize/visual_sup.png')"
   ]
  },
  {
   "cell_type": "code",
   "execution_count": 69,
   "metadata": {},
   "outputs": [],
   "source": [
    "# cnt_train = df_train['Groupby_Categories']\n",
    "# cnt_train_labeled, cnt_train_unlabeled = train_test_split(cnt_train, test_size = 0.9, random_state = 0)\n",
    "# cnt_train_labeled, cnt_train_unlabeled = cnt_train_labeled.value_counts(), cnt_train_unlabeled.value_counts()\n",
    "# cnt_valid = df_valid['Groupby_Categories'].value_counts()\n",
    "\n",
    "# df_cnt = pd.DataFrame({'train_labeled': cnt_train_labeled, \n",
    "                       \n",
    "#                        'train_unlabeled': cnt_train_unlabeled,\n",
    "#                        'valid': cnt_valid,\n",
    "#                        })\n",
    "# chart_semi = df_cnt.plot.bar(rot=0, \n",
    "#                         figsize=(10, 8), \n",
    "#                         fontsize=15,\n",
    "#                         color={\"train_labeled\": \"#1f76b5\", \"train_unlabeled\": \"green\", \"valid\":\"#fe7e0e\"},\n",
    "#                         stacked=True).get_figure()\n",
    "# chart_semi.savefig('../resource/visualize/visual_semi_1_9.png')"
   ]
  },
  {
   "cell_type": "code",
   "execution_count": 70,
   "metadata": {},
   "outputs": [],
   "source": [
    "# cnt_train_labeled, cnt_train_unlabeled"
   ]
  },
  {
   "cell_type": "code",
   "execution_count": 71,
   "metadata": {},
   "outputs": [],
   "source": [
    "# df_train['Groupby_Categories'].value_counts()\n",
    "# fig_train.savefig('../resource/visualize/groupcat_train.png')"
   ]
  },
  {
   "cell_type": "code",
   "execution_count": 72,
   "metadata": {},
   "outputs": [],
   "source": [
    "# df_valid['Groupby_Categories'].value_counts()\n",
    "# fig_valid.savefig('../resource/visualize/groupcat_valid.png')"
   ]
  },
  {
   "cell_type": "code",
   "execution_count": 14,
   "metadata": {},
   "outputs": [],
   "source": [
    "# fig.savefig('../resource/visualize/groupcat.png')"
   ]
  },
  {
   "cell_type": "code",
   "execution_count": 15,
   "metadata": {},
   "outputs": [],
   "source": [
    "# df_full.to_csv('../resource/hyper_kvasir/full_labeled_group.csv', index=False, header=True)"
   ]
  }
 ],
 "metadata": {
  "kernelspec": {
   "display_name": "cls",
   "language": "python",
   "name": "cls"
  },
  "language_info": {
   "codemirror_mode": {
    "name": "ipython",
    "version": 3
   },
   "file_extension": ".py",
   "mimetype": "text/x-python",
   "name": "python",
   "nbconvert_exporter": "python",
   "pygments_lexer": "ipython3",
   "version": "3.6.13"
  }
 },
 "nbformat": 4,
 "nbformat_minor": 5
}
