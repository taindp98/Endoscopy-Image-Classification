{
 "cells": [
  {
   "cell_type": "code",
   "execution_count": 1,
   "id": "28bddc8e",
   "metadata": {},
   "outputs": [],
   "source": [
    "import pandas as pd\n",
    "import os\n",
    "import numpy as np\n",
    "import cv2\n",
    "from tqdm import tqdm\n",
    "from glob import glob\n",
    "from sklearn.model_selection import train_test_split\n",
    "from matplotlib import pyplot as plt\n",
    "from imblearn.over_sampling import SMOTE\n",
    "from timm import create_model"
   ]
  },
  {
   "cell_type": "code",
   "execution_count": 2,
   "id": "8d8da74c",
   "metadata": {},
   "outputs": [],
   "source": [
    "# import warnings filter\n",
    "from warnings import simplefilter\n",
    "# ignore all future warnings\n",
    "simplefilter(action='ignore', category=FutureWarning)"
   ]
  },
  {
   "cell_type": "code",
   "execution_count": 5,
   "id": "305b46f1",
   "metadata": {},
   "outputs": [],
   "source": [
    "_HYPER_KVASIR = 'D:\\\\data\\\\endoscopic\\\\hyper_kvasir'\n",
    "# _HYPER_KVASIR_LABELED_DEFORM = 'D:\\\\data\\\\endoscopic\\\\hyper_kvasir\\\\labeled_images_deform'"
   ]
  },
  {
   "cell_type": "code",
   "execution_count": 8,
   "id": "b548b558-9edf-4123-9899-66a0c9a2499b",
   "metadata": {},
   "outputs": [
    {
     "data": {
      "text/html": [
       "<div>\n",
       "<style scoped>\n",
       "    .dataframe tbody tr th:only-of-type {\n",
       "        vertical-align: middle;\n",
       "    }\n",
       "\n",
       "    .dataframe tbody tr th {\n",
       "        vertical-align: top;\n",
       "    }\n",
       "\n",
       "    .dataframe thead th {\n",
       "        text-align: right;\n",
       "    }\n",
       "</style>\n",
       "<table border=\"1\" class=\"dataframe\">\n",
       "  <thead>\n",
       "    <tr style=\"text-align: right;\">\n",
       "      <th></th>\n",
       "      <th>Organ</th>\n",
       "      <th>Classification</th>\n",
       "      <th>Finding</th>\n",
       "      <th>Image</th>\n",
       "      <th>Categories</th>\n",
       "      <th>is_valid</th>\n",
       "    </tr>\n",
       "  </thead>\n",
       "  <tbody>\n",
       "    <tr>\n",
       "      <th>0</th>\n",
       "      <td>upper-gi-tract</td>\n",
       "      <td>anatomical-landmarks</td>\n",
       "      <td>z-line</td>\n",
       "      <td>upper-gi-tract/anatomical-landmarks/z-line/c7e...</td>\n",
       "      <td>0</td>\n",
       "      <td>False</td>\n",
       "    </tr>\n",
       "    <tr>\n",
       "      <th>1</th>\n",
       "      <td>lower-gi-tract</td>\n",
       "      <td>therapeutic-interventions</td>\n",
       "      <td>dyed-lifted-polyps</td>\n",
       "      <td>lower-gi-tract/therapeutic-interventions/dyed-...</td>\n",
       "      <td>0</td>\n",
       "      <td>False</td>\n",
       "    </tr>\n",
       "    <tr>\n",
       "      <th>2</th>\n",
       "      <td>lower-gi-tract</td>\n",
       "      <td>quality-of-mucosal-views</td>\n",
       "      <td>bbps-2-3</td>\n",
       "      <td>lower-gi-tract/quality-of-mucosal-views/bbps-2...</td>\n",
       "      <td>0</td>\n",
       "      <td>False</td>\n",
       "    </tr>\n",
       "    <tr>\n",
       "      <th>3</th>\n",
       "      <td>lower-gi-tract</td>\n",
       "      <td>quality-of-mucosal-views</td>\n",
       "      <td>bbps-2-3</td>\n",
       "      <td>lower-gi-tract/quality-of-mucosal-views/bbps-2...</td>\n",
       "      <td>0</td>\n",
       "      <td>False</td>\n",
       "    </tr>\n",
       "    <tr>\n",
       "      <th>4</th>\n",
       "      <td>upper-gi-tract</td>\n",
       "      <td>anatomical-landmarks</td>\n",
       "      <td>z-line</td>\n",
       "      <td>upper-gi-tract/anatomical-landmarks/z-line/b98...</td>\n",
       "      <td>0</td>\n",
       "      <td>False</td>\n",
       "    </tr>\n",
       "  </tbody>\n",
       "</table>\n",
       "</div>"
      ],
      "text/plain": [
       "            Organ             Classification             Finding  \\\n",
       "0  upper-gi-tract       anatomical-landmarks              z-line   \n",
       "1  lower-gi-tract  therapeutic-interventions  dyed-lifted-polyps   \n",
       "2  lower-gi-tract   quality-of-mucosal-views            bbps-2-3   \n",
       "3  lower-gi-tract   quality-of-mucosal-views            bbps-2-3   \n",
       "4  upper-gi-tract       anatomical-landmarks              z-line   \n",
       "\n",
       "                                               Image  Categories  is_valid  \n",
       "0  upper-gi-tract/anatomical-landmarks/z-line/c7e...           0     False  \n",
       "1  lower-gi-tract/therapeutic-interventions/dyed-...           0     False  \n",
       "2  lower-gi-tract/quality-of-mucosal-views/bbps-2...           0     False  \n",
       "3  lower-gi-tract/quality-of-mucosal-views/bbps-2...           0     False  \n",
       "4  upper-gi-tract/anatomical-landmarks/z-line/b98...           0     False  "
      ]
     },
     "execution_count": 8,
     "metadata": {},
     "output_type": "execute_result"
    }
   ],
   "source": [
    "df_anno = pd.read_csv('../resource/hyper_kvasir/full_labeled_anno.csv')\n",
    "df_anno.head()"
   ]
  },
  {
   "cell_type": "code",
   "execution_count": 19,
   "id": "9c6110c3",
   "metadata": {},
   "outputs": [],
   "source": [
    "# df_anno['Categories'].value_counts()"
   ]
  },
  {
   "cell_type": "code",
   "execution_count": 9,
   "id": "dcb8c3df-3e87-4250-b053-bf2c1d5b0fe1",
   "metadata": {},
   "outputs": [],
   "source": [
    "list_cat_abn = []\n",
    "for c in df_anno['Categories']:\n",
    "    if c != 0:\n",
    "        list_cat_abn.append(1)\n",
    "    else:\n",
    "        list_cat_abn.append(c)\n",
    "df_anno['Abnormal'] = list_cat_abn"
   ]
  },
  {
   "cell_type": "code",
   "execution_count": 10,
   "id": "749c358d-e6e2-4627-b246-93acb5a2a8fb",
   "metadata": {},
   "outputs": [
    {
     "data": {
      "text/plain": [
       "0    8020\n",
       "1    2642\n",
       "Name: Abnormal, dtype: int64"
      ]
     },
     "execution_count": 10,
     "metadata": {},
     "output_type": "execute_result"
    }
   ],
   "source": [
    "df_anno['Abnormal'].value_counts()"
   ]
  },
  {
   "cell_type": "code",
   "execution_count": 22,
   "id": "84c007c2-ed49-4269-aa7e-6b443ac7dc4d",
   "metadata": {},
   "outputs": [
    {
     "data": {
      "text/html": [
       "<div>\n",
       "<style scoped>\n",
       "    .dataframe tbody tr th:only-of-type {\n",
       "        vertical-align: middle;\n",
       "    }\n",
       "\n",
       "    .dataframe tbody tr th {\n",
       "        vertical-align: top;\n",
       "    }\n",
       "\n",
       "    .dataframe thead th {\n",
       "        text-align: right;\n",
       "    }\n",
       "</style>\n",
       "<table border=\"1\" class=\"dataframe\">\n",
       "  <thead>\n",
       "    <tr style=\"text-align: right;\">\n",
       "      <th></th>\n",
       "      <th>index</th>\n",
       "      <th>image</th>\n",
       "      <th>target</th>\n",
       "      <th>is_valid</th>\n",
       "    </tr>\n",
       "  </thead>\n",
       "  <tbody>\n",
       "    <tr>\n",
       "      <th>0</th>\n",
       "      <td>7868</td>\n",
       "      <td>lower-gi-tract/quality-of-mucosal-views/bbps-2...</td>\n",
       "      <td>0</td>\n",
       "      <td>False</td>\n",
       "    </tr>\n",
       "    <tr>\n",
       "      <th>1</th>\n",
       "      <td>8674</td>\n",
       "      <td>lower-gi-tract/quality-of-mucosal-views/bbps-2...</td>\n",
       "      <td>0</td>\n",
       "      <td>False</td>\n",
       "    </tr>\n",
       "    <tr>\n",
       "      <th>2</th>\n",
       "      <td>2923</td>\n",
       "      <td>lower-gi-tract/anatomical-landmarks/cecum/12fc...</td>\n",
       "      <td>0</td>\n",
       "      <td>False</td>\n",
       "    </tr>\n",
       "    <tr>\n",
       "      <th>3</th>\n",
       "      <td>4818</td>\n",
       "      <td>lower-gi-tract/quality-of-mucosal-views/bbps-2...</td>\n",
       "      <td>0</td>\n",
       "      <td>False</td>\n",
       "    </tr>\n",
       "    <tr>\n",
       "      <th>4</th>\n",
       "      <td>6224</td>\n",
       "      <td>lower-gi-tract/quality-of-mucosal-views/impact...</td>\n",
       "      <td>0</td>\n",
       "      <td>False</td>\n",
       "    </tr>\n",
       "    <tr>\n",
       "      <th>...</th>\n",
       "      <td>...</td>\n",
       "      <td>...</td>\n",
       "      <td>...</td>\n",
       "      <td>...</td>\n",
       "    </tr>\n",
       "    <tr>\n",
       "      <th>10657</th>\n",
       "      <td>7321</td>\n",
       "      <td>upper-gi-tract/anatomical-landmarks/retroflex-...</td>\n",
       "      <td>0</td>\n",
       "      <td>True</td>\n",
       "    </tr>\n",
       "    <tr>\n",
       "      <th>10658</th>\n",
       "      <td>2578</td>\n",
       "      <td>lower-gi-tract/therapeutic-interventions/dyed-...</td>\n",
       "      <td>0</td>\n",
       "      <td>True</td>\n",
       "    </tr>\n",
       "    <tr>\n",
       "      <th>10659</th>\n",
       "      <td>4136</td>\n",
       "      <td>lower-gi-tract/quality-of-mucosal-views/bbps-2...</td>\n",
       "      <td>0</td>\n",
       "      <td>True</td>\n",
       "    </tr>\n",
       "    <tr>\n",
       "      <th>10660</th>\n",
       "      <td>7908</td>\n",
       "      <td>lower-gi-tract/therapeutic-interventions/dyed-...</td>\n",
       "      <td>0</td>\n",
       "      <td>True</td>\n",
       "    </tr>\n",
       "    <tr>\n",
       "      <th>10661</th>\n",
       "      <td>2580</td>\n",
       "      <td>lower-gi-tract/therapeutic-interventions/dyed-...</td>\n",
       "      <td>0</td>\n",
       "      <td>True</td>\n",
       "    </tr>\n",
       "  </tbody>\n",
       "</table>\n",
       "<p>10662 rows × 4 columns</p>\n",
       "</div>"
      ],
      "text/plain": [
       "       index                                              image  target  \\\n",
       "0       7868  lower-gi-tract/quality-of-mucosal-views/bbps-2...       0   \n",
       "1       8674  lower-gi-tract/quality-of-mucosal-views/bbps-2...       0   \n",
       "2       2923  lower-gi-tract/anatomical-landmarks/cecum/12fc...       0   \n",
       "3       4818  lower-gi-tract/quality-of-mucosal-views/bbps-2...       0   \n",
       "4       6224  lower-gi-tract/quality-of-mucosal-views/impact...       0   \n",
       "...      ...                                                ...     ...   \n",
       "10657   7321  upper-gi-tract/anatomical-landmarks/retroflex-...       0   \n",
       "10658   2578  lower-gi-tract/therapeutic-interventions/dyed-...       0   \n",
       "10659   4136  lower-gi-tract/quality-of-mucosal-views/bbps-2...       0   \n",
       "10660   7908  lower-gi-tract/therapeutic-interventions/dyed-...       0   \n",
       "10661   2580  lower-gi-tract/therapeutic-interventions/dyed-...       0   \n",
       "\n",
       "       is_valid  \n",
       "0         False  \n",
       "1         False  \n",
       "2         False  \n",
       "3         False  \n",
       "4         False  \n",
       "...         ...  \n",
       "10657      True  \n",
       "10658      True  \n",
       "10659      True  \n",
       "10660      True  \n",
       "10661      True  \n",
       "\n",
       "[10662 rows x 4 columns]"
      ]
     },
     "execution_count": 22,
     "metadata": {},
     "output_type": "execute_result"
    }
   ],
   "source": [
    "x_train, x_valid, y_train, y_valid = train_test_split(df_anno['Image'], df_anno['Abnormal'], test_size=0.2, random_state=0)\n",
    "df_train = pd.DataFrame([])\n",
    "df_train['image'] = x_train\n",
    "df_train['target'] = y_train\n",
    "df_train['is_valid'] = False\n",
    "\n",
    "df_valid = pd.DataFrame([])\n",
    "df_valid['image'] = x_valid\n",
    "df_valid['target'] = y_valid\n",
    "df_valid['is_valid'] = True\n",
    "\n",
    "df_full = pd.concat([df_train, df_valid], axis=0).reset_index()\n",
    "df_full"
   ]
  },
  {
   "cell_type": "code",
   "execution_count": 11,
   "id": "0f96dac9-efdc-451a-9212-24418deeb690",
   "metadata": {},
   "outputs": [],
   "source": [
    "# x = df_anno['path']\n",
    "# y = df_anno['Categories']\n",
    "\n",
    "# x_train, x_test, y_train, y_test = train_test_split(x, y, test_size=0.2, random_state=0)\n",
    "# x_train_lab, x_train_unlab, y_train_lab, y_train_unlab = train_test_split(x_train, \n",
    "#                                                                           y_train, \n",
    "#                                                                           test_size=0.32, \n",
    "#                                                                           random_state=0)\n",
    "\n",
    "\n",
    "# df_train_lab = pd.DataFrame([])\n",
    "# df_train_lab = pd.DataFrame([])\n",
    "# df_train_lab['image'] = x_train_lab\n",
    "# df_train_lab['target'] = y_train_lab\n",
    "# df_train_lab['is_valid'] = False\n",
    "# df_train_lab['is_labeled'] = True\n",
    "\n",
    "# df_train_unlab = pd.DataFrame([])\n",
    "# df_train_unlab = pd.DataFrame([])\n",
    "# df_train_unlab['image'] = x_train_unlab\n",
    "# df_train_unlab['target'] = y_train_unlab\n",
    "# df_train_unlab['is_valid'] = False\n",
    "# df_train_unlab['is_labeled'] = False\n",
    "\n",
    "\n",
    "# df_valid['image'] = x_test\n",
    "# df_valid['target'] = y_test\n",
    "# df_valid['is_valid'] = True\n",
    "# df_valid['is_labeled'] = True"
   ]
  },
  {
   "cell_type": "code",
   "execution_count": 12,
   "id": "9146e804-561f-4f12-b5ab-ad3594846414",
   "metadata": {},
   "outputs": [],
   "source": [
    "# df_full = pd.concat([df_train_lab, df_train_unlab, df_valid], axis=0).reset_index()\n",
    "# del df_full['index']\n",
    "# df_full"
   ]
  },
  {
   "cell_type": "code",
   "execution_count": 13,
   "id": "36d05cdc-5128-45ee-a01e-aac17f6f8ffb",
   "metadata": {},
   "outputs": [],
   "source": [
    "# fig = df_full['target'].value_counts().plot(kind='bar', figsize=(10, 8), fontsize=10, rot=0).get_figure()"
   ]
  },
  {
   "cell_type": "code",
   "execution_count": 23,
   "id": "e78c7f43-d945-462a-8c08-96edcadf13b6",
   "metadata": {},
   "outputs": [],
   "source": [
    "df_full.to_csv('../resource/hyper_kvasir/df_abnormal.csv', index=False, header=True)"
   ]
  },
  {
   "cell_type": "code",
   "execution_count": 15,
   "id": "3196529e-f100-4028-b9c6-91b7deeca3f7",
   "metadata": {},
   "outputs": [],
   "source": [
    "# cnt_train = df_train['target'].value_counts()\n",
    "# cnt_valid = df_valid['target'].value_counts()\n",
    "\n",
    "# df_cnt = pd.DataFrame({'train': cnt_train,'valid': cnt_valid})\n",
    "# chart = df_cnt.plot.bar(rot=0, figsize=(10, 8), fontsize=15, stacked=True).get_figure()\n",
    "# # chart.savefig('../resource/visualize/visual_sup.png')"
   ]
  },
  {
   "cell_type": "code",
   "execution_count": 69,
   "id": "8353fec3-dade-42c7-9581-7f48b4da96a3",
   "metadata": {},
   "outputs": [],
   "source": [
    "# cnt_train = df_train['Groupby_Categories']\n",
    "# cnt_train_labeled, cnt_train_unlabeled = train_test_split(cnt_train, test_size = 0.9, random_state = 0)\n",
    "# cnt_train_labeled, cnt_train_unlabeled = cnt_train_labeled.value_counts(), cnt_train_unlabeled.value_counts()\n",
    "# cnt_valid = df_valid['Groupby_Categories'].value_counts()\n",
    "\n",
    "# df_cnt = pd.DataFrame({'train_labeled': cnt_train_labeled, \n",
    "                       \n",
    "#                        'train_unlabeled': cnt_train_unlabeled,\n",
    "#                        'valid': cnt_valid,\n",
    "#                        })\n",
    "# chart_semi = df_cnt.plot.bar(rot=0, \n",
    "#                         figsize=(10, 8), \n",
    "#                         fontsize=15,\n",
    "#                         color={\"train_labeled\": \"#1f76b5\", \"train_unlabeled\": \"green\", \"valid\":\"#fe7e0e\"},\n",
    "#                         stacked=True).get_figure()\n",
    "# chart_semi.savefig('../resource/visualize/visual_semi_1_9.png')"
   ]
  },
  {
   "cell_type": "code",
   "execution_count": 70,
   "id": "55e0e1de-1a8c-410e-b679-b41dbd847bea",
   "metadata": {},
   "outputs": [],
   "source": [
    "# cnt_train_labeled, cnt_train_unlabeled"
   ]
  },
  {
   "cell_type": "code",
   "execution_count": 71,
   "id": "10c2e7ab-ce2e-46c1-a8c6-f87617571627",
   "metadata": {},
   "outputs": [],
   "source": [
    "# df_train['Groupby_Categories'].value_counts()\n",
    "# fig_train.savefig('../resource/visualize/groupcat_train.png')"
   ]
  },
  {
   "cell_type": "code",
   "execution_count": 72,
   "id": "e012084f-1fe0-484d-8010-37f17021b29c",
   "metadata": {},
   "outputs": [],
   "source": [
    "# df_valid['Groupby_Categories'].value_counts()\n",
    "# fig_valid.savefig('../resource/visualize/groupcat_valid.png')"
   ]
  },
  {
   "cell_type": "code",
   "execution_count": 14,
   "id": "8d15e4d5-0a0b-4fda-9fa0-6d0549104a2f",
   "metadata": {},
   "outputs": [],
   "source": [
    "# fig.savefig('../resource/visualize/groupcat.png')"
   ]
  },
  {
   "cell_type": "code",
   "execution_count": 15,
   "id": "67e0de28-0f66-4916-9bbe-124213af60c7",
   "metadata": {},
   "outputs": [],
   "source": [
    "# df_full.to_csv('../resource/hyper_kvasir/full_labeled_group.csv', index=False, header=True)"
   ]
  }
 ],
 "metadata": {
  "kernelspec": {
   "display_name": "cls",
   "language": "python",
   "name": "cls"
  },
  "language_info": {
   "codemirror_mode": {
    "name": "ipython",
    "version": 3
   },
   "file_extension": ".py",
   "mimetype": "text/x-python",
   "name": "python",
   "nbconvert_exporter": "python",
   "pygments_lexer": "ipython3",
   "version": "3.6.13"
  }
 },
 "nbformat": 4,
 "nbformat_minor": 5
}
