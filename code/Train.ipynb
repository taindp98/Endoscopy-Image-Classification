{
 "cells": [
  {
   "cell_type": "code",
   "execution_count": null,
   "metadata": {
    "execution": {
     "iopub.execute_input": "2022-06-29T19:47:01.464994Z",
     "iopub.status.busy": "2022-06-29T19:47:01.464682Z",
     "iopub.status.idle": "2022-06-29T19:47:01.488064Z",
     "shell.execute_reply": "2022-06-29T19:47:01.487438Z",
     "shell.execute_reply.started": "2022-06-29T19:47:01.464907Z"
    }
   },
   "outputs": [],
   "source": [
    "%load_ext autoreload\n",
    "%autoreload 2"
   ]
  },
  {
   "cell_type": "code",
   "execution_count": null,
   "metadata": {
    "execution": {
     "iopub.execute_input": "2022-06-29T19:47:01.635637Z",
     "iopub.status.busy": "2022-06-29T19:47:01.635428Z",
     "iopub.status.idle": "2022-06-29T19:47:24.981179Z",
     "shell.execute_reply": "2022-06-29T19:47:24.980372Z",
     "shell.execute_reply.started": "2022-06-29T19:47:01.635614Z"
    },
    "tags": []
   },
   "outputs": [],
   "source": [
    "# !pip install fastai==1.0.61"
   ]
  },
  {
   "cell_type": "code",
   "execution_count": null,
   "metadata": {
    "execution": {
     "iopub.execute_input": "2022-06-29T19:47:24.984022Z",
     "iopub.status.busy": "2022-06-29T19:47:24.983769Z",
     "iopub.status.idle": "2022-06-29T19:47:34.897805Z",
     "shell.execute_reply": "2022-06-29T19:47:34.896997Z",
     "shell.execute_reply.started": "2022-06-29T19:47:24.983989Z"
    },
    "tags": []
   },
   "outputs": [],
   "source": [
    "# !pip install timm"
   ]
  },
  {
   "cell_type": "code",
   "execution_count": null,
   "metadata": {
    "execution": {
     "iopub.execute_input": "2022-06-29T19:47:34.901456Z",
     "iopub.status.busy": "2022-06-29T19:47:34.901238Z",
     "iopub.status.idle": "2022-06-29T19:47:38.444492Z",
     "shell.execute_reply": "2022-06-29T19:47:38.443647Z",
     "shell.execute_reply.started": "2022-06-29T19:47:34.901431Z"
    },
    "tags": []
   },
   "outputs": [],
   "source": [
    "from fastai.vision import *\n",
    "from fastai.callbacks.hooks import *\n",
    "from PIL import Image\n",
    "import os\n",
    "from glob import glob\n",
    "import cv2\n",
    "from tqdm import tqdm\n",
    "import multiprocessing as mp\n",
    "import pandas as pd\n",
    "from matplotlib import pyplot as plt\n",
    "from torchvision import transforms\n",
    "import timm\n",
    "\n",
    "import torch.nn.functional as F\n"
   ]
  },
  {
   "cell_type": "code",
   "execution_count": null,
   "metadata": {
    "execution": {
     "iopub.execute_input": "2022-06-29T19:47:38.447305Z",
     "iopub.status.busy": "2022-06-29T19:47:38.447041Z",
     "iopub.status.idle": "2022-06-29T19:47:44.909041Z",
     "shell.execute_reply": "2022-06-29T19:47:44.907929Z",
     "shell.execute_reply.started": "2022-06-29T19:47:38.447271Z"
    }
   },
   "outputs": [],
   "source": [
    "# %cd /kaggle/working/\n",
    "# !rm -rf Endoscopy-Image-Classification\n",
    "# !git clone https://github.com/taindp98/Endoscopy-Image-Classification.git\n",
    "# %cd './Endoscopy-Image-Classification/code'"
   ]
  },
  {
   "cell_type": "code",
   "execution_count": null,
   "metadata": {
    "execution": {
     "iopub.execute_input": "2022-06-29T19:47:44.911522Z",
     "iopub.status.busy": "2022-06-29T19:47:44.911217Z",
     "iopub.status.idle": "2022-06-29T19:47:45.241649Z",
     "shell.execute_reply": "2022-06-29T19:47:45.240931Z",
     "shell.execute_reply.started": "2022-06-29T19:47:44.911482Z"
    }
   },
   "outputs": [],
   "source": [
    "from utils import interleave, de_interleave, show_batch, AverageMeter, show_grid, get_config\n",
    "from learner import FixMatch, CoMatch, SupLearning\n",
    "from dataset import get_data\n",
    "from build import build_model"
   ]
  },
  {
   "cell_type": "markdown",
   "metadata": {},
   "source": [
    "### Supervised Learning Re-produce"
   ]
  },
  {
   "cell_type": "code",
   "execution_count": null,
   "metadata": {
    "execution": {
     "iopub.execute_input": "2022-06-29T19:47:45.243678Z",
     "iopub.status.busy": "2022-06-29T19:47:45.243436Z",
     "iopub.status.idle": "2022-06-29T19:47:45.247598Z",
     "shell.execute_reply": "2022-06-29T19:47:45.246916Z",
     "shell.execute_reply.started": "2022-06-29T19:47:45.243643Z"
    }
   },
   "outputs": [],
   "source": [
    "# config = get_config('./configs/kaggle_reproduce.yaml')\n",
    "# df_anno = pd.read_csv(config['DATA']['ANNO'])\n",
    "# df_unanno = None\n",
    "# train_dl, valid_dl = get_data(config, df_anno, df_unanno, is_visual=True, is_reprod =True)\n",
    "# model = build_model(config, is_pathology = True)"
   ]
  },
  {
   "cell_type": "markdown",
   "metadata": {},
   "source": [
    "### Supervised Learning Abnormalities"
   ]
  },
  {
   "cell_type": "code",
   "execution_count": null,
   "metadata": {
    "execution": {
     "iopub.execute_input": "2022-06-29T19:47:45.249376Z",
     "iopub.status.busy": "2022-06-29T19:47:45.248917Z",
     "iopub.status.idle": "2022-06-29T19:47:45.257779Z",
     "shell.execute_reply": "2022-06-29T19:47:45.256874Z",
     "shell.execute_reply.started": "2022-06-29T19:47:45.249341Z"
    }
   },
   "outputs": [],
   "source": [
    "# config = get_config('./configs/kaggle_supervised_abnorm.yaml')\n",
    "# df_anno = pd.read_csv(config['DATA']['ANNO'])\n",
    "# df_unanno = pd.read_csv(config['DATA']['UNANNO'])\n",
    "# train_dl, valid_dl = get_data(config, \n",
    "#                               df_anno, \n",
    "#                               df_unanno, \n",
    "#                               is_full_sup = False, \n",
    "#                               is_visual=True, \n",
    "#                               type_semi = config.MODEL.TYPE_SEMI)\n",
    "\n",
    "# ## generate prediction abnormalities\n",
    "# unlabeled_dl = get_data(config, df_anno, df_unanno, is_visual=True, predict = True)\n",
    "# model = build_model(config, is_pathology = False)"
   ]
  },
  {
   "cell_type": "markdown",
   "metadata": {},
   "source": [
    "### Supervised Learning Pathologies"
   ]
  },
  {
   "cell_type": "code",
   "execution_count": null,
   "metadata": {
    "execution": {
     "iopub.execute_input": "2022-06-29T19:47:45.261336Z",
     "iopub.status.busy": "2022-06-29T19:47:45.260407Z",
     "iopub.status.idle": "2022-06-29T19:47:45.265872Z",
     "shell.execute_reply": "2022-06-29T19:47:45.264898Z",
     "shell.execute_reply.started": "2022-06-29T19:47:45.261252Z"
    }
   },
   "outputs": [],
   "source": [
    "# config = get_config('./configs/kaggle_supervised_patho.yaml')\n",
    "# df_anno = pd.read_csv(config['DATA']['ANNO'])\n",
    "# df_unanno = None\n",
    "# train_dl, valid_dl = get_data(config, df_anno, df_unanno, is_visual=True)\n",
    "# model = build_model(config, is_pathology = True)"
   ]
  },
  {
   "cell_type": "markdown",
   "metadata": {},
   "source": [
    "### Semi-supervised Learning"
   ]
  },
  {
   "cell_type": "code",
   "execution_count": null,
   "metadata": {
    "execution": {
     "iopub.execute_input": "2022-06-29T19:47:45.268139Z",
     "iopub.status.busy": "2022-06-29T19:47:45.26722Z",
     "iopub.status.idle": "2022-06-29T19:48:00.53348Z",
     "shell.execute_reply": "2022-06-29T19:48:00.52771Z",
     "shell.execute_reply.started": "2022-06-29T19:47:45.268102Z"
    }
   },
   "outputs": [],
   "source": [
    "config = get_config('./configs/local_semisupervised_real.yaml')\n",
    "df_anno = pd.read_csv(config['DATA']['ANNO'])\n",
    "df_unanno = pd.read_csv(config['DATA']['UNANNO'])\n",
    "train_dl, valid_dl = get_data(config, \n",
    "                              df_anno, \n",
    "                              df_unanno, \n",
    "                              is_full_sup = False, \n",
    "                              is_visual=True, \n",
    "                              type_semi = config.MODEL.TYPE_SEMI)\n",
    "\n",
    "model = build_model(config, is_pathology = True)"
   ]
  },
  {
   "cell_type": "code",
   "execution_count": null,
   "metadata": {
    "execution": {
     "iopub.execute_input": "2022-06-29T19:48:00.536683Z",
     "iopub.status.busy": "2022-06-29T19:48:00.536111Z",
     "iopub.status.idle": "2022-06-29T19:48:00.542894Z",
     "shell.execute_reply": "2022-06-29T19:48:00.541154Z",
     "shell.execute_reply.started": "2022-06-29T19:48:00.536643Z"
    }
   },
   "outputs": [],
   "source": [
    "if torch.cuda.is_available():\n",
    "    device = torch.device('cuda')\n",
    "else:\n",
    "    device = torch.device('cpu')"
   ]
  },
  {
   "cell_type": "code",
   "execution_count": null,
   "metadata": {
    "execution": {
     "iopub.execute_input": "2022-06-29T19:48:00.544611Z",
     "iopub.status.busy": "2022-06-29T19:48:00.544065Z",
     "iopub.status.idle": "2022-06-29T19:48:00.718757Z",
     "shell.execute_reply": "2022-06-29T19:48:00.717979Z",
     "shell.execute_reply.started": "2022-06-29T19:48:00.544569Z"
    }
   },
   "outputs": [],
   "source": [
    "if config.TRAIN.IS_SSL:\n",
    "    if config.MODEL.TYPE_SEMI == 'FixMatch':\n",
    "        classifier = FixMatch(model = model,\n",
    "                          opt_func=config['TRAIN']['OPT_NAME'], \n",
    "                          device = device)\n",
    "    else:\n",
    "        classifier = CoMatch(model = model,\n",
    "                          opt_func=config['TRAIN']['OPT_NAME'], \n",
    "                          device = device)\n",
    "else:\n",
    "    classifier = SupLearning(model = model,\n",
    "                          opt_func=config['TRAIN']['OPT_NAME'], \n",
    "                          device = device)\n",
    "classifier.get_dataloader(train_dl, valid_dl)\n",
    "classifier.get_config(config)"
   ]
  },
  {
   "cell_type": "code",
   "execution_count": null,
   "metadata": {
    "execution": {
     "iopub.execute_input": "2022-06-29T19:48:00.720317Z",
     "iopub.status.busy": "2022-06-29T19:48:00.720067Z",
     "iopub.status.idle": "2022-06-29T19:48:00.724034Z",
     "shell.execute_reply": "2022-06-29T19:48:00.723013Z",
     "shell.execute_reply.started": "2022-06-29T19:48:00.720285Z"
    }
   },
   "outputs": [],
   "source": [
    "# classifier.save_checkpoint('/kaggle/working/')"
   ]
  },
  {
   "cell_type": "code",
   "execution_count": null,
   "metadata": {
    "execution": {
     "iopub.execute_input": "2022-06-29T19:48:00.725722Z",
     "iopub.status.busy": "2022-06-29T19:48:00.725426Z",
     "iopub.status.idle": "2022-06-29T19:48:00.732768Z",
     "shell.execute_reply": "2022-06-29T19:48:00.731913Z",
     "shell.execute_reply.started": "2022-06-29T19:48:00.725681Z"
    }
   },
   "outputs": [],
   "source": [
    "# classifier.load_checkpoint('/kaggle/input/checkpoint-abnormal/sup_densenet161_abnormal_224.pth')"
   ]
  },
  {
   "cell_type": "code",
   "execution_count": null,
   "metadata": {
    "execution": {
     "iopub.execute_input": "2022-06-29T19:48:00.7345Z",
     "iopub.status.busy": "2022-06-29T19:48:00.734231Z",
     "iopub.status.idle": "2022-06-29T19:48:00.741598Z",
     "shell.execute_reply": "2022-06-29T19:48:00.740781Z",
     "shell.execute_reply.started": "2022-06-29T19:48:00.734466Z"
    }
   },
   "outputs": [],
   "source": [
    "# classifier.evaluate_one(True, True, True)"
   ]
  },
  {
   "cell_type": "code",
   "execution_count": null,
   "metadata": {
    "execution": {
     "iopub.execute_input": "2022-06-29T19:48:00.743377Z",
     "iopub.status.busy": "2022-06-29T19:48:00.74298Z",
     "iopub.status.idle": "2022-06-29T19:48:00.749599Z",
     "shell.execute_reply": "2022-06-29T19:48:00.748893Z",
     "shell.execute_reply.started": "2022-06-29T19:48:00.743342Z"
    }
   },
   "outputs": [],
   "source": [
    "# out_pred = classifier.inference(unlabeled_dl)"
   ]
  },
  {
   "cell_type": "code",
   "execution_count": null,
   "metadata": {
    "execution": {
     "iopub.execute_input": "2022-06-29T19:48:00.750875Z",
     "iopub.status.busy": "2022-06-29T19:48:00.750628Z",
     "iopub.status.idle": "2022-06-29T19:48:00.759021Z",
     "shell.execute_reply": "2022-06-29T19:48:00.758208Z",
     "shell.execute_reply.started": "2022-06-29T19:48:00.750843Z"
    }
   },
   "outputs": [],
   "source": [
    "# out_pred"
   ]
  },
  {
   "cell_type": "code",
   "execution_count": null,
   "metadata": {
    "execution": {
     "iopub.execute_input": "2022-06-29T19:48:00.762509Z",
     "iopub.status.busy": "2022-06-29T19:48:00.76225Z",
     "iopub.status.idle": "2022-06-29T19:48:00.768319Z",
     "shell.execute_reply": "2022-06-29T19:48:00.767559Z",
     "shell.execute_reply.started": "2022-06-29T19:48:00.762485Z"
    }
   },
   "outputs": [],
   "source": [
    "# df_unanno['pred'] = list(out_pred)\n",
    "# df_unanno['pred'].value_counts()"
   ]
  },
  {
   "cell_type": "code",
   "execution_count": null,
   "metadata": {
    "execution": {
     "iopub.execute_input": "2022-06-29T19:48:00.769924Z",
     "iopub.status.busy": "2022-06-29T19:48:00.769546Z",
     "iopub.status.idle": "2022-06-29T19:48:00.777916Z",
     "shell.execute_reply": "2022-06-29T19:48:00.777042Z",
     "shell.execute_reply.started": "2022-06-29T19:48:00.76989Z"
    }
   },
   "outputs": [],
   "source": [
    "# df_unanno.to_csv(\"/kaggle/working/full_unlabeled_predict.csv\", header =True, index = False)"
   ]
  },
  {
   "cell_type": "code",
   "execution_count": null,
   "metadata": {
    "execution": {
     "iopub.execute_input": "2022-06-29T19:48:00.779551Z",
     "iopub.status.busy": "2022-06-29T19:48:00.779196Z",
     "iopub.status.idle": "2022-06-29T21:25:07.554703Z",
     "shell.execute_reply": "2022-06-29T21:25:07.55335Z",
     "shell.execute_reply.started": "2022-06-29T19:48:00.779517Z"
    }
   },
   "outputs": [],
   "source": [
    "classifier.fit()"
   ]
  },
  {
   "cell_type": "code",
   "execution_count": null,
   "metadata": {
    "execution": {
     "iopub.status.busy": "2022-06-29T21:25:07.556061Z",
     "iopub.status.idle": "2022-06-29T21:25:07.556589Z",
     "shell.execute_reply": "2022-06-29T21:25:07.556369Z",
     "shell.execute_reply.started": "2022-06-29T21:25:07.556344Z"
    }
   },
   "outputs": [],
   "source": [
    "# classifier.save_checkpoint('/kaggle/working/')"
   ]
  },
  {
   "cell_type": "code",
   "execution_count": null,
   "metadata": {
    "execution": {
     "iopub.status.busy": "2022-06-29T21:25:07.559151Z",
     "iopub.status.idle": "2022-06-29T21:25:07.559804Z",
     "shell.execute_reply": "2022-06-29T21:25:07.55959Z",
     "shell.execute_reply.started": "2022-06-29T21:25:07.559567Z"
    }
   },
   "outputs": [],
   "source": [
    "# classifier.load_checkpoint('/kaggle/working/06_29_2022_10_33_55_epoch_20.pth')"
   ]
  },
  {
   "cell_type": "code",
   "execution_count": null,
   "metadata": {
    "execution": {
     "iopub.status.busy": "2022-06-29T21:25:07.561062Z",
     "iopub.status.idle": "2022-06-29T21:25:07.561705Z",
     "shell.execute_reply": "2022-06-29T21:25:07.561494Z",
     "shell.execute_reply.started": "2022-06-29T21:25:07.56147Z"
    }
   },
   "outputs": [],
   "source": [
    "# classifier.evaluate_one(True, True, True)"
   ]
  }
 ],
 "metadata": {
  "kernelspec": {
   "display_name": "cls",
   "language": "python",
   "name": "cls"
  },
  "language_info": {
   "codemirror_mode": {
    "name": "ipython",
    "version": 3
   },
   "file_extension": ".py",
   "mimetype": "text/x-python",
   "name": "python",
   "nbconvert_exporter": "python",
   "pygments_lexer": "ipython3",
   "version": "3.6.13"
  }
 },
 "nbformat": 4,
 "nbformat_minor": 4
}
