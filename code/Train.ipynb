{
 "cells": [
  {
   "cell_type": "code",
   "execution_count": 1,
   "metadata": {},
   "outputs": [],
   "source": [
    "%load_ext autoreload\n",
    "%autoreload 2"
   ]
  },
  {
   "cell_type": "code",
   "execution_count": 2,
   "metadata": {
    "tags": []
   },
   "outputs": [],
   "source": [
    "# !pip install fastai==1.0.61"
   ]
  },
  {
   "cell_type": "code",
   "execution_count": 3,
   "metadata": {
    "tags": []
   },
   "outputs": [],
   "source": [
    "# !pip install timm"
   ]
  },
  {
   "cell_type": "code",
   "execution_count": 4,
   "metadata": {
    "tags": []
   },
   "outputs": [],
   "source": [
    "from fastai.vision import *\n",
    "from fastai.callbacks.hooks import *\n",
    "from PIL import Image\n",
    "import os\n",
    "from glob import glob\n",
    "import cv2\n",
    "from tqdm import tqdm\n",
    "import multiprocessing as mp\n",
    "import pandas as pd\n",
    "from matplotlib import pyplot as plt\n",
    "from torchvision import transforms\n",
    "import timm\n",
    "\n",
    "# from torch.utils.data import DataLoader, RandomSampler, SequentialSampler\n",
    "import torch.nn.functional as F\n"
   ]
  },
  {
   "cell_type": "code",
   "execution_count": 5,
   "metadata": {},
   "outputs": [],
   "source": [
    "from utils import interleave, de_interleave, show_batch, AverageMeter, show_grid, get_config\n",
    "from learner import SemiSupLearning, SupLearning\n",
    "from dataset import get_data\n",
    "from build import build_model"
   ]
  },
  {
   "cell_type": "code",
   "execution_count": 6,
   "metadata": {},
   "outputs": [],
   "source": [
    "# config = get_config('./configs/local_semisupervised_mock_groupbycat.yaml')\n",
    "config = get_config('./configs/local_supervised_groupbycat.yaml')"
   ]
  },
  {
   "cell_type": "code",
   "execution_count": 7,
   "metadata": {},
   "outputs": [
    {
     "data": {
      "text/html": [
       "<div>\n",
       "<style scoped>\n",
       "    .dataframe tbody tr th:only-of-type {\n",
       "        vertical-align: middle;\n",
       "    }\n",
       "\n",
       "    .dataframe tbody tr th {\n",
       "        vertical-align: top;\n",
       "    }\n",
       "\n",
       "    .dataframe thead th {\n",
       "        text-align: right;\n",
       "    }\n",
       "</style>\n",
       "<table border=\"1\" class=\"dataframe\">\n",
       "  <thead>\n",
       "    <tr style=\"text-align: right;\">\n",
       "      <th></th>\n",
       "      <th>Organ</th>\n",
       "      <th>Classification</th>\n",
       "      <th>Finding</th>\n",
       "      <th>Image</th>\n",
       "      <th>Categories</th>\n",
       "      <th>is_valid</th>\n",
       "      <th>Groupby_Categories</th>\n",
       "    </tr>\n",
       "  </thead>\n",
       "  <tbody>\n",
       "    <tr>\n",
       "      <th>0</th>\n",
       "      <td>lower-gi-tract</td>\n",
       "      <td>therapeutic-interventions</td>\n",
       "      <td>dyed-resection-margins</td>\n",
       "      <td>lower-gi-tract/therapeutic-interventions/dyed-...</td>\n",
       "      <td>0</td>\n",
       "      <td>False</td>\n",
       "      <td>0</td>\n",
       "    </tr>\n",
       "    <tr>\n",
       "      <th>1</th>\n",
       "      <td>lower-gi-tract</td>\n",
       "      <td>quality-of-mucosal-views</td>\n",
       "      <td>bbps-2-3</td>\n",
       "      <td>lower-gi-tract/quality-of-mucosal-views/bbps-2...</td>\n",
       "      <td>0</td>\n",
       "      <td>False</td>\n",
       "      <td>0</td>\n",
       "    </tr>\n",
       "    <tr>\n",
       "      <th>2</th>\n",
       "      <td>upper-gi-tract</td>\n",
       "      <td>pathological-findings</td>\n",
       "      <td>barretts-short-segment</td>\n",
       "      <td>upper-gi-tract/pathological-findings/barretts-...</td>\n",
       "      <td>1</td>\n",
       "      <td>False</td>\n",
       "      <td>1</td>\n",
       "    </tr>\n",
       "    <tr>\n",
       "      <th>3</th>\n",
       "      <td>lower-gi-tract</td>\n",
       "      <td>quality-of-mucosal-views</td>\n",
       "      <td>bbps-0-1</td>\n",
       "      <td>lower-gi-tract/quality-of-mucosal-views/bbps-0...</td>\n",
       "      <td>0</td>\n",
       "      <td>False</td>\n",
       "      <td>0</td>\n",
       "    </tr>\n",
       "    <tr>\n",
       "      <th>4</th>\n",
       "      <td>upper-gi-tract</td>\n",
       "      <td>anatomical-landmarks</td>\n",
       "      <td>z-line</td>\n",
       "      <td>upper-gi-tract/anatomical-landmarks/z-line/87c...</td>\n",
       "      <td>0</td>\n",
       "      <td>False</td>\n",
       "      <td>0</td>\n",
       "    </tr>\n",
       "  </tbody>\n",
       "</table>\n",
       "</div>"
      ],
      "text/plain": [
       "            Organ             Classification                 Finding  \\\n",
       "0  lower-gi-tract  therapeutic-interventions  dyed-resection-margins   \n",
       "1  lower-gi-tract   quality-of-mucosal-views                bbps-2-3   \n",
       "2  upper-gi-tract      pathological-findings  barretts-short-segment   \n",
       "3  lower-gi-tract   quality-of-mucosal-views                bbps-0-1   \n",
       "4  upper-gi-tract       anatomical-landmarks                  z-line   \n",
       "\n",
       "                                               Image  Categories  is_valid  \\\n",
       "0  lower-gi-tract/therapeutic-interventions/dyed-...           0     False   \n",
       "1  lower-gi-tract/quality-of-mucosal-views/bbps-2...           0     False   \n",
       "2  upper-gi-tract/pathological-findings/barretts-...           1     False   \n",
       "3  lower-gi-tract/quality-of-mucosal-views/bbps-0...           0     False   \n",
       "4  upper-gi-tract/anatomical-landmarks/z-line/87c...           0     False   \n",
       "\n",
       "   Groupby_Categories  \n",
       "0                   0  \n",
       "1                   0  \n",
       "2                   1  \n",
       "3                   0  \n",
       "4                   0  "
      ]
     },
     "execution_count": 7,
     "metadata": {},
     "output_type": "execute_result"
    }
   ],
   "source": [
    "df_anno = pd.read_csv(config['DATA']['ANNO'])\n",
    "df_unanno = None\n",
    "df_anno.head()"
   ]
  },
  {
   "cell_type": "code",
   "execution_count": 8,
   "metadata": {},
   "outputs": [],
   "source": [
    "# df_anno['is_valid']"
   ]
  },
  {
   "cell_type": "code",
   "execution_count": 9,
   "metadata": {},
   "outputs": [
    {
     "data": {
      "image/png": "[encoded data removed]",
      "text/plain": [
       "<Figure size 1440x504 with 1 Axes>"
      ]
     },
     "metadata": {
      "needs_background": "light"
     },
     "output_type": "display_data"
    }
   ],
   "source": [
    "train_dl, valid_dl = get_data(config, df_anno, df_unanno, is_visual=True)"
   ]
  },
  {
   "cell_type": "code",
   "execution_count": 10,
   "metadata": {
    "tags": []
   },
   "outputs": [],
   "source": [
    "model = build_model(config)"
   ]
  },
  {
   "cell_type": "code",
   "execution_count": 11,
   "metadata": {},
   "outputs": [],
   "source": [
    "if torch.cuda.is_available():\n",
    "    device = torch.device('cuda')\n",
    "else:\n",
    "    device = torch.device('cpu')"
   ]
  },
  {
   "cell_type": "code",
   "execution_count": 12,
   "metadata": {},
   "outputs": [],
   "source": [
    "if config.TRAIN.IS_SSL:\n",
    "    classifier = SemiSupLearning(model = model,\n",
    "                          opt_func=config['TRAIN']['OPT_NAME'], \n",
    "                          device = device)\n",
    "else:\n",
    "    classifier = SupLearning(model = model,\n",
    "                          opt_func=config['TRAIN']['OPT_NAME'], \n",
    "                          device = device)\n",
    "classifier.get_dataloader(train_dl, valid_dl)\n",
    "classifier.get_config(config)"
   ]
  },
  {
   "cell_type": "code",
   "execution_count": 17,
   "metadata": {},
   "outputs": [],
   "source": [
    "classifier.load_checkpoint('D:\\\\model\\\\endoscopy\\\\hyper_kvasir\\\\sup_resnet50\\\\05_31_2022_17_33_39_ce.pth')"
   ]
  },
  {
   "cell_type": "code",
   "execution_count": 15,
   "metadata": {},
   "outputs": [],
   "source": [
    "# classifier.fit()"
   ]
  },
  {
   "cell_type": "code",
   "execution_count": 16,
   "metadata": {},
   "outputs": [],
   "source": [
    "# classifier.save_checkpoint('./')"
   ]
  }
 ],
 "metadata": {
  "kernelspec": {
   "display_name": "cls",
   "language": "python",
   "name": "cls"
  },
  "language_info": {
   "codemirror_mode": {
    "name": "ipython",
    "version": 3
   },
   "file_extension": ".py",
   "mimetype": "text/x-python",
   "name": "python",
   "nbconvert_exporter": "python",
   "pygments_lexer": "ipython3",
   "version": "3.6.13"
  }
 },
 "nbformat": 4,
 "nbformat_minor": 4
}
